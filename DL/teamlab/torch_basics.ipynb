{
 "cells": [
  {
   "cell_type": "markdown",
   "metadata": {
    "id": "JRWB5aeKN5i-"
   },
   "source": [
    "# Pytorch basics for DL newbies"
   ]
  },
  {
   "cell_type": "markdown",
   "metadata": {
    "id": "Bl4aBHhgN5jA"
   },
   "source": [
    "\n",
    "## numpy to tensor"
   ]
  },
  {
   "cell_type": "code",
   "execution_count": null,
   "metadata": {
    "colab": {
     "base_uri": "https://localhost:8080/"
    },
    "executionInfo": {
     "elapsed": 446,
     "status": "ok",
     "timestamp": 1628117066071,
     "user": {
      "displayName": "최성철/산업경영공학과",
      "photoUrl": "",
      "userId": "03123322103118209211"
     },
     "user_tz": -540
    },
    "id": "n-yIqv1oN5jB",
    "outputId": "77ca8138-6409-418e-c442-6df1ecda0961"
   },
   "outputs": [],
   "source": [
    "import numpy as np\n",
    "n_array = np.arange(10).reshape(2,5)\n",
    "print(n_array)\n",
    "print(\"ndim :\", n_array.ndim, \"shape :\", n_array.shape)"
   ]
  },
  {
   "cell_type": "code",
   "execution_count": null,
   "metadata": {
    "colab": {
     "base_uri": "https://localhost:8080/"
    },
    "executionInfo": {
     "elapsed": 4235,
     "status": "ok",
     "timestamp": 1628117070303,
     "user": {
      "displayName": "최성철/산업경영공학과",
      "photoUrl": "",
      "userId": "03123322103118209211"
     },
     "user_tz": -540
    },
    "id": "2Mk4ZVPTN5jC",
    "outputId": "2f43272b-d563-4846-a60a-9fbf2ac52a37"
   },
   "outputs": [],
   "source": [
    "import torch\n",
    "t_array = torch.FloatTensor(n_array)\n",
    "print(t_array)\n",
    "print(\"ndim :\", t_array.ndim, \"shape :\", t_array.shape)"
   ]
  },
  {
   "cell_type": "code",
   "execution_count": null,
   "metadata": {
    "colab": {
     "base_uri": "https://localhost:8080/"
    },
    "executionInfo": {
     "elapsed": 11,
     "status": "ok",
     "timestamp": 1628117070304,
     "user": {
      "displayName": "최성철/산업경영공학과",
      "photoUrl": "",
      "userId": "03123322103118209211"
     },
     "user_tz": -540
    },
    "id": "EChYHuaJN5jC",
    "outputId": "fae52a48-3beb-4276-a491-e595d7d0b1d4"
   },
   "outputs": [],
   "source": [
    "print(t_array.shape)\n",
    "print(t_array.ndim)\n",
    "print(t_array.size())\n"
   ]
  },
  {
   "cell_type": "markdown",
   "metadata": {
    "id": "SPor5Lh2N5jD"
   },
   "source": [
    "### Array to Tensor"
   ]
  },
  {
   "cell_type": "markdown",
   "metadata": {
    "id": "F8OyK45tN5jD"
   },
   "source": [
    "##### Data to tensor"
   ]
  },
  {
   "cell_type": "code",
   "execution_count": null,
   "metadata": {
    "colab": {
     "base_uri": "https://localhost:8080/"
    },
    "executionInfo": {
     "elapsed": 10,
     "status": "ok",
     "timestamp": 1628117070304,
     "user": {
      "displayName": "최성철/산업경영공학과",
      "photoUrl": "",
      "userId": "03123322103118209211"
     },
     "user_tz": -540
    },
    "id": "CZO3U_q0N5jE",
    "outputId": "04542082-0e98-4dba-be5b-9f1987470fa9"
   },
   "outputs": [],
   "source": [
    "data = [[3, 5],[10, 5]]\n",
    "x_data = torch.tensor(data)\n",
    "x_data"
   ]
  },
  {
   "cell_type": "markdown",
   "metadata": {
    "id": "FN23z4pBN5jE"
   },
   "source": [
    "##### ndArray to Tensor"
   ]
  },
  {
   "cell_type": "code",
   "execution_count": null,
   "metadata": {
    "colab": {
     "base_uri": "https://localhost:8080/"
    },
    "executionInfo": {
     "elapsed": 9,
     "status": "ok",
     "timestamp": 1628117070305,
     "user": {
      "displayName": "최성철/산업경영공학과",
      "photoUrl": "",
      "userId": "03123322103118209211"
     },
     "user_tz": -540
    },
    "id": "fZlYQE8UN5jF",
    "outputId": "6f089c11-aea4-4272-8f0c-6de02a1019e2"
   },
   "outputs": [],
   "source": [
    "nd_array_ex = np.array(data)\n",
    "tensor_array = torch.from_numpy(nd_array_ex)\n",
    "tensor_array"
   ]
  },
  {
   "cell_type": "markdown",
   "metadata": {
    "id": "q6dDd7Y_N5jF"
   },
   "source": [
    "### numpy like operations"
   ]
  },
  {
   "cell_type": "code",
   "execution_count": null,
   "metadata": {
    "executionInfo": {
     "elapsed": 8,
     "status": "ok",
     "timestamp": 1628117070305,
     "user": {
      "displayName": "최성철/산업경영공학과",
      "photoUrl": "",
      "userId": "03123322103118209211"
     },
     "user_tz": -540
    },
    "id": "xUFiCcy-N5jF"
   },
   "outputs": [],
   "source": [
    "data = [[3, 5, 20],[10, 5, 50], [1, 5, 10]]\n",
    "x_data = torch.tensor(data)"
   ]
  },
  {
   "cell_type": "code",
   "execution_count": null,
   "metadata": {
    "colab": {
     "base_uri": "https://localhost:8080/"
    },
    "executionInfo": {
     "elapsed": 8,
     "status": "ok",
     "timestamp": 1628117070305,
     "user": {
      "displayName": "최성철/산업경영공학과",
      "photoUrl": "",
      "userId": "03123322103118209211"
     },
     "user_tz": -540
    },
    "id": "_MIE_WChN5jG",
    "outputId": "329c803a-deef-4ad2-fc88-6e167d89a975"
   },
   "outputs": [],
   "source": [
    "x_data[1:]"
   ]
  },
  {
   "cell_type": "code",
   "execution_count": null,
   "metadata": {
    "colab": {
     "base_uri": "https://localhost:8080/"
    },
    "executionInfo": {
     "elapsed": 7,
     "status": "ok",
     "timestamp": 1628117070306,
     "user": {
      "displayName": "최성철/산업경영공학과",
      "photoUrl": "",
      "userId": "03123322103118209211"
     },
     "user_tz": -540
    },
    "id": "xSNKQBigN5jG",
    "outputId": "54eea341-8fe6-413c-9a93-b90eb8035670"
   },
   "outputs": [],
   "source": [
    "x_data[:2, 1:]"
   ]
  },
  {
   "cell_type": "code",
   "execution_count": null,
   "metadata": {
    "colab": {
     "base_uri": "https://localhost:8080/"
    },
    "executionInfo": {
     "elapsed": 2,
     "status": "ok",
     "timestamp": 1628117070578,
     "user": {
      "displayName": "최성철/산업경영공학과",
      "photoUrl": "",
      "userId": "03123322103118209211"
     },
     "user_tz": -540
    },
    "id": "hZp5ATcrN5jG",
    "outputId": "8626d191-e41b-4e0f-b5a5-a9230e6e33d0"
   },
   "outputs": [],
   "source": [
    "x_data.flatten()"
   ]
  },
  {
   "cell_type": "code",
   "execution_count": null,
   "metadata": {
    "colab": {
     "base_uri": "https://localhost:8080/"
    },
    "executionInfo": {
     "elapsed": 3,
     "status": "ok",
     "timestamp": 1628117071304,
     "user": {
      "displayName": "최성철/산업경영공학과",
      "photoUrl": "",
      "userId": "03123322103118209211"
     },
     "user_tz": -540
    },
    "id": "8SQL9E4bN5jH",
    "outputId": "83d7d475-6255-45ea-afd0-9678060e3d8b"
   },
   "outputs": [],
   "source": [
    "torch.ones_like(x_data)"
   ]
  },
  {
   "cell_type": "code",
   "execution_count": null,
   "metadata": {
    "colab": {
     "base_uri": "https://localhost:8080/"
    },
    "executionInfo": {
     "elapsed": 1,
     "status": "ok",
     "timestamp": 1628117071567,
     "user": {
      "displayName": "최성철/산업경영공학과",
      "photoUrl": "",
      "userId": "03123322103118209211"
     },
     "user_tz": -540
    },
    "id": "Y0-19-MCN5jH",
    "outputId": "2222134e-6ff8-497b-8372-3b3042436a48"
   },
   "outputs": [],
   "source": [
    "x_data.numpy()"
   ]
  },
  {
   "cell_type": "code",
   "execution_count": null,
   "metadata": {
    "colab": {
     "base_uri": "https://localhost:8080/"
    },
    "executionInfo": {
     "elapsed": 2,
     "status": "ok",
     "timestamp": 1628117072601,
     "user": {
      "displayName": "최성철/산업경영공학과",
      "photoUrl": "",
      "userId": "03123322103118209211"
     },
     "user_tz": -540
    },
    "id": "ehyPgwq9N5jH",
    "outputId": "e5883b7d-943b-4dd2-9e89-bba7a77c0818"
   },
   "outputs": [],
   "source": [
    "x_data.shape"
   ]
  },
  {
   "cell_type": "code",
   "execution_count": null,
   "metadata": {
    "colab": {
     "base_uri": "https://localhost:8080/"
    },
    "executionInfo": {
     "elapsed": 2,
     "status": "ok",
     "timestamp": 1628117072912,
     "user": {
      "displayName": "최성철/산업경영공학과",
      "photoUrl": "",
      "userId": "03123322103118209211"
     },
     "user_tz": -540
    },
    "id": "IPIgOMdSN5jH",
    "outputId": "07a95629-a3a3-4c06-a897-fa7643e817ad"
   },
   "outputs": [],
   "source": [
    "x_data.dtype"
   ]
  },
  {
   "cell_type": "code",
   "execution_count": null,
   "metadata": {
    "colab": {
     "base_uri": "https://localhost:8080/"
    },
    "executionInfo": {
     "elapsed": 3,
     "status": "ok",
     "timestamp": 1628117073526,
     "user": {
      "displayName": "최성철/산업경영공학과",
      "photoUrl": "",
      "userId": "03123322103118209211"
     },
     "user_tz": -540
    },
    "id": "ib8WvWNlN5jI",
    "outputId": "b715322e-f9f3-4a32-81b1-228e0e334e14"
   },
   "outputs": [],
   "source": [
    "x_data.device"
   ]
  },
  {
   "cell_type": "markdown",
   "metadata": {},
   "source": [
    "GPU를 사용"
   ]
  },
  {
   "cell_type": "code",
   "execution_count": null,
   "metadata": {
    "colab": {
     "base_uri": "https://localhost:8080/"
    },
    "executionInfo": {
     "elapsed": 298,
     "status": "ok",
     "timestamp": 1628117197979,
     "user": {
      "displayName": "최성철/산업경영공학과",
      "photoUrl": "",
      "userId": "03123322103118209211"
     },
     "user_tz": -540
    },
    "id": "JBsc29RPN5jI",
    "outputId": "ec4c8b9c-44b9-4c15-fd73-ef6ded3e31f3"
   },
   "outputs": [],
   "source": [
    "if torch.cuda.is_available():\n",
    "    x_data_cuda = x_data.to('cuda')\n",
    "x_data_cuda.device"
   ]
  },
  {
   "cell_type": "markdown",
   "metadata": {
    "id": "0xiM_cprN5jJ"
   },
   "source": [
    "### Tensor handling"
   ]
  },
  {
   "cell_type": "markdown",
   "metadata": {},
   "source": [
    "- view : reshape과 동일하게 tensor의 shape을 변환\n",
    "- squeeze : 차원의 개수가 1인 차원을 삭제(압축)\n",
    "- unsqueeze : 차원의 개수가 1인 차원을 추가"
   ]
  },
  {
   "cell_type": "code",
   "execution_count": null,
   "metadata": {
    "colab": {
     "base_uri": "https://localhost:8080/"
    },
    "executionInfo": {
     "elapsed": 1,
     "status": "ok",
     "timestamp": 1628117199473,
     "user": {
      "displayName": "최성철/산업경영공학과",
      "photoUrl": "",
      "userId": "03123322103118209211"
     },
     "user_tz": -540
    },
    "id": "wjkgqGuFN5jJ",
    "outputId": "99e65ca5-88f3-47d5-ee04-709e74c17b92"
   },
   "outputs": [],
   "source": [
    "tensor_ex = torch.rand(size=(2, 3, 2))\n",
    "tensor_ex"
   ]
  },
  {
   "cell_type": "code",
   "execution_count": null,
   "metadata": {
    "colab": {
     "base_uri": "https://localhost:8080/"
    },
    "executionInfo": {
     "elapsed": 2,
     "status": "ok",
     "timestamp": 1628117200405,
     "user": {
      "displayName": "최성철/산업경영공학과",
      "photoUrl": "",
      "userId": "03123322103118209211"
     },
     "user_tz": -540
    },
    "id": "r3DJdCu8N5jJ",
    "outputId": "2ce26b62-6efb-453f-b9cd-b7f2dd2f8611"
   },
   "outputs": [],
   "source": [
    "tensor_ex.view([-1, 6]) # 데이터의 연속성 보장"
   ]
  },
  {
   "cell_type": "code",
   "execution_count": null,
   "metadata": {
    "colab": {
     "base_uri": "https://localhost:8080/"
    },
    "executionInfo": {
     "elapsed": 2,
     "status": "ok",
     "timestamp": 1628117201585,
     "user": {
      "displayName": "최성철/산업경영공학과",
      "photoUrl": "",
      "userId": "03123322103118209211"
     },
     "user_tz": -540
    },
    "id": "oTocEenZN5jJ",
    "outputId": "bf3e221c-ebdd-463e-ac75-44bb01c77d8c"
   },
   "outputs": [],
   "source": [
    "tensor_ex.reshape([-1,6]) # 메모리를 실제 변형, 필요에 따라 메모리 복사해서 새로 할당(메모리 연결성이 끊기게 됨)"
   ]
  },
  {
   "cell_type": "code",
   "execution_count": null,
   "metadata": {
    "colab": {
     "base_uri": "https://localhost:8080/"
    },
    "executionInfo": {
     "elapsed": 286,
     "status": "ok",
     "timestamp": 1628117272534,
     "user": {
      "displayName": "최성철/산업경영공학과",
      "photoUrl": "",
      "userId": "03123322103118209211"
     },
     "user_tz": -540
    },
    "id": "4wBPOpKEN5jK",
    "outputId": "1c7635fd-96f6-43cd-b790-e8174c717cbf"
   },
   "outputs": [],
   "source": [
    "a = torch.zeros(3, 2)\n",
    "b = a.view(2, 3)\n",
    "a.fill_(1)"
   ]
  },
  {
   "cell_type": "code",
   "execution_count": null,
   "metadata": {
    "colab": {
     "base_uri": "https://localhost:8080/"
    },
    "executionInfo": {
     "elapsed": 1,
     "status": "ok",
     "timestamp": 1628117272784,
     "user": {
      "displayName": "최성철/산업경영공학과",
      "photoUrl": "",
      "userId": "03123322103118209211"
     },
     "user_tz": -540
    },
    "id": "qCHlyd2zN5jK",
    "outputId": "02e188bd-b3c7-42bb-a3dd-161ebed91219"
   },
   "outputs": [],
   "source": [
    "a"
   ]
  },
  {
   "cell_type": "code",
   "execution_count": null,
   "metadata": {
    "colab": {
     "base_uri": "https://localhost:8080/"
    },
    "executionInfo": {
     "elapsed": 257,
     "status": "ok",
     "timestamp": 1628117275298,
     "user": {
      "displayName": "최성철/산업경영공학과",
      "photoUrl": "",
      "userId": "03123322103118209211"
     },
     "user_tz": -540
    },
    "id": "Hqj0bZl-N5jK",
    "outputId": "dca72c70-3a5c-4348-e3e1-ac4e35bb4f97"
   },
   "outputs": [],
   "source": [
    "b"
   ]
  },
  {
   "cell_type": "code",
   "execution_count": null,
   "metadata": {
    "colab": {
     "base_uri": "https://localhost:8080/"
    },
    "executionInfo": {
     "elapsed": 268,
     "status": "ok",
     "timestamp": 1628117301699,
     "user": {
      "displayName": "최성철/산업경영공학과",
      "photoUrl": "",
      "userId": "03123322103118209211"
     },
     "user_tz": -540
    },
    "id": "Kqox9_YgN5jL",
    "outputId": "a5822a85-3ffd-4345-ec32-71ce1be22a79"
   },
   "outputs": [],
   "source": [
    "a = torch.zeros(3, 2)\n",
    "b = a.t().reshape(6)\n",
    "a.fill_(1)"
   ]
  },
  {
   "cell_type": "code",
   "execution_count": null,
   "metadata": {
    "colab": {
     "base_uri": "https://localhost:8080/"
    },
    "executionInfo": {
     "elapsed": 2,
     "status": "ok",
     "timestamp": 1628117302051,
     "user": {
      "displayName": "최성철/산업경영공학과",
      "photoUrl": "",
      "userId": "03123322103118209211"
     },
     "user_tz": -540
    },
    "id": "wnO-K6RGN5jL",
    "outputId": "9be69b32-c7d0-461c-d763-8858270bdec1"
   },
   "outputs": [],
   "source": [
    "a"
   ]
  },
  {
   "cell_type": "code",
   "execution_count": null,
   "metadata": {
    "colab": {
     "base_uri": "https://localhost:8080/"
    },
    "executionInfo": {
     "elapsed": 2,
     "status": "ok",
     "timestamp": 1628117302900,
     "user": {
      "displayName": "최성철/산업경영공학과",
      "photoUrl": "",
      "userId": "03123322103118209211"
     },
     "user_tz": -540
    },
    "id": "DYBdLyZIN5jL",
    "outputId": "2816b658-4abe-4948-9547-59c0fe5ad8e8"
   },
   "outputs": [],
   "source": [
    "b"
   ]
  },
  {
   "cell_type": "code",
   "execution_count": null,
   "metadata": {
    "colab": {
     "base_uri": "https://localhost:8080/"
    },
    "executionInfo": {
     "elapsed": 255,
     "status": "ok",
     "timestamp": 1628117580054,
     "user": {
      "displayName": "최성철/산업경영공학과",
      "photoUrl": "",
      "userId": "03123322103118209211"
     },
     "user_tz": -540
    },
    "id": "jgWpOvajN5jM",
    "outputId": "c10bfe9b-91fa-43c1-9905-313b227035b3"
   },
   "outputs": [],
   "source": [
    "tensor_ex = torch.rand(size=(2, 1, 2))\n",
    "tensor_ex.squeeze()"
   ]
  },
  {
   "cell_type": "code",
   "execution_count": null,
   "metadata": {
    "colab": {
     "base_uri": "https://localhost:8080/"
    },
    "executionInfo": {
     "elapsed": 251,
     "status": "ok",
     "timestamp": 1628117584289,
     "user": {
      "displayName": "최성철/산업경영공학과",
      "photoUrl": "",
      "userId": "03123322103118209211"
     },
     "user_tz": -540
    },
    "id": "buapxNy2N5jM",
    "outputId": "b7f3571e-d3bf-4a09-e0b8-06cfa97da2f9"
   },
   "outputs": [],
   "source": [
    "tensor_ex = torch.rand(size=(2, 2))\n",
    "tensor_ex.unsqueeze(0).shape"
   ]
  },
  {
   "cell_type": "code",
   "execution_count": null,
   "metadata": {
    "colab": {
     "base_uri": "https://localhost:8080/"
    },
    "executionInfo": {
     "elapsed": 1,
     "status": "ok",
     "timestamp": 1628117585810,
     "user": {
      "displayName": "최성철/산업경영공학과",
      "photoUrl": "",
      "userId": "03123322103118209211"
     },
     "user_tz": -540
    },
    "id": "8Cr3Sk1zN5jM",
    "outputId": "51df699f-dfec-4b72-bd26-aed2299c819c"
   },
   "outputs": [],
   "source": [
    "tensor_ex.unsqueeze(1).shape"
   ]
  },
  {
   "cell_type": "code",
   "execution_count": null,
   "metadata": {
    "colab": {
     "base_uri": "https://localhost:8080/"
    },
    "executionInfo": {
     "elapsed": 247,
     "status": "ok",
     "timestamp": 1628117587189,
     "user": {
      "displayName": "최성철/산업경영공학과",
      "photoUrl": "",
      "userId": "03123322103118209211"
     },
     "user_tz": -540
    },
    "id": "nytJgSjON5jM",
    "outputId": "b8ecc206-6884-4633-baac-0ce5dc5d6d20"
   },
   "outputs": [],
   "source": [
    "tensor_ex.unsqueeze(2).shape"
   ]
  },
  {
   "cell_type": "markdown",
   "metadata": {
    "id": "IM5lPMY1N5jN"
   },
   "source": [
    "## tensor operations"
   ]
  },
  {
   "cell_type": "code",
   "execution_count": null,
   "metadata": {
    "colab": {
     "base_uri": "https://localhost:8080/"
    },
    "executionInfo": {
     "elapsed": 281,
     "status": "ok",
     "timestamp": 1628117620934,
     "user": {
      "displayName": "최성철/산업경영공학과",
      "photoUrl": "",
      "userId": "03123322103118209211"
     },
     "user_tz": -540
    },
    "id": "09Hj_soyN5jN",
    "outputId": "156a5190-1636-450a-bf46-472b28ccf031"
   },
   "outputs": [],
   "source": [
    "n1 = np.arange(10).reshape(2,5)\n",
    "n2 = np.arange(10).reshape(5,2)\n",
    "t1 = torch.FloatTensor(n1)\n",
    "t2 = torch.FloatTensor(n2)\n",
    "\n",
    "t1 + t1"
   ]
  },
  {
   "cell_type": "code",
   "execution_count": null,
   "metadata": {
    "colab": {
     "base_uri": "https://localhost:8080/"
    },
    "executionInfo": {
     "elapsed": 265,
     "status": "ok",
     "timestamp": 1628117622682,
     "user": {
      "displayName": "최성철/산업경영공학과",
      "photoUrl": "",
      "userId": "03123322103118209211"
     },
     "user_tz": -540
    },
    "id": "NX-UhzIvN5jN",
    "outputId": "f3b392f7-4139-418c-a7a9-df28066656e8"
   },
   "outputs": [],
   "source": [
    "t1 - t1"
   ]
  },
  {
   "cell_type": "code",
   "execution_count": null,
   "metadata": {
    "colab": {
     "base_uri": "https://localhost:8080/"
    },
    "executionInfo": {
     "elapsed": 2,
     "status": "ok",
     "timestamp": 1628117623839,
     "user": {
      "displayName": "최성철/산업경영공학과",
      "photoUrl": "",
      "userId": "03123322103118209211"
     },
     "user_tz": -540
    },
    "id": "5kPV0pZfN5jO",
    "outputId": "c0ec9bdb-7ff9-41d4-a5ea-b2603240c33b"
   },
   "outputs": [],
   "source": [
    "t1 + 10"
   ]
  },
  {
   "cell_type": "code",
   "execution_count": null,
   "metadata": {
    "colab": {
     "base_uri": "https://localhost:8080/",
     "height": 170
    },
    "executionInfo": {
     "elapsed": 261,
     "status": "error",
     "timestamp": 1628117627465,
     "user": {
      "displayName": "최성철/산업경영공학과",
      "photoUrl": "",
      "userId": "03123322103118209211"
     },
     "user_tz": -540
    },
    "id": "qHpWDX8_N5jO",
    "outputId": "64d78c8a-dc28-41c6-d062-dbeb82b7eb49"
   },
   "outputs": [],
   "source": [
    "t1 + t2"
   ]
  },
  {
   "cell_type": "code",
   "execution_count": null,
   "metadata": {
    "colab": {
     "base_uri": "https://localhost:8080/"
    },
    "executionInfo": {
     "elapsed": 251,
     "status": "ok",
     "timestamp": 1628117638576,
     "user": {
      "displayName": "최성철/산업경영공학과",
      "photoUrl": "",
      "userId": "03123322103118209211"
     },
     "user_tz": -540
    },
    "id": "JgJYMq2PN5jO",
    "outputId": "68e2ea65-f825-45ce-f967-a615cf160743"
   },
   "outputs": [],
   "source": [
    "t1 - t1"
   ]
  },
  {
   "cell_type": "code",
   "execution_count": null,
   "metadata": {
    "colab": {
     "base_uri": "https://localhost:8080/"
    },
    "executionInfo": {
     "elapsed": 2,
     "status": "ok",
     "timestamp": 1628117639637,
     "user": {
      "displayName": "최성철/산업경영공학과",
      "photoUrl": "",
      "userId": "03123322103118209211"
     },
     "user_tz": -540
    },
    "id": "70Q6IT3JN5jP",
    "outputId": "4536d7a0-e12b-442a-c575-3f54e7f3bb64"
   },
   "outputs": [],
   "source": [
    "t1 + 10"
   ]
  },
  {
   "cell_type": "code",
   "execution_count": null,
   "metadata": {
    "colab": {
     "base_uri": "https://localhost:8080/"
    },
    "executionInfo": {
     "elapsed": 249,
     "status": "ok",
     "timestamp": 1628117694309,
     "user": {
      "displayName": "최성철/산업경영공학과",
      "photoUrl": "",
      "userId": "03123322103118209211"
     },
     "user_tz": -540
    },
    "id": "CFrG-8w6N5jP",
    "outputId": "c0f38def-3e4b-44d2-8f4f-b227edbbd7f5"
   },
   "outputs": [],
   "source": [
    "n2 = np.arange(10).reshape(5,2)\n",
    "t2 = torch.FloatTensor(n2)\n",
    "\n",
    "t1.mm(t2)"
   ]
  },
  {
   "cell_type": "code",
   "execution_count": null,
   "metadata": {
    "colab": {
     "base_uri": "https://localhost:8080/",
     "height": 170
    },
    "executionInfo": {
     "elapsed": 245,
     "status": "error",
     "timestamp": 1628117706152,
     "user": {
      "displayName": "최성철/산업경영공학과",
      "photoUrl": "",
      "userId": "03123322103118209211"
     },
     "user_tz": -540
    },
    "id": "P06idjd3N5jP",
    "outputId": "21791c46-a2eb-472c-fd3b-2317d816e4a1"
   },
   "outputs": [],
   "source": [
    "t1.dot(t2)"
   ]
  },
  {
   "cell_type": "code",
   "execution_count": null,
   "metadata": {
    "colab": {
     "base_uri": "https://localhost:8080/"
    },
    "executionInfo": {
     "elapsed": 243,
     "status": "ok",
     "timestamp": 1628117710075,
     "user": {
      "displayName": "최성철/산업경영공학과",
      "photoUrl": "",
      "userId": "03123322103118209211"
     },
     "user_tz": -540
    },
    "id": "kZpYjjvJN5jQ",
    "outputId": "b9b91cb8-d95c-4a94-86e2-810ca5624ed4"
   },
   "outputs": [],
   "source": [
    "t1.matmul(t2)\n"
   ]
  },
  {
   "cell_type": "code",
   "execution_count": null,
   "metadata": {
    "colab": {
     "base_uri": "https://localhost:8080/"
    },
    "executionInfo": {
     "elapsed": 3,
     "status": "ok",
     "timestamp": 1628117749545,
     "user": {
      "displayName": "최성철/산업경영공학과",
      "photoUrl": "",
      "userId": "03123322103118209211"
     },
     "user_tz": -540
    },
    "id": "6bZhm6juN5jQ",
    "outputId": "b96de3d1-0c12-4f17-98d9-fd2c6f666bd6"
   },
   "outputs": [],
   "source": [
    "a = torch.rand(10)\n",
    "b = torch.rand(10)\n",
    "a.dot(b)"
   ]
  },
  {
   "cell_type": "code",
   "execution_count": null,
   "metadata": {
    "colab": {
     "base_uri": "https://localhost:8080/"
    },
    "executionInfo": {
     "elapsed": 1,
     "status": "ok",
     "timestamp": 1628117750992,
     "user": {
      "displayName": "최성철/산업경영공학과",
      "photoUrl": "",
      "userId": "03123322103118209211"
     },
     "user_tz": -540
    },
    "id": "9oA1C1glYUyV",
    "outputId": "357c4e7e-1c99-4aa5-fbeb-a818e36177bb"
   },
   "outputs": [],
   "source": [
    "a"
   ]
  },
  {
   "cell_type": "code",
   "execution_count": null,
   "metadata": {
    "colab": {
     "base_uri": "https://localhost:8080/",
     "height": 206
    },
    "executionInfo": {
     "elapsed": 250,
     "status": "error",
     "timestamp": 1628117756593,
     "user": {
      "displayName": "최성철/산업경영공학과",
      "photoUrl": "",
      "userId": "03123322103118209211"
     },
     "user_tz": -540
    },
    "id": "YIIrzLfjN5jQ",
    "outputId": "66968f88-e247-4d3e-830f-8af03afbd38a"
   },
   "outputs": [],
   "source": [
    "a = torch.rand(10)\n",
    "b = torch.rand(10)\n",
    "a.mm(b)"
   ]
  },
  {
   "cell_type": "code",
   "execution_count": null,
   "metadata": {
    "colab": {
     "base_uri": "https://localhost:8080/",
     "height": 170
    },
    "executionInfo": {
     "elapsed": 282,
     "status": "error",
     "timestamp": 1628117768784,
     "user": {
      "displayName": "최성철/산업경영공학과",
      "photoUrl": "",
      "userId": "03123322103118209211"
     },
     "user_tz": -540
    },
    "id": "D8SLjSOvN5jQ",
    "outputId": "50e82732-ec0e-4b65-fa76-6bdf89de5f43"
   },
   "outputs": [],
   "source": [
    "t1.dot(t2)"
   ]
  },
  {
   "cell_type": "code",
   "execution_count": null,
   "metadata": {
    "colab": {
     "base_uri": "https://localhost:8080/"
    },
    "executionInfo": {
     "elapsed": 257,
     "status": "ok",
     "timestamp": 1628117770405,
     "user": {
      "displayName": "최성철/산업경영공학과",
      "photoUrl": "",
      "userId": "03123322103118209211"
     },
     "user_tz": -540
    },
    "id": "UUZxVe_sN5jQ",
    "outputId": "1ad78d36-bd7d-499b-cd05-313ae8b28529"
   },
   "outputs": [],
   "source": [
    "t1.matmul(t2)"
   ]
  },
  {
   "cell_type": "code",
   "execution_count": null,
   "metadata": {
    "colab": {
     "base_uri": "https://localhost:8080/"
    },
    "executionInfo": {
     "elapsed": 392,
     "status": "ok",
     "timestamp": 1628117892699,
     "user": {
      "displayName": "최성철/산업경영공학과",
      "photoUrl": "",
      "userId": "03123322103118209211"
     },
     "user_tz": -540
    },
    "id": "DKOs_RNiN5jR",
    "outputId": "0b69e3af-fb2e-4403-a7e4-593f6f1e5cbc"
   },
   "outputs": [],
   "source": [
    "a = torch.rand(10)\n",
    "b = torch.rand(10)\n",
    "a.dot(b)"
   ]
  },
  {
   "cell_type": "code",
   "execution_count": null,
   "metadata": {
    "colab": {
     "base_uri": "https://localhost:8080/",
     "height": 206
    },
    "executionInfo": {
     "elapsed": 3,
     "status": "error",
     "timestamp": 1628117892979,
     "user": {
      "displayName": "최성철/산업경영공학과",
      "photoUrl": "",
      "userId": "03123322103118209211"
     },
     "user_tz": -540
    },
    "id": "L6utY-VfN5jR",
    "outputId": "531d745f-1803-4b6b-fc60-9a16483f8110"
   },
   "outputs": [],
   "source": [
    "a = torch.rand(10)\n",
    "b = torch.rand(10)\n",
    "a.mm(b)"
   ]
  },
  {
   "cell_type": "code",
   "execution_count": null,
   "metadata": {
    "colab": {
     "base_uri": "https://localhost:8080/",
     "height": 206
    },
    "executionInfo": {
     "elapsed": 243,
     "status": "error",
     "timestamp": 1628117898095,
     "user": {
      "displayName": "최성철/산업경영공학과",
      "photoUrl": "",
      "userId": "03123322103118209211"
     },
     "user_tz": -540
    },
    "id": "XgWGNEfpN5jR",
    "outputId": "9d3b32cc-cea2-41f6-e1a3-2d28d3a580ce"
   },
   "outputs": [],
   "source": [
    "a = torch.rand(5,2, 3)\n",
    "b = torch.rand(5)\n",
    "a.mm(b)"
   ]
  },
  {
   "cell_type": "code",
   "execution_count": null,
   "metadata": {
    "colab": {
     "base_uri": "https://localhost:8080/"
    },
    "executionInfo": {
     "elapsed": 2,
     "status": "ok",
     "timestamp": 1628117899467,
     "user": {
      "displayName": "최성철/산업경영공학과",
      "photoUrl": "",
      "userId": "03123322103118209211"
     },
     "user_tz": -540
    },
    "id": "JsEeoOZBN5jR",
    "outputId": "77194b0a-d70f-4cd4-bfd7-1dba83f7e22d"
   },
   "outputs": [],
   "source": [
    "a = torch.rand(5,2, 3)\n",
    "b = torch.rand(3)\n",
    "a.matmul(b)"
   ]
  },
  {
   "cell_type": "code",
   "execution_count": null,
   "metadata": {
    "colab": {
     "base_uri": "https://localhost:8080/"
    },
    "executionInfo": {
     "elapsed": 298,
     "status": "ok",
     "timestamp": 1628118107864,
     "user": {
      "displayName": "최성철/산업경영공학과",
      "photoUrl": "",
      "userId": "03123322103118209211"
     },
     "user_tz": -540
    },
    "id": "JJaSEmQxN5jR",
    "outputId": "1c0b87b2-4a17-4d5b-8277-6f2b2a13255d"
   },
   "outputs": [],
   "source": [
    "a[0].mm(torch.unsqueeze(b,1)).squeeze()\n",
    "\n"
   ]
  },
  {
   "cell_type": "code",
   "execution_count": null,
   "metadata": {
    "colab": {
     "base_uri": "https://localhost:8080/"
    },
    "executionInfo": {
     "elapsed": 2,
     "status": "ok",
     "timestamp": 1628118108697,
     "user": {
      "displayName": "최성철/산업경영공학과",
      "photoUrl": "",
      "userId": "03123322103118209211"
     },
     "user_tz": -540
    },
    "id": "5ff9pT1PZUda",
    "outputId": "2d058a09-b6db-4687-92c6-ee2ab8913247"
   },
   "outputs": [],
   "source": [
    "a[1].mm(torch.unsqueeze(b,1))\n"
   ]
  },
  {
   "cell_type": "code",
   "execution_count": null,
   "metadata": {
    "colab": {
     "base_uri": "https://localhost:8080/"
    },
    "executionInfo": {
     "elapsed": 4,
     "status": "ok",
     "timestamp": 1628118108943,
     "user": {
      "displayName": "최성철/산업경영공학과",
      "photoUrl": "",
      "userId": "03123322103118209211"
     },
     "user_tz": -540
    },
    "id": "f3dFn-G5ZVMO",
    "outputId": "b65f9819-4c16-4737-9ab0-d4ffb056d276"
   },
   "outputs": [],
   "source": [
    "a[2].mm(torch.unsqueeze(b,1))\n"
   ]
  },
  {
   "cell_type": "code",
   "execution_count": null,
   "metadata": {
    "colab": {
     "base_uri": "https://localhost:8080/"
    },
    "executionInfo": {
     "elapsed": 3,
     "status": "ok",
     "timestamp": 1628118108943,
     "user": {
      "displayName": "최성철/산업경영공학과",
      "photoUrl": "",
      "userId": "03123322103118209211"
     },
     "user_tz": -540
    },
    "id": "KhZINtbUZVwq",
    "outputId": "e2ec819d-347f-44bc-cdb0-139b75c3726e"
   },
   "outputs": [],
   "source": [
    "a[3].mm(torch.unsqueeze(b,1))\n"
   ]
  },
  {
   "cell_type": "code",
   "execution_count": null,
   "metadata": {
    "colab": {
     "base_uri": "https://localhost:8080/"
    },
    "executionInfo": {
     "elapsed": 3,
     "status": "ok",
     "timestamp": 1628118109208,
     "user": {
      "displayName": "최성철/산업경영공학과",
      "photoUrl": "",
      "userId": "03123322103118209211"
     },
     "user_tz": -540
    },
    "id": "SJaNjcHhZWaZ",
    "outputId": "7311be5c-f16b-49da-80cc-2c0ac3635ad4"
   },
   "outputs": [],
   "source": [
    "a[4].mm(torch.unsqueeze(b,1))\n"
   ]
  },
  {
   "cell_type": "markdown",
   "metadata": {
    "id": "ZDIzFoInN5jS"
   },
   "source": [
    "## tensor operations for ML/DL formula"
   ]
  },
  {
   "cell_type": "code",
   "execution_count": null,
   "metadata": {
    "colab": {
     "base_uri": "https://localhost:8080/"
    },
    "executionInfo": {
     "elapsed": 376,
     "status": "ok",
     "timestamp": 1628118113748,
     "user": {
      "displayName": "최성철/산업경영공학과",
      "photoUrl": "",
      "userId": "03123322103118209211"
     },
     "user_tz": -540
    },
    "id": "HPRys6VgN5jS",
    "outputId": "f84006ef-5765-4273-de56-bb8b145484dd"
   },
   "outputs": [],
   "source": [
    "import torch\n",
    "import torch.nn.functional as F\n",
    "\n",
    "tensor = torch.FloatTensor([0.5, 0.7, 0.1])\n",
    "h_tensor = F.softmax(tensor, dim=0)\n",
    "h_tensor\n"
   ]
  },
  {
   "cell_type": "code",
   "execution_count": null,
   "metadata": {
    "colab": {
     "base_uri": "https://localhost:8080/"
    },
    "executionInfo": {
     "elapsed": 248,
     "status": "ok",
     "timestamp": 1628118115244,
     "user": {
      "displayName": "최성철/산업경영공학과",
      "photoUrl": "",
      "userId": "03123322103118209211"
     },
     "user_tz": -540
    },
    "id": "cIMjivSAN5jS",
    "outputId": "f76f4ff5-4b84-4bbf-83ca-57a960255602"
   },
   "outputs": [],
   "source": [
    "y = torch.randint(5, (10,5))\n",
    "y_label = y.argmax(dim=1)\n",
    "\n",
    "y_label"
   ]
  },
  {
   "cell_type": "code",
   "execution_count": null,
   "metadata": {
    "colab": {
     "base_uri": "https://localhost:8080/"
    },
    "executionInfo": {
     "elapsed": 342,
     "status": "ok",
     "timestamp": 1628118117642,
     "user": {
      "displayName": "최성철/산업경영공학과",
      "photoUrl": "",
      "userId": "03123322103118209211"
     },
     "user_tz": -540
    },
    "id": "fuVy1MZMN5jT",
    "outputId": "a227747d-5bdf-4218-f7a2-1e24af2e1d49"
   },
   "outputs": [],
   "source": [
    "torch.nn.functional.one_hot(y_label)"
   ]
  },
  {
   "cell_type": "code",
   "execution_count": null,
   "metadata": {
    "colab": {
     "base_uri": "https://localhost:8080/"
    },
    "executionInfo": {
     "elapsed": 361,
     "status": "ok",
     "timestamp": 1628118123690,
     "user": {
      "displayName": "최성철/산업경영공학과",
      "photoUrl": "",
      "userId": "03123322103118209211"
     },
     "user_tz": -540
    },
    "id": "CAzkQY8YN5jT",
    "outputId": "250af859-259f-46b2-c2f0-01181ac84328"
   },
   "outputs": [],
   "source": [
    "torch.nn.functional.one_hot(y_label)\n"
   ]
  },
  {
   "cell_type": "code",
   "execution_count": null,
   "metadata": {
    "colab": {
     "base_uri": "https://localhost:8080/"
    },
    "executionInfo": {
     "elapsed": 249,
     "status": "ok",
     "timestamp": 1628118125749,
     "user": {
      "displayName": "최성철/산업경영공학과",
      "photoUrl": "",
      "userId": "03123322103118209211"
     },
     "user_tz": -540
    },
    "id": "UfVuJARjN5jT",
    "outputId": "47250ebe-e7f4-4efa-d061-94ecfa8dd804"
   },
   "outputs": [],
   "source": [
    "import itertools\n",
    "a = [1, 2, 3]\n",
    "b = [4, 5]\n",
    "list(itertools.product(a, b))"
   ]
  },
  {
   "cell_type": "code",
   "execution_count": null,
   "metadata": {
    "colab": {
     "base_uri": "https://localhost:8080/"
    },
    "executionInfo": {
     "elapsed": 254,
     "status": "ok",
     "timestamp": 1628118132368,
     "user": {
      "displayName": "최성철/산업경영공학과",
      "photoUrl": "",
      "userId": "03123322103118209211"
     },
     "user_tz": -540
    },
    "id": "SMKwp-0cN5jT",
    "outputId": "76e248e0-ffa8-4944-9c34-a5589a41d4c5"
   },
   "outputs": [],
   "source": [
    "tensor_a = torch.tensor(a)\n",
    "tensor_b = torch.tensor(b)\n",
    "torch.cartesian_prod(tensor_a, tensor_b)"
   ]
  },
  {
   "cell_type": "markdown",
   "metadata": {
    "id": "l3h8-M-0N5jU"
   },
   "source": [
    "## torch autogard"
   ]
  },
  {
   "cell_type": "markdown",
   "metadata": {
    "id": "pTIUbRTnN5jU"
   },
   "source": [
    "$$\n",
    "y = w^2 \\\\ \n",
    "z = 10*y + 25 \\\\\n",
    "z = 10*w^2 + 25 \n",
    "$$"
   ]
  },
  {
   "cell_type": "code",
   "execution_count": null,
   "metadata": {
    "colab": {
     "base_uri": "https://localhost:8080/"
    },
    "executionInfo": {
     "elapsed": 243,
     "status": "ok",
     "timestamp": 1628118285687,
     "user": {
      "displayName": "최성철/산업경영공학과",
      "photoUrl": "",
      "userId": "03123322103118209211"
     },
     "user_tz": -540
    },
    "id": "cVSyqVYwN5jU",
    "outputId": "c93dfdc2-c52d-4bc7-d819-bdfd5a549111"
   },
   "outputs": [],
   "source": [
    "w = torch.tensor(2.0, requires_grad=True)\n",
    "y = w**2\n",
    "z = 10*y + 50\n",
    "z.backward()\n",
    "w.grad"
   ]
  },
  {
   "cell_type": "code",
   "execution_count": null,
   "metadata": {
    "colab": {
     "base_uri": "https://localhost:8080/"
    },
    "executionInfo": {
     "elapsed": 2,
     "status": "ok",
     "timestamp": 1628118286782,
     "user": {
      "displayName": "최성철/산업경영공학과",
      "photoUrl": "",
      "userId": "03123322103118209211"
     },
     "user_tz": -540
    },
    "id": "EI94ln7WN5jU",
    "outputId": "7f2c493a-ebb2-470c-da38-3caed15b33b7"
   },
   "outputs": [],
   "source": [
    "w.grad"
   ]
  },
  {
   "cell_type": "markdown",
   "metadata": {
    "id": "ZG3RgGwNN5jU"
   },
   "source": [
    "$$ Q = 3a^3 - b^2  $$"
   ]
  },
  {
   "cell_type": "code",
   "execution_count": null,
   "metadata": {
    "colab": {
     "base_uri": "https://localhost:8080/"
    },
    "executionInfo": {
     "elapsed": 253,
     "status": "ok",
     "timestamp": 1628118327944,
     "user": {
      "displayName": "최성철/산업경영공학과",
      "photoUrl": "",
      "userId": "03123322103118209211"
     },
     "user_tz": -540
    },
    "id": "W5PUs3OkN5jV",
    "outputId": "35d0c923-79ba-43a3-8bf7-000abda32d66"
   },
   "outputs": [],
   "source": [
    "a = torch.tensor([2., 3.], requires_grad=True)\n",
    "b = torch.tensor([6., 4.], requires_grad=True)\n",
    "Q = 3*a**3 - b**2\n",
    "external_grad = torch.tensor([1., 1.])\n",
    "Q.backward(gradient=external_grad)\n",
    "\n",
    "a.grad "
   ]
  },
  {
   "cell_type": "code",
   "execution_count": null,
   "metadata": {
    "colab": {
     "base_uri": "https://localhost:8080/"
    },
    "executionInfo": {
     "elapsed": 240,
     "status": "ok",
     "timestamp": 1628118340052,
     "user": {
      "displayName": "최성철/산업경영공학과",
      "photoUrl": "",
      "userId": "03123322103118209211"
     },
     "user_tz": -540
    },
    "id": "QsxIYY3ZN5jV",
    "outputId": "566dbb49-0db8-4748-9157-7459a9e07e1c"
   },
   "outputs": [],
   "source": [
    "b.grad"
   ]
  },
  {
   "cell_type": "markdown",
   "metadata": {
    "id": "FVGgC9dKN5jV"
   },
   "source": [
    "$$ \\frac{\\partial Q}{\\partial a} = 9a^2 $$  \n",
    "\n",
    "$$ \\frac{\\partial Q}{\\partial b} = -2b $$"
   ]
  },
  {
   "cell_type": "code",
   "execution_count": null,
   "metadata": {
    "id": "2hT1rR8pN5jV"
   },
   "outputs": [],
   "source": [
    "a.grad"
   ]
  },
  {
   "cell_type": "code",
   "execution_count": null,
   "metadata": {
    "id": "KHj8pAalN5jV"
   },
   "outputs": [],
   "source": [
    "b.grad"
   ]
  }
 ],
 "metadata": {
  "accelerator": "GPU",
  "colab": {
   "name": "torch_basics.ipynb",
   "provenance": []
  },
  "kernelspec": {
   "display_name": "Lablup FF 20.07 on Python 3.6 (CUDA 10.1)",
   "language": "python",
   "name": "python3"
  },
  "language_info": {
   "codemirror_mode": {
    "name": "ipython",
    "version": 3
   },
   "file_extension": ".py",
   "mimetype": "text/x-python",
   "name": "python",
   "nbconvert_exporter": "python",
   "pygments_lexer": "ipython3",
   "version": "3.6.9"
  }
 },
 "nbformat": 4,
 "nbformat_minor": 1
}
