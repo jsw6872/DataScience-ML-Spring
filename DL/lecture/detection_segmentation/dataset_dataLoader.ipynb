{
 "cells": [
  {
   "cell_type": "code",
   "execution_count": 3,
   "metadata": {},
   "outputs": [],
   "source": [
    "import os\n",
    "import random\n",
    "# XML 다루는 라이브러리\n",
    "import xml.etree.ElementTree as ET\n",
    "\n",
    "import cv2\n",
    "import matplotlib.pyplot as plt\n",
    "import numpy as np\n",
    "import torch\n",
    "import torch.utils.data as data\n",
    "\n",
    "%matplotlib inline"
   ]
  },
  {
   "cell_type": "code",
   "execution_count": 2,
   "metadata": {},
   "outputs": [],
   "source": [
    "torch.manual_seed(1234)\n",
    "np.random.seed(1234)\n",
    "random.seed(1234)"
   ]
  },
  {
   "cell_type": "code",
   "execution_count": 28,
   "metadata": {},
   "outputs": [],
   "source": [
    "# 학습 및 검증용 화상 데이터, 어노테이션 데이터 파일 경로 리스트 작성\n",
    "def make_datapath_list(rootpath):\n",
    "    img_file_path = os.path.join(rootpath, 'JPEGImages', '%s.jpg') # %연산 시 3번째 arg형태로 파일명이 됨\n",
    "    annotation_path = os.path.join(rootpath, 'Annotations', '%s.xml')\n",
    "\n",
    "    train_file_id = os.path.join(rootpath + 'ImageSets/Main/train.txt')\n",
    "    val_file_id = os.path.join(rootpath + 'ImageSets/Main/val.txt')\n",
    "\n",
    "    train_img_list = []\n",
    "    train_annotation_list = []\n",
    "\n",
    "    for line in open(train_file_id): # txt파일을 한줄씩 읽어옴\n",
    "        file_id = line.strip() \n",
    "        img_file_name = (img_file_path % file_id)  # 画像のパス\n",
    "        anno_file_name = (annotation_path % file_id)  # アノテーションのパス\n",
    "        train_img_list.append(img_file_name)  # リストに追加\n",
    "        train_annotation_list.append(anno_file_name)  # リストに追加\n",
    "\n",
    "    val_img_list = []\n",
    "    val_annotation_list = []\n",
    "\n",
    "    for line in open(val_file_id): # txt파일을 한줄씩 읽어옴\n",
    "        file_id = line.strip()  \n",
    "        img_file_name = (img_file_path % file_id)  # 画像のパス\n",
    "        anno_file_name = (annotation_path % file_id)  # アノテーションのパス\n",
    "        val_img_list.append(img_file_name)  # リストに追加\n",
    "        val_annotation_list.append(anno_file_name)  # リストに追加\n",
    "\n",
    "    return train_img_list, train_annotation_list, val_img_list, val_annotation_list"
   ]
  },
  {
   "cell_type": "code",
   "execution_count": 29,
   "metadata": {},
   "outputs": [
    {
     "name": "stdout",
     "output_type": "stream",
     "text": [
      "./data/VOCdevkit/VOC2012/JPEGImages/2008_000008.jpg\n"
     ]
    }
   ],
   "source": [
    "rootpath = './data/VOCdevkit/VOC2012/'\n",
    "train_img_list, train_anno_list, val_img_list, val_anno_list = make_datapath_list(rootpath)\n",
    "\n",
    "print(train_img_list[0])"
   ]
  },
  {
   "cell_type": "code",
   "execution_count": 34,
   "metadata": {},
   "outputs": [],
   "source": [
    "class Anno_xml2list(object): \n",
    "    def __init__(self, classes):\n",
    "\n",
    "        self.classes = classes\n",
    "\n",
    "    def __call__(self, xml_path, width, height):\n",
    "        # 물체의 어노테이션 데이터를 저장한 리스트. 이미지에 존재하는 물체 수만큼 len을 가짐.\n",
    "        ret = [] #ret : [[xmin, ymin, xmax, ymax, label_ind], ... ]\n",
    "\n",
    "        # xml파일로드\n",
    "        xml = ET.parse(xml_path).getroot()\n",
    "\n",
    "        # xml에서 <object>의 수만큼 반복\n",
    "        for obj in xml.iter('object'):\n",
    "\n",
    "            difficult = int(obj.find('difficult').text)\n",
    "            if difficult == 1:\n",
    "                continue\n",
    "\n",
    "            # 한 물체의 바운딩 박스 어노테이션 정보를 저장하는 리스트\n",
    "            bndbox = []\n",
    "\n",
    "            name = obj.find('name').text.lower().strip()  # 물체이름\n",
    "            bbox = obj.find('bndbox')  # 바운딩박스 정보\n",
    "\n",
    "            pts = ['xmin', 'ymin', 'xmax', 'ymax']\n",
    "\n",
    "            for pt in (pts):\n",
    "                # VOC데이터셋은 원점이 (1,1)이므로 빼줌\n",
    "                cur_pixel = int(bbox.find(pt).text) - 1\n",
    "\n",
    "                # 정규화\n",
    "                if pt == 'xmin' or pt == 'xmax':  # x의 경우 width로 나눔\n",
    "                    cur_pixel /= width\n",
    "                else:  # y는 높이인 height로 나눔\n",
    "                    cur_pixel /= height\n",
    "\n",
    "                bndbox.append(cur_pixel)\n",
    "\n",
    "            # 어노테이션의 class명에 해당하는 index번호 추가\n",
    "            label_idx = self.classes.index(name)\n",
    "            bndbox.append(label_idx)\n",
    "\n",
    "            ret += [bndbox]\n",
    "\n",
    "        return np.array(ret) #[[xmin, ymin, xmax, ymax, label_ind], ... ]"
   ]
  },
  {
   "cell_type": "code",
   "execution_count": 39,
   "metadata": {},
   "outputs": [
    {
     "data": {
      "text/plain": [
       "('./data/VOCdevkit/VOC2012/Annotations/2008_000003.xml',\n",
       " './data/VOCdevkit/VOC2012/JPEGImages/2008_000003.jpg')"
      ]
     },
     "execution_count": 39,
     "metadata": {},
     "output_type": "execute_result"
    }
   ],
   "source": [
    "val_anno_list[1], val_img_list[1]"
   ]
  },
  {
   "cell_type": "code",
   "execution_count": 37,
   "metadata": {},
   "outputs": [
    {
     "data": {
      "text/plain": [
       "array([[ 0.09      ,  0.03003003,  0.998     ,  0.996997  , 18.        ],\n",
       "       [ 0.122     ,  0.56756757,  0.164     ,  0.72672673, 14.        ]])"
      ]
     },
     "execution_count": 37,
     "metadata": {},
     "output_type": "execute_result"
    }
   ],
   "source": [
    "voc_classes = ['aeroplane', 'bicycle', 'bird', 'boat',\n",
    "               'bottle', 'bus', 'car', 'cat', 'chair',\n",
    "               'cow', 'diningtable', 'dog', 'horse',\n",
    "               'motorbike', 'person', 'pottedplant',\n",
    "               'sheep', 'sofa', 'train', 'tvmonitor']\n",
    "\n",
    "transform_anno = Anno_xml2list(voc_classes)\n",
    "\n",
    "ind = 1\n",
    "image_file_path = val_img_list[ind]\n",
    "img = cv2.imread(image_file_path)  # [높이][폭][RGB]\n",
    "height, width, channels = img.shape  # 이미지 크기\n",
    "\n",
    "# 어노테이션 리스트로 표시\n",
    "transform_anno(val_anno_list[ind], width, height) # 해당 파일엔 object가 2개 있음"
   ]
  }
 ],
 "metadata": {
  "kernelspec": {
   "display_name": "torch",
   "language": "python",
   "name": "python3"
  },
  "language_info": {
   "codemirror_mode": {
    "name": "ipython",
    "version": 3
   },
   "file_extension": ".py",
   "mimetype": "text/x-python",
   "name": "python",
   "nbconvert_exporter": "python",
   "pygments_lexer": "ipython3",
   "version": "3.8.15"
  },
  "orig_nbformat": 4,
  "vscode": {
   "interpreter": {
    "hash": "32b6ba50261c81856c57642ca3578a76487a19bc6d4ba792f39dd852241f2fd4"
   }
  }
 },
 "nbformat": 4,
 "nbformat_minor": 2
}
