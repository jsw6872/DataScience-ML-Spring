{
  "cells": [
    {
      "cell_type": "markdown",
      "metadata": {
        "id": "VMv8P8IDZuY9"
      },
      "source": [
        "## TensorFlow / Keras Basic"
      ]
    },
    {
      "cell_type": "markdown",
      "metadata": {
        "id": "Y7ntEsFpZxd8"
      },
      "source": [
        "### TensorFlow / Keras import"
      ]
    },
    {
      "cell_type": "code",
      "execution_count": 1,
      "metadata": {
        "id": "JeRr6dfwVeER"
      },
      "outputs": [],
      "source": [
        "import tensorflow as tf\n",
        "from tensorflow import keras"
      ]
    },
    {
      "cell_type": "code",
      "execution_count": 2,
      "metadata": {
        "colab": {
          "base_uri": "https://localhost:8080/"
        },
        "id": "Vl0o3w_dZ_4S",
        "outputId": "203fb1b7-393e-4cfb-d6ea-bc49f632d5ae"
      },
      "outputs": [
        {
          "name": "stdout",
          "output_type": "stream",
          "text": [
            "2.10.0\n",
            "2.10.0\n"
          ]
        }
      ],
      "source": [
        "print(tf.__version__)\n",
        "print(keras.__version__)"
      ]
    },
    {
      "cell_type": "code",
      "execution_count": 9,
      "metadata": {
        "id": "U4XmcMbyaCQb"
      },
      "outputs": [],
      "source": [
        "import numpy as np"
      ]
    },
    {
      "cell_type": "code",
      "execution_count": 10,
      "metadata": {},
      "outputs": [],
      "source": [
        "mnist = keras.datasets.fashion_mnist\n",
        "class_names = ['T-shirt/top', 'Trouser', 'Pullover', 'Dress', 'Coat', 'Sandal', 'Shirt', 'Sneaker', 'Bag', 'Ankle boot']\n",
        "\n",
        "(train_images, train_labels), (test_images, test_labels) = mnist.load_data()"
      ]
    },
    {
      "cell_type": "code",
      "execution_count": 11,
      "metadata": {},
      "outputs": [],
      "source": [
        "train_images = train_images.astype(np.float32) / 255. # tf.cast 와 유사\n",
        "test_images = test_images.astype(np.float32) / 255.\n",
        "\n",
        "train_labels = keras.utils.to_categorical(train_labels, 10)\n",
        "test_labels = keras.utils.to_categorical(test_labels, 10)"
      ]
    },
    {
      "cell_type": "code",
      "execution_count": 12,
      "metadata": {},
      "outputs": [],
      "source": [
        "train_dataset = tf.data.Dataset.from_tensor_slices((train_images, train_labels)).shuffle( # 다음번에 들어올 데이터를 섞어줌(epoch)\n",
        "                buffer_size=100000).batch(64)\n",
        "test_dataset = tf.data.Dataset.from_tensor_slices((test_images, test_labels)).batch(64)"
      ]
    },
    {
      "cell_type": "code",
      "execution_count": null,
      "metadata": {},
      "outputs": [],
      "source": []
    },
    {
      "cell_type": "code",
      "execution_count": null,
      "metadata": {},
      "outputs": [],
      "source": []
    },
    {
      "cell_type": "code",
      "execution_count": 5,
      "metadata": {},
      "outputs": [],
      "source": [
        "def create_seq_model():\n",
        "  model = keras.Sequential()\n",
        "  model.add(keras.layers.Flatten(input_shape=(28, 28))) # 이미지 데이터(28*28)이 들어올 때, 1차원으로 들어와야하기 때문에 flatten으로 펴준다(layer 개수로 치지 않음)\n",
        "  model.add(keras.layers.Dense(128, activation='relu')) # 128개의 perceptron layer \n",
        "  model.add(keras.layers.Dropout(0.2)) # overfitting 방지 (layer 개수로 치지 않음)\n",
        "  model.add(keras.layers.Dense(10, activation='softmax'))\n",
        "  return model"
      ]
    },
    {
      "cell_type": "code",
      "execution_count": 6,
      "metadata": {},
      "outputs": [
        {
          "name": "stdout",
          "output_type": "stream",
          "text": [
            "Metal device set to: Apple M1 Pro\n",
            "\n",
            "systemMemory: 16.00 GB\n",
            "maxCacheSize: 5.33 GB\n",
            "\n"
          ]
        },
        {
          "name": "stderr",
          "output_type": "stream",
          "text": [
            "2022-10-18 18:09:05.313545: I tensorflow/core/common_runtime/pluggable_device/pluggable_device_factory.cc:306] Could not identify NUMA node of platform GPU ID 0, defaulting to 0. Your kernel may not have been built with NUMA support.\n",
            "2022-10-18 18:09:05.314009: I tensorflow/core/common_runtime/pluggable_device/pluggable_device_factory.cc:272] Created TensorFlow device (/job:localhost/replica:0/task:0/device:GPU:0 with 0 MB memory) -> physical PluggableDevice (device: 0, name: METAL, pci bus id: <undefined>)\n"
          ]
        }
      ],
      "source": [
        "seq_model = create_seq_model()"
      ]
    },
    {
      "cell_type": "code",
      "execution_count": 7,
      "metadata": {},
      "outputs": [
        {
          "name": "stdout",
          "output_type": "stream",
          "text": [
            "Model: \"sequential\"\n",
            "_________________________________________________________________\n",
            " Layer (type)                Output Shape              Param #   \n",
            "=================================================================\n",
            " flatten (Flatten)           (None, 784)               0         \n",
            "                                                                 \n",
            " dense (Dense)               (None, 128)               100480    \n",
            "                                                                 \n",
            " dropout (Dropout)           (None, 128)               0         \n",
            "                                                                 \n",
            " dense_1 (Dense)             (None, 10)                1290      \n",
            "                                                                 \n",
            "=================================================================\n",
            "Total params: 101,770\n",
            "Trainable params: 101,770\n",
            "Non-trainable params: 0\n",
            "_________________________________________________________________\n"
          ]
        }
      ],
      "source": [
        "seq_model.summary()"
      ]
    },
    {
      "cell_type": "markdown",
      "metadata": {
        "id": "Hjgp8OAD01GH"
      },
      "source": [
        "## Traning / Validation"
      ]
    },
    {
      "cell_type": "markdown",
      "metadata": {
        "id": "XJlGY-dy5J5q"
      },
      "source": [
        "### Keras API 사용"
      ]
    },
    {
      "cell_type": "code",
      "execution_count": 8,
      "metadata": {
        "id": "P6cF-y6R0yCL"
      },
      "outputs": [],
      "source": [
        "learning_rate = 0.001\n",
        "seq_model.compile(optimizer=tf.keras.optimizers.Adam(learning_rate),\n",
        "              loss='categorical_crossentropy',\n",
        "              metrics=['accuracy'])"
      ]
    },
    {
      "cell_type": "code",
      "execution_count": 13,
      "metadata": {
        "id": "dioyr2Q057wc"
      },
      "outputs": [
        {
          "name": "stdout",
          "output_type": "stream",
          "text": [
            "Epoch 1/10\n"
          ]
        },
        {
          "name": "stderr",
          "output_type": "stream",
          "text": [
            "2022-10-18 18:32:58.893835: W tensorflow/core/platform/profile_utils/cpu_utils.cc:128] Failed to get CPU frequency: 0 Hz\n",
            "2022-10-18 18:32:58.896019: I tensorflow/core/grappler/optimizers/custom_graph_optimizer_registry.cc:114] Plugin optimizer for device_type GPU is enabled.\n"
          ]
        },
        {
          "name": "stdout",
          "output_type": "stream",
          "text": [
            "937/938 [============================>.] - ETA: 0s - loss: 0.5482 - accuracy: 0.8080"
          ]
        },
        {
          "name": "stderr",
          "output_type": "stream",
          "text": [
            "2022-10-18 18:33:08.078621: I tensorflow/core/grappler/optimizers/custom_graph_optimizer_registry.cc:114] Plugin optimizer for device_type GPU is enabled.\n"
          ]
        },
        {
          "name": "stdout",
          "output_type": "stream",
          "text": [
            "938/938 [==============================] - 10s 9ms/step - loss: 0.5482 - accuracy: 0.8080 - val_loss: 0.4411 - val_accuracy: 0.8409\n",
            "Epoch 2/10\n",
            "938/938 [==============================] - 8s 9ms/step - loss: 0.4020 - accuracy: 0.8569 - val_loss: 0.4010 - val_accuracy: 0.8564\n",
            "Epoch 3/10\n",
            "938/938 [==============================] - 8s 9ms/step - loss: 0.3665 - accuracy: 0.8672 - val_loss: 0.3742 - val_accuracy: 0.8671\n",
            "Epoch 4/10\n",
            "938/938 [==============================] - 9s 9ms/step - loss: 0.3454 - accuracy: 0.8749 - val_loss: 0.3635 - val_accuracy: 0.8677\n",
            "Epoch 5/10\n",
            "938/938 [==============================] - 8s 9ms/step - loss: 0.3277 - accuracy: 0.8792 - val_loss: 0.3547 - val_accuracy: 0.8698\n",
            "Epoch 6/10\n",
            "938/938 [==============================] - 8s 9ms/step - loss: 0.3145 - accuracy: 0.8849 - val_loss: 0.3449 - val_accuracy: 0.8771\n",
            "Epoch 7/10\n",
            "938/938 [==============================] - 8s 9ms/step - loss: 0.3060 - accuracy: 0.8874 - val_loss: 0.3365 - val_accuracy: 0.8821\n",
            "Epoch 8/10\n",
            "938/938 [==============================] - 8s 9ms/step - loss: 0.2954 - accuracy: 0.8910 - val_loss: 0.3309 - val_accuracy: 0.8808\n",
            "Epoch 9/10\n",
            "938/938 [==============================] - 8s 9ms/step - loss: 0.2874 - accuracy: 0.8928 - val_loss: 0.3356 - val_accuracy: 0.8816\n",
            "Epoch 10/10\n",
            "938/938 [==============================] - 8s 8ms/step - loss: 0.2798 - accuracy: 0.8964 - val_loss: 0.3295 - val_accuracy: 0.8820\n"
          ]
        }
      ],
      "source": [
        "history = seq_model.fit(train_dataset, epochs=10, validation_data=test_dataset)"
      ]
    },
    {
      "cell_type": "code",
      "execution_count": 14,
      "metadata": {
        "id": "tilZI3YW6Tll"
      },
      "outputs": [
        {
          "data": {
            "image/png": "[encoded data removed]",
            "text/plain": [
              "<Figure size 640x480 with 1 Axes>"
            ]
          },
          "metadata": {},
          "output_type": "display_data"
        }
      ],
      "source": [
        "## Plot losses\n",
        "plt.plot(history.history['loss'], 'b-', label='loss')\n",
        "plt.plot(history.history['val_loss'], 'r--', label='val_loss')\n",
        "plt.xlabel('Epoch')\n",
        "plt.legend()\n",
        "plt.show()"
      ]
    },
    {
      "cell_type": "code",
      "execution_count": 15,
      "metadata": {
        "id": "LY-a3Y546xhs"
      },
      "outputs": [
        {
          "data": {
            "image/png": "[encoded data removed]",
            "text/plain": [
              "<Figure size 640x480 with 1 Axes>"
            ]
          },
          "metadata": {},
          "output_type": "display_data"
        }
      ],
      "source": [
        "## Plot Accuracy\n",
        "plt.plot(history.history['accuracy'], 'b-', label='acc')\n",
        "plt.plot(history.history['val_accuracy'], 'r--', label='val_acc')\n",
        "plt.xlabel('Epoch')\n",
        "plt.legend()\n",
        "plt.show()"
      ]
    },
    {
      "cell_type": "markdown",
      "metadata": {
        "id": "4VFqWUCm7K_z"
      },
      "source": [
        "### GradientTape 사용"
      ]
    },
    {
      "cell_type": "code",
      "execution_count": null,
      "metadata": {
        "id": "vOwN4DFI60R9"
      },
      "outputs": [],
      "source": [
        "# loss function\n",
        "loss_object = keras.losses.CategoricalCrossentropy()"
      ]
    },
    {
      "cell_type": "code",
      "execution_count": null,
      "metadata": {
        "id": "153jt421803l"
      },
      "outputs": [],
      "source": [
        "# optimizer\n",
        "learning_rate = 0.001\n",
        "optimizer = keras.optimizers.Adam(learning_rate=learning_rate)"
      ]
    },
    {
      "cell_type": "code",
      "execution_count": null,
      "metadata": {
        "id": "IBDHMbMD9-nW"
      },
      "outputs": [],
      "source": [
        "# loss, accuracy 계산\n",
        "train_loss = keras.metrics.Mean(name='train_loss')\n",
        "train_accuracy = keras.metrics.CategoricalAccuracy(name='train_accuracy')\n",
        "\n",
        "test_loss = keras.metrics.Mean(name='test_loss')\n",
        "test_accuracy = keras.metrics.CategoricalAccuracy(name='test_accuracy')"
      ]
    },
    {
      "cell_type": "code",
      "execution_count": null,
      "metadata": {
        "id": "Tc9TNfY7-QI9"
      },
      "outputs": [],
      "source": [
        "@tf.function # 그래프모드로써 속도향상에 도움을 줌\n",
        "def train_step(model, images, labels): # backpropagation\n",
        "  with tf.GradientTape() as tape:\n",
        "    # training=True is only needed if there are layers with different\n",
        "    # behavior during training versus inference (e.g. Dropout).\n",
        "    predictions = model(images, training=True)\n",
        "    loss = loss_object(labels, predictions)\n",
        "  gradients = tape.gradient(loss, model.trainable_variables)\n",
        "  optimizer.apply_gradients(zip(gradients, model.trainable_variables)) # weight 업데이트\n",
        "\n",
        "  train_loss(loss)\n",
        "  train_accuracy(labels, predictions)"
      ]
    },
    {
      "cell_type": "code",
      "execution_count": null,
      "metadata": {
        "id": "mnnvO_O4-0m-"
      },
      "outputs": [],
      "source": [
        "@tf.function\n",
        "def test_step(model, images, labels):\n",
        "  # training=False is only needed if there are layers with different\n",
        "  # behavior during training versus inference (e.g. Dropout).\n",
        "  predictions = model(images, training=False)\n",
        "  t_loss = loss_object(labels, predictions)\n",
        "\n",
        "  test_loss(t_loss)\n",
        "  test_accuracy(labels, predictions)"
      ]
    },
    {
      "cell_type": "code",
      "execution_count": null,
      "metadata": {
        "id": "ukQTFQ3C-4H2"
      },
      "outputs": [],
      "source": [
        "EPOCHS = 10\n",
        "\n",
        "for epoch in range(EPOCHS):\n",
        "  # Reset the metrics at the start of the next epoch\n",
        "  train_loss.reset_states()\n",
        "  train_accuracy.reset_states()\n",
        "  test_loss.reset_states()\n",
        "  test_accuracy.reset_states()\n",
        "\n",
        "  for images, labels in train_dataset:\n",
        "    train_step(func_model, images, labels)\n",
        "\n",
        "  for test_images, test_labels in test_dataset:\n",
        "    test_step(func_model, test_images, test_labels)\n",
        "\n",
        "  print(\n",
        "    f'Epoch {epoch + 1}, '\n",
        "    f'Loss: {train_loss.result()}, '\n",
        "    f'Accuracy: {train_accuracy.result() * 100}, '\n",
        "    f'Test Loss: {test_loss.result()}, '\n",
        "    f'Test Accuracy: {test_accuracy.result() * 100}'\n",
        "  )"
      ]
    },
    {
      "cell_type": "markdown",
      "metadata": {
        "id": "bsylMBvG_SKk"
      },
      "source": [
        "## Model 저장하고 불러오기"
      ]
    },
    {
      "cell_type": "markdown",
      "metadata": {
        "id": "ILZ2UZtG_Wcs"
      },
      "source": [
        "### parameter만 저장하고 불러오기"
      ]
    },
    {
      "cell_type": "code",
      "execution_count": null,
      "metadata": {
        "id": "aW3urlf_--wV"
      },
      "outputs": [],
      "source": [
        "seq_model.save_weights('seq_model.ckpt')"
      ]
    },
    {
      "cell_type": "code",
      "execution_count": null,
      "metadata": {
        "id": "jscos7SR_rne"
      },
      "outputs": [],
      "source": [
        "seq_model_2 = create_seq_model()\n",
        "seq_model_2.compile(optimizer=tf.keras.optimizers.Adam(learning_rate),\n",
        "              loss='categorical_crossentropy',\n",
        "              metrics=['accuracy'])"
      ]
    },
    {
      "cell_type": "code",
      "execution_count": null,
      "metadata": {
        "id": "ZG5_n34L_w-m"
      },
      "outputs": [],
      "source": [
        "seq_model_2.evaluate(test_dataset)"
      ]
    },
    {
      "cell_type": "code",
      "execution_count": null,
      "metadata": {
        "id": "cG35uDOz_z-u"
      },
      "outputs": [],
      "source": [
        "seq_model_2.load_weights('seq_model.ckpt')"
      ]
    },
    {
      "cell_type": "code",
      "execution_count": null,
      "metadata": {
        "id": "RY0CZ78kAFmW"
      },
      "outputs": [],
      "source": [
        "seq_model_2.evaluate(test_dataset)"
      ]
    },
    {
      "cell_type": "markdown",
      "metadata": {
        "id": "u78ZB3NmAKIj"
      },
      "source": [
        "### Model 전체를 저장하고 불러오기"
      ]
    },
    {
      "cell_type": "code",
      "execution_count": null,
      "metadata": {
        "id": "cwIHNJj4AICO"
      },
      "outputs": [],
      "source": [
        "seq_model.save('seq_model')"
      ]
    },
    {
      "cell_type": "code",
      "execution_count": null,
      "metadata": {
        "id": "RjEAsrR8ARgm"
      },
      "outputs": [],
      "source": [
        "!ls"
      ]
    },
    {
      "cell_type": "code",
      "execution_count": null,
      "metadata": {
        "id": "PpWXRoL6ASPG"
      },
      "outputs": [],
      "source": [
        "seq_model_3 = keras.models.load_model('seq_model')"
      ]
    },
    {
      "cell_type": "code",
      "execution_count": null,
      "metadata": {
        "id": "OhqSNOwYAWhY"
      },
      "outputs": [],
      "source": [
        "seq_model_3.evaluate(test_dataset)"
      ]
    },
    {
      "cell_type": "markdown",
      "metadata": {
        "id": "OnC96I2rBbX2"
      },
      "source": [
        "## Tensorboard 사용하여 시각화하기"
      ]
    },
    {
      "cell_type": "code",
      "execution_count": null,
      "metadata": {
        "id": "r-ex0q2wBozU"
      },
      "outputs": [],
      "source": [
        "%load_ext tensorboard"
      ]
    },
    {
      "cell_type": "markdown",
      "metadata": {
        "id": "K9JUuJeEBemF"
      },
      "source": [
        "### Keras Callback 사용"
      ]
    },
    {
      "cell_type": "code",
      "execution_count": null,
      "metadata": {
        "id": "gbRabVS3Ahmm"
      },
      "outputs": [],
      "source": [
        "new_model_1 = create_seq_model()\n",
        "new_model_1.compile(optimizer=tf.keras.optimizers.Adam(learning_rate),\n",
        "              loss='categorical_crossentropy',\n",
        "              metrics=['accuracy'])"
      ]
    },
    {
      "cell_type": "code",
      "execution_count": null,
      "metadata": {
        "id": "9ltOogSpB9pX"
      },
      "outputs": [],
      "source": [
        "new_model_1.evaluate(test_dataset)"
      ]
    },
    {
      "cell_type": "code",
      "execution_count": null,
      "metadata": {
        "id": "P-xKwk0YB_bv"
      },
      "outputs": [],
      "source": [
        "log_dir = './logs/new_model_1'\n",
        "\n",
        "tensorboard_cb = keras.callbacks.TensorBoard(log_dir, histogram_freq=1)"
      ]
    },
    {
      "cell_type": "code",
      "execution_count": null,
      "metadata": {
        "id": "0fpClL_kCFJ3"
      },
      "outputs": [],
      "source": [
        "new_model_1.fit(train_dataset, epochs=EPOCHS, validation_data=test_dataset,\n",
        "          callbacks=[tensorboard_cb])"
      ]
    },
    {
      "cell_type": "code",
      "execution_count": null,
      "metadata": {
        "id": "d2ax9hr6CRn2"
      },
      "outputs": [],
      "source": [
        "%tensorboard --logdir $log_dir"
      ]
    },
    {
      "cell_type": "markdown",
      "metadata": {
        "id": "cj3kL_VkDHGX"
      },
      "source": [
        "### Summary Writer 사용"
      ]
    },
    {
      "cell_type": "code",
      "execution_count": null,
      "metadata": {
        "id": "ixN0sIh4Cdwu"
      },
      "outputs": [],
      "source": [
        "new_model_2 = create_seq_model()"
      ]
    },
    {
      "cell_type": "code",
      "execution_count": null,
      "metadata": {
        "id": "gduevEpWFP-j"
      },
      "outputs": [],
      "source": [
        "# loss function\n",
        "loss_object = keras.losses.CategoricalCrossentropy()"
      ]
    },
    {
      "cell_type": "code",
      "execution_count": null,
      "metadata": {
        "id": "-7CDR7-vFP-k"
      },
      "outputs": [],
      "source": [
        "# optimizer\n",
        "learning_rate = 0.001\n",
        "optimizer = keras.optimizers.Adam(learning_rate=learning_rate)"
      ]
    },
    {
      "cell_type": "code",
      "execution_count": null,
      "metadata": {
        "id": "hv4GjjlOFP-k"
      },
      "outputs": [],
      "source": [
        "# loss, accuracy 계산\n",
        "train_loss = keras.metrics.Mean(name='train_loss')\n",
        "train_accuracy = keras.metrics.CategoricalAccuracy(name='train_accuracy')\n",
        "\n",
        "test_loss = keras.metrics.Mean(name='test_loss')\n",
        "test_accuracy = keras.metrics.CategoricalAccuracy(name='test_accuracy')"
      ]
    },
    {
      "cell_type": "code",
      "execution_count": null,
      "metadata": {
        "id": "4m9Y_gRjFP-k"
      },
      "outputs": [],
      "source": [
        "@tf.function\n",
        "def train_step(model, images, labels):\n",
        "  with tf.GradientTape() as tape:\n",
        "    # training=True is only needed if there are layers with different\n",
        "    # behavior during training versus inference (e.g. Dropout).\n",
        "    predictions = model(images, training=True)\n",
        "    loss = loss_object(labels, predictions)\n",
        "  gradients = tape.gradient(loss, model.trainable_variables)\n",
        "  optimizer.apply_gradients(zip(gradients, model.trainable_variables))\n",
        "\n",
        "  train_loss(loss)\n",
        "  train_accuracy(labels, predictions)"
      ]
    },
    {
      "cell_type": "code",
      "execution_count": null,
      "metadata": {
        "id": "HO6G7COHFP-l"
      },
      "outputs": [],
      "source": [
        "@tf.function\n",
        "def test_step(model, images, labels):\n",
        "  # training=False is only needed if there are layers with different\n",
        "  # behavior during training versus inference (e.g. Dropout).\n",
        "  predictions = model(images, training=False)\n",
        "  t_loss = loss_object(labels, predictions)\n",
        "\n",
        "  test_loss(t_loss)\n",
        "  test_accuracy(labels, predictions)"
      ]
    },
    {
      "cell_type": "code",
      "execution_count": null,
      "metadata": {
        "id": "2acmbCz3Dprf"
      },
      "outputs": [],
      "source": [
        "import datetime\n",
        "\n",
        "current_time = datetime.datetime.now().strftime(\"%Y%m%d-%H%M%S\")\n",
        "train_log_dir = 'logs/gradient_tape/' + current_time + '/train'\n",
        "test_log_dir = 'logs/gradient_tape/' + current_time + '/test'\n",
        "train_summary_writer = tf.summary.create_file_writer(train_log_dir)\n",
        "test_summary_writer = tf.summary.create_file_writer(test_log_dir)"
      ]
    },
    {
      "cell_type": "code",
      "execution_count": null,
      "metadata": {
        "id": "skAzBMSxEfcP"
      },
      "outputs": [],
      "source": [
        "EPOCHS = 10\n",
        "\n",
        "for epoch in range(EPOCHS):\n",
        "  # Reset the metrics at the start of the next epoch\n",
        "  train_loss.reset_states()\n",
        "  train_accuracy.reset_states()\n",
        "  test_loss.reset_states()\n",
        "  test_accuracy.reset_states()\n",
        "\n",
        "  for images, labels in train_dataset:\n",
        "    train_step(new_model_2, images, labels)\n",
        "  with train_summary_writer.as_default():\n",
        "    tf.summary.scalar('loss', train_loss.result(), step=epoch)\n",
        "    tf.summary.scalar('accuracy', train_accuracy.result(), step=epoch)\n",
        "\n",
        "  for test_images, test_labels in test_dataset:\n",
        "    test_step(new_model_2, test_images, test_labels)\n",
        "  with test_summary_writer.as_default():\n",
        "    tf.summary.scalar('loss', test_loss.result(), step=epoch)\n",
        "    tf.summary.scalar('accuracy', test_accuracy.result(), step=epoch)\n",
        "\n",
        "  print(\n",
        "    f'Epoch {epoch + 1}, '\n",
        "    f'Loss: {train_loss.result()}, '\n",
        "    f'Accuracy: {train_accuracy.result() * 100}, '\n",
        "    f'Test Loss: {test_loss.result()}, '\n",
        "    f'Test Accuracy: {test_accuracy.result() * 100}'\n",
        "  )"
      ]
    },
    {
      "cell_type": "code",
      "execution_count": null,
      "metadata": {
        "id": "vsqzb5FlEQeX"
      },
      "outputs": [],
      "source": [
        "%tensorboard --logdir 'logs/gradient_tape'"
      ]
    },
    {
      "cell_type": "code",
      "execution_count": null,
      "metadata": {
        "id": "vSbtb9aAFajQ"
      },
      "outputs": [],
      "source": []
    }
  ],
  "metadata": {
    "accelerator": "GPU",
    "colab": {
      "collapsed_sections": [],
      "provenance": []
    },
    "kernelspec": {
      "display_name": "Python 3.8.13 ('tf')",
      "language": "python",
      "name": "python3"
    },
    "language_info": {
      "codemirror_mode": {
        "name": "ipython",
        "version": 3
      },
      "file_extension": ".py",
      "mimetype": "text/x-python",
      "name": "python",
      "nbconvert_exporter": "python",
      "pygments_lexer": "ipython3",
      "version": "3.8.13"
    },
    "vscode": {
      "interpreter": {
        "hash": "69e8cb12f7f9ef052e06d860b39e8133cbad3b53fbacb786b7dd04fb65f447a4"
      }
    }
  },
  "nbformat": 4,
  "nbformat_minor": 0
}
