{
  "nbformat": 4,
  "nbformat_minor": 0,
  "metadata": {
    "colab": {
      "provenance": [],
      "collapsed_sections": []
    },
    "kernelspec": {
      "name": "python3",
      "display_name": "Python 3"
    },
    "language_info": {
      "name": "python"
    },
    "accelerator": "GPU"
  },
  "cells": [
    {
      "cell_type": "markdown",
      "metadata": {
        "id": "VMv8P8IDZuY9"
      },
      "source": [
        "## TensorFlow / Keras Basic"
      ]
    },
    {
      "cell_type": "markdown",
      "metadata": {
        "id": "Y7ntEsFpZxd8"
      },
      "source": [
        "### TensorFlow / Keras import"
      ]
    },
    {
      "cell_type": "code",
      "metadata": {
        "id": "JeRr6dfwVeER"
      },
      "source": [
        "import tensorflow as tf\n",
        "from tensorflow import keras"
      ],
      "execution_count": 1,
      "outputs": []
    },
    {
      "cell_type": "code",
      "metadata": {
        "id": "Vl0o3w_dZ_4S",
        "colab": {
          "base_uri": "https://localhost:8080/"
        },
        "outputId": "203fb1b7-393e-4cfb-d6ea-bc49f632d5ae"
      },
      "source": [
        "print(tf.__version__)\n",
        "print(keras.__version__)"
      ],
      "execution_count": 2,
      "outputs": [
        {
          "output_type": "stream",
          "name": "stdout",
          "text": [
            "2.8.2\n",
            "2.8.0\n"
          ]
        }
      ]
    },
    {
      "cell_type": "markdown",
      "metadata": {
        "id": "JHxt15A3aHUz"
      },
      "source": [
        "### TensorFlow / Keras 맛보기"
      ]
    },
    {
      "cell_type": "code",
      "metadata": {
        "id": "U4XmcMbyaCQb"
      },
      "source": [
        "import numpy as np\n",
        "import matplotlib.pyplot as plt"
      ],
      "execution_count": 3,
      "outputs": []
    },
    {
      "cell_type": "markdown",
      "metadata": {
        "id": "wU7Rf-PbbOk8"
      },
      "source": [
        "### Tensor\n",
        "\n",
        "Tensor는 multi-dimensional array를 나타내는 말로, TensorFlow의 기본 data type입니다"
      ]
    },
    {
      "cell_type": "code",
      "metadata": {
        "id": "YfJJpCcybAhj",
        "colab": {
          "base_uri": "https://localhost:8080/"
        },
        "outputId": "ae4f8b56-1aba-486d-dcd7-c2ebdcf7c923"
      },
      "source": [
        "# Hello World\n",
        "hello = tf.constant([3,3], dtype=tf.float32) # \n",
        "print(hello)"
      ],
      "execution_count": 10,
      "outputs": [
        {
          "output_type": "stream",
          "name": "stdout",
          "text": [
            "tf.Tensor([3. 3.], shape=(2,), dtype=float32)\n"
          ]
        }
      ]
    },
    {
      "cell_type": "code",
      "metadata": {
        "id": "HchAr_B6bYWz",
        "colab": {
          "base_uri": "https://localhost:8080/"
        },
        "outputId": "8af092d7-996a-4b8b-aabd-ac86e82485ff"
      },
      "source": [
        "# 상수형 tensor는 아래와 같이 만들 수 있습니다\n",
        "# 출력해보면 tensor의 값과 함께, shape과 내부의 data type을 함께 볼 수 있습니다\n",
        "x = tf.constant([[1.0, 2.0],\n",
        "                 [3.0, 4.0]])\n",
        "print(x)\n",
        "print(type(x))"
      ],
      "execution_count": 11,
      "outputs": [
        {
          "output_type": "stream",
          "name": "stdout",
          "text": [
            "tf.Tensor(\n",
            "[[1. 2.]\n",
            " [3. 4.]], shape=(2, 2), dtype=float32)\n",
            "<class 'tensorflow.python.framework.ops.EagerTensor'>\n"
          ]
        }
      ]
    },
    {
      "cell_type": "code",
      "metadata": {
        "id": "j3SNfH7hbbZs",
        "colab": {
          "base_uri": "https://localhost:8080/"
        },
        "outputId": "b57e549c-07be-48e7-f290-536eadd0db35"
      },
      "source": [
        "# 아래와 같이 numpy ndarray나 python의 list도 tensor로 바꿀 수 있습니다\n",
        "x_np = np.array([[1.0, 2.0],\n",
        "                [3.0, 4.0]])\n",
        "x_list = [[1.0, 2.0], \n",
        "         [3.0, 4.0]]\n",
        "\n",
        "print(type(x_np))\n",
        "print(type(x_list))"
      ],
      "execution_count": 12,
      "outputs": [
        {
          "output_type": "stream",
          "name": "stdout",
          "text": [
            "<class 'numpy.ndarray'>\n",
            "<class 'list'>\n"
          ]
        }
      ]
    },
    {
      "cell_type": "code",
      "metadata": {
        "id": "LXT6RTiObcft",
        "colab": {
          "base_uri": "https://localhost:8080/"
        },
        "outputId": "d6a1398a-e591-479f-ae0d-4cec77bf19e1"
      },
      "source": [
        "# tensor로 타입 변경\n",
        "x_np = tf.convert_to_tensor(x_np)\n",
        "x_list = tf.convert_to_tensor(x_list)\n",
        "\n",
        "print(type(x_np))\n",
        "print(type(x_list))"
      ],
      "execution_count": 13,
      "outputs": [
        {
          "output_type": "stream",
          "name": "stdout",
          "text": [
            "<class 'tensorflow.python.framework.ops.EagerTensor'>\n",
            "<class 'tensorflow.python.framework.ops.EagerTensor'>\n"
          ]
        }
      ]
    },
    {
      "cell_type": "code",
      "metadata": {
        "id": "MIG2-h_8begE",
        "colab": {
          "base_uri": "https://localhost:8080/"
        },
        "outputId": "9904cf9a-910b-4766-bfa1-a7b2acac4e35"
      },
      "source": [
        "# tensor를 numpy ndarray로 바꿀 수도 있습니다\n",
        "x.numpy()"
      ],
      "execution_count": 14,
      "outputs": [
        {
          "output_type": "execute_result",
          "data": {
            "text/plain": [
              "array([[1., 2.],\n",
              "       [3., 4.]], dtype=float32)"
            ]
          },
          "metadata": {},
          "execution_count": 14
        }
      ]
    },
    {
      "cell_type": "code",
      "metadata": {
        "id": "qAwnWTrfbfhk",
        "colab": {
          "base_uri": "https://localhost:8080/"
        },
        "outputId": "b43a3fb7-3717-4849-8ddd-ccc4a6742114"
      },
      "source": [
        "print(type(x.numpy()))"
      ],
      "execution_count": 15,
      "outputs": [
        {
          "output_type": "stream",
          "name": "stdout",
          "text": [
            "<class 'numpy.ndarray'>\n"
          ]
        }
      ]
    },
    {
      "cell_type": "code",
      "metadata": {
        "id": "0SwhFw8DbgxM",
        "colab": {
          "base_uri": "https://localhost:8080/"
        },
        "outputId": "a448f9a3-58fe-4ddc-aaaf-ad3e597d85ab"
      },
      "source": [
        "a = tf.ones((2,3))\n",
        "b = tf.zeros((2,3))\n",
        "c = tf.fill((2,2), 2) # 기존 numpy에선 full\n",
        "print(a)\n",
        "print(b)\n",
        "print(c)"
      ],
      "execution_count": 16,
      "outputs": [
        {
          "output_type": "stream",
          "name": "stdout",
          "text": [
            "tf.Tensor(\n",
            "[[1. 1. 1.]\n",
            " [1. 1. 1.]], shape=(2, 3), dtype=float32)\n",
            "tf.Tensor(\n",
            "[[0. 0. 0.]\n",
            " [0. 0. 0.]], shape=(2, 3), dtype=float32)\n",
            "tf.Tensor(\n",
            "[[2 2]\n",
            " [2 2]], shape=(2, 2), dtype=int32)\n"
          ]
        }
      ]
    },
    {
      "cell_type": "code",
      "metadata": {
        "id": "AYp8GW02b-NT",
        "colab": {
          "base_uri": "https://localhost:8080/"
        },
        "outputId": "36e6866d-2182-42e0-8f89-944aa056227f"
      },
      "source": [
        "d = tf.zeros_like(c)\n",
        "e = tf.ones_like(c)\n",
        "print(d)\n",
        "print(e)"
      ],
      "execution_count": 17,
      "outputs": [
        {
          "output_type": "stream",
          "name": "stdout",
          "text": [
            "tf.Tensor(\n",
            "[[0 0]\n",
            " [0 0]], shape=(2, 2), dtype=int32)\n",
            "tf.Tensor(\n",
            "[[1 1]\n",
            " [1 1]], shape=(2, 2), dtype=int32)\n"
          ]
        }
      ]
    },
    {
      "cell_type": "code",
      "metadata": {
        "id": "QjkKxrB6ccsc",
        "colab": {
          "base_uri": "https://localhost:8080/"
        },
        "outputId": "b0792373-f255-4511-85b7-7c16396a8b05"
      },
      "source": [
        "f = tf.eye(3)\n",
        "print(f)"
      ],
      "execution_count": 18,
      "outputs": [
        {
          "output_type": "stream",
          "name": "stdout",
          "text": [
            "tf.Tensor(\n",
            "[[1. 0. 0.]\n",
            " [0. 1. 0.]\n",
            " [0. 0. 1.]], shape=(3, 3), dtype=float32)\n"
          ]
        }
      ]
    },
    {
      "cell_type": "code",
      "metadata": {
        "id": "hA2msfJDlVMm",
        "colab": {
          "base_uri": "https://localhost:8080/"
        },
        "outputId": "71fe95cc-5871-4e42-9ae1-1be45fdeec4a"
      },
      "source": [
        "g  = tf.range(10) # numpy에선 arange\n",
        "print(g)"
      ],
      "execution_count": 19,
      "outputs": [
        {
          "output_type": "stream",
          "name": "stdout",
          "text": [
            "tf.Tensor([0 1 2 3 4 5 6 7 8 9], shape=(10,), dtype=int32)\n"
          ]
        }
      ]
    },
    {
      "cell_type": "code",
      "metadata": {
        "id": "cSDPGRvalgBu",
        "colab": {
          "base_uri": "https://localhost:8080/"
        },
        "outputId": "1f023f5e-ebb0-42ba-91b0-e6dbe2c58842"
      },
      "source": [
        "h = tf.random.uniform((2,2)) # np.rand\n",
        "i = tf.random.normal((2,2))  # np.randn\n",
        "print(h)\n",
        "print(i)"
      ],
      "execution_count": 20,
      "outputs": [
        {
          "output_type": "stream",
          "name": "stdout",
          "text": [
            "tf.Tensor(\n",
            "[[0.16639864 0.94005096]\n",
            " [0.99911094 0.6886177 ]], shape=(2, 2), dtype=float32)\n",
            "tf.Tensor(\n",
            "[[ 0.28067544 -0.33475438]\n",
            " [-0.40712455 -0.88035846]], shape=(2, 2), dtype=float32)\n"
          ]
        }
      ]
    },
    {
      "cell_type": "markdown",
      "metadata": {
        "id": "o364b_dtmCLS"
      },
      "source": [
        "#### Tensor의 속성"
      ]
    },
    {
      "cell_type": "code",
      "metadata": {
        "id": "kJaZ9nmNlp4m",
        "colab": {
          "base_uri": "https://localhost:8080/"
        },
        "outputId": "2980884b-463e-4446-b029-8318bcdf224d"
      },
      "source": [
        "tensor = tf.random.normal((3,4))\n",
        "\n",
        "print(f\"Shape of tensor: {tensor.shape}\")\n",
        "print(f\"Datatype of tensor: {tensor.dtype}\")"
      ],
      "execution_count": 21,
      "outputs": [
        {
          "output_type": "stream",
          "name": "stdout",
          "text": [
            "Shape of tensor: (3, 4)\n",
            "Datatype of tensor: <dtype: 'float32'>\n"
          ]
        }
      ]
    },
    {
      "cell_type": "code",
      "metadata": {
        "id": "3RpWD9D7omzi",
        "colab": {
          "base_uri": "https://localhost:8080/"
        },
        "outputId": "0ef2e256-e172-4d88-be69-2f0da5c33a18"
      },
      "source": [
        "# 속성 변경\n",
        "tensor = tf.reshape(tensor, (4, 3))\n",
        "tensor = tf.cast(tensor, tf.int32)\n",
        "\n",
        "print(f\"Shape of tensor: {tensor.shape}\")\n",
        "print(f\"Datatype of tensor: {tensor.dtype}\")"
      ],
      "execution_count": 22,
      "outputs": [
        {
          "output_type": "stream",
          "name": "stdout",
          "text": [
            "Shape of tensor: (4, 3)\n",
            "Datatype of tensor: <dtype: 'int32'>\n"
          ]
        }
      ]
    },
    {
      "cell_type": "markdown",
      "metadata": {
        "id": "qRIucbyummIi"
      },
      "source": [
        "### Variable\n",
        "\n",
        "Variable은 변할 수 있는 상태를 저장하는데 사용되는 특별한 텐서입니다.\n",
        "딥러닝에서는 학습해야하는 가중치(weight, bias)들을 variable로 생성합니다."
      ]
    },
    {
      "cell_type": "code",
      "metadata": {
        "id": "Bg4SIFVImP0w",
        "colab": {
          "base_uri": "https://localhost:8080/",
          "height": 270
        },
        "outputId": "016d1d1e-c906-48a9-a290-be0281fc963a"
      },
      "source": [
        "# tensor의 값 변경 - 변경 불가능 (파이썬의 튜플과 비슷)\n",
        "tensor = tf.ones((3,4))\n",
        "print(tensor)\n",
        "\n",
        "tensor[0,0] = 2."
      ],
      "execution_count": 23,
      "outputs": [
        {
          "output_type": "stream",
          "name": "stdout",
          "text": [
            "tf.Tensor(\n",
            "[[1. 1. 1. 1.]\n",
            " [1. 1. 1. 1.]\n",
            " [1. 1. 1. 1.]], shape=(3, 4), dtype=float32)\n"
          ]
        },
        {
          "output_type": "error",
          "ename": "TypeError",
          "evalue": "ignored",
          "traceback": [
            "\u001b[0;31m---------------------------------------------------------------------------\u001b[0m",
            "\u001b[0;31mTypeError\u001b[0m                                 Traceback (most recent call last)",
            "\u001b[0;32m<ipython-input-23-cdf7d2e9807c>\u001b[0m in \u001b[0;36m<module>\u001b[0;34m\u001b[0m\n\u001b[1;32m      3\u001b[0m \u001b[0mprint\u001b[0m\u001b[0;34m(\u001b[0m\u001b[0mtensor\u001b[0m\u001b[0;34m)\u001b[0m\u001b[0;34m\u001b[0m\u001b[0;34m\u001b[0m\u001b[0m\n\u001b[1;32m      4\u001b[0m \u001b[0;34m\u001b[0m\u001b[0m\n\u001b[0;32m----> 5\u001b[0;31m \u001b[0mtensor\u001b[0m\u001b[0;34m[\u001b[0m\u001b[0;36m0\u001b[0m\u001b[0;34m,\u001b[0m\u001b[0;36m0\u001b[0m\u001b[0;34m]\u001b[0m \u001b[0;34m=\u001b[0m \u001b[0;36m2.\u001b[0m\u001b[0;34m\u001b[0m\u001b[0;34m\u001b[0m\u001b[0m\n\u001b[0m",
            "\u001b[0;31mTypeError\u001b[0m: 'tensorflow.python.framework.ops.EagerTensor' object does not support item assignment"
          ]
        }
      ]
    },
    {
      "cell_type": "code",
      "metadata": {
        "id": "18QWNtDqnJzh",
        "colab": {
          "base_uri": "https://localhost:8080/"
        },
        "outputId": "5a92e1f9-fe08-4474-89d2-af17f17e5e2c"
      },
      "source": [
        "# variable 만들기, 값 변경\n",
        "variable = tf.Variable(tensor)\n",
        "print(variable)\n",
        "\n",
        "variable[0,0].assign(2)\n",
        "print(variable)"
      ],
      "execution_count": 24,
      "outputs": [
        {
          "output_type": "stream",
          "name": "stdout",
          "text": [
            "<tf.Variable 'Variable:0' shape=(3, 4) dtype=float32, numpy=\n",
            "array([[1., 1., 1., 1.],\n",
            "       [1., 1., 1., 1.],\n",
            "       [1., 1., 1., 1.]], dtype=float32)>\n",
            "<tf.Variable 'Variable:0' shape=(3, 4) dtype=float32, numpy=\n",
            "array([[2., 1., 1., 1.],\n",
            "       [1., 1., 1., 1.],\n",
            "       [1., 1., 1., 1.]], dtype=float32)>\n"
          ]
        }
      ]
    },
    {
      "cell_type": "code",
      "metadata": {
        "id": "yQPHxINYm_1H",
        "colab": {
          "base_uri": "https://localhost:8080/"
        },
        "outputId": "2be758d0-79df-46ef-85a4-43ca6cc610a0"
      },
      "source": [
        "# 초기값을 사용해서 Variable을 생성할 수 있습니다\n",
        "initial_value = tf.random.normal(shape=(2, 2))\n",
        "weight = tf.Variable(initial_value)\n",
        "print(weight)"
      ],
      "execution_count": 25,
      "outputs": [
        {
          "output_type": "stream",
          "name": "stdout",
          "text": [
            "<tf.Variable 'Variable:0' shape=(2, 2) dtype=float32, numpy=\n",
            "array([[-0.19214214, -1.4155562 ],\n",
            "       [ 0.06628897,  0.6443773 ]], dtype=float32)>\n"
          ]
        }
      ]
    },
    {
      "cell_type": "code",
      "metadata": {
        "id": "J9bbWyNQnpz3",
        "colab": {
          "base_uri": "https://localhost:8080/"
        },
        "outputId": "f69f37cb-95e0-4313-c7cd-b17c721fdb6b"
      },
      "source": [
        "# 아래와 같이 variable을 초기화해주는 initializer들을 사용할 수도 있습니다\n",
        "weight = tf.Variable(tf.random_normal_initializer(stddev=1.)(shape=(2,2)))\n",
        "print(weight)"
      ],
      "execution_count": 26,
      "outputs": [
        {
          "output_type": "stream",
          "name": "stdout",
          "text": [
            "<tf.Variable 'Variable:0' shape=(2, 2) dtype=float32, numpy=\n",
            "array([[-0.93978   , -0.05057314],\n",
            "       [ 1.288785  ,  0.5746724 ]], dtype=float32)>\n"
          ]
        }
      ]
    },
    {
      "cell_type": "code",
      "metadata": {
        "id": "2HmxkQVtoPFf",
        "colab": {
          "base_uri": "https://localhost:8080/"
        },
        "outputId": "3146d329-68d4-4cef-c915-0f46ebd9ae09"
      },
      "source": [
        "# variable은 `.assign(value)`, `.assign_add(increment)`, 또는 `.assign_sub(decrement)`\n",
        "# 와 같은 메소드를 사용해서 Variable의 값을 갱신합니다:'''\n",
        "\n",
        "new_value = tf.random.normal(shape=(2,2))\n",
        "print(new_value)\n",
        "weight.assign(new_value)\n",
        "print(weight)"
      ],
      "execution_count": 27,
      "outputs": [
        {
          "output_type": "stream",
          "name": "stdout",
          "text": [
            "tf.Tensor(\n",
            "[[-1.1177477   0.25359058]\n",
            " [-1.4211206   1.4417022 ]], shape=(2, 2), dtype=float32)\n",
            "<tf.Variable 'Variable:0' shape=(2, 2) dtype=float32, numpy=\n",
            "array([[-1.1177477 ,  0.25359058],\n",
            "       [-1.4211206 ,  1.4417022 ]], dtype=float32)>\n"
          ]
        }
      ]
    },
    {
      "cell_type": "code",
      "metadata": {
        "id": "a03m0sVuoRxH",
        "colab": {
          "base_uri": "https://localhost:8080/"
        },
        "outputId": "82028f7c-00ea-4204-d1df-69fa87c59b8b"
      },
      "source": [
        "added_value = tf.ones(shape=(2,2))\n",
        "weight.assign_sub(added_value) # 뺄셈\n",
        "print(weight)"
      ],
      "execution_count": 28,
      "outputs": [
        {
          "output_type": "stream",
          "name": "stdout",
          "text": [
            "<tf.Variable 'Variable:0' shape=(2, 2) dtype=float32, numpy=\n",
            "array([[-2.1177478 , -0.7464094 ],\n",
            "       [-2.4211206 ,  0.44170225]], dtype=float32)>\n"
          ]
        }
      ]
    },
    {
      "cell_type": "markdown",
      "metadata": {
        "id": "SVvv2ITIobTs"
      },
      "source": [
        "### Indexing과 Slicing"
      ]
    },
    {
      "cell_type": "code",
      "metadata": {
        "id": "MmDw1IOnoTtH",
        "colab": {
          "base_uri": "https://localhost:8080/"
        },
        "outputId": "ca208284-bdac-4b00-fb3e-43d498e952e9"
      },
      "source": [
        "a = tf.range(1, 13)\n",
        "a = tf.reshape(a, (3, 4))\n",
        "print(a)"
      ],
      "execution_count": 29,
      "outputs": [
        {
          "output_type": "stream",
          "name": "stdout",
          "text": [
            "tf.Tensor(\n",
            "[[ 1  2  3  4]\n",
            " [ 5  6  7  8]\n",
            " [ 9 10 11 12]], shape=(3, 4), dtype=int32)\n"
          ]
        }
      ]
    },
    {
      "cell_type": "code",
      "metadata": {
        "id": "2HRF-l-eoh_o",
        "colab": {
          "base_uri": "https://localhost:8080/"
        },
        "outputId": "5be50bbf-0a8b-4f1f-f653-6a0cec0dd99d"
      },
      "source": [
        "# indexing\n",
        "print(a[1])\n",
        "print(a[0,-1])"
      ],
      "execution_count": 30,
      "outputs": [
        {
          "output_type": "stream",
          "name": "stdout",
          "text": [
            "tf.Tensor([5 6 7 8], shape=(4,), dtype=int32)\n",
            "tf.Tensor(4, shape=(), dtype=int32)\n"
          ]
        }
      ]
    },
    {
      "cell_type": "code",
      "metadata": {
        "id": "wgLmdhMmo2fX",
        "colab": {
          "base_uri": "https://localhost:8080/"
        },
        "outputId": "c6362af2-60c4-4698-cf1d-1e149ab8e9f6"
      },
      "source": [
        "# slicing\n",
        "print(a[1:-1])\n",
        "print(a[:2, 2:])"
      ],
      "execution_count": 31,
      "outputs": [
        {
          "output_type": "stream",
          "name": "stdout",
          "text": [
            "tf.Tensor([[5 6 7 8]], shape=(1, 4), dtype=int32)\n",
            "tf.Tensor(\n",
            "[[3 4]\n",
            " [7 8]], shape=(2, 2), dtype=int32)\n"
          ]
        }
      ]
    },
    {
      "cell_type": "markdown",
      "metadata": {
        "id": "X54tCulGo7xb"
      },
      "source": [
        "### Transpose"
      ]
    },
    {
      "cell_type": "code",
      "metadata": {
        "id": "z1npXR75o554",
        "colab": {
          "base_uri": "https://localhost:8080/"
        },
        "outputId": "9bdf3260-5fcc-4363-d30b-ab5fcebb89e0"
      },
      "source": [
        "a = tf.range(16)\n",
        "a = tf.reshape(a, (2, 2, -1))\n",
        "print(a)"
      ],
      "execution_count": 32,
      "outputs": [
        {
          "output_type": "stream",
          "name": "stdout",
          "text": [
            "tf.Tensor(\n",
            "[[[ 0  1  2  3]\n",
            "  [ 4  5  6  7]]\n",
            "\n",
            " [[ 8  9 10 11]\n",
            "  [12 13 14 15]]], shape=(2, 2, 4), dtype=int32)\n"
          ]
        }
      ]
    },
    {
      "cell_type": "code",
      "metadata": {
        "id": "xActsV92pVIQ",
        "colab": {
          "base_uri": "https://localhost:8080/"
        },
        "outputId": "afa5bf37-b11d-42fe-e2bb-122f36b4992f"
      },
      "source": [
        "b = tf.transpose(a, (2, 0, 1))\n",
        "print(b)"
      ],
      "execution_count": 33,
      "outputs": [
        {
          "output_type": "stream",
          "name": "stdout",
          "text": [
            "tf.Tensor(\n",
            "[[[ 0  4]\n",
            "  [ 8 12]]\n",
            "\n",
            " [[ 1  5]\n",
            "  [ 9 13]]\n",
            "\n",
            " [[ 2  6]\n",
            "  [10 14]]\n",
            "\n",
            " [[ 3  7]\n",
            "  [11 15]]], shape=(4, 2, 2), dtype=int32)\n"
          ]
        }
      ]
    },
    {
      "cell_type": "markdown",
      "metadata": {
        "id": "WBKEyPlypgAz"
      },
      "source": [
        "### Tensor 연산"
      ]
    },
    {
      "cell_type": "code",
      "metadata": {
        "id": "Q3c7g2JSpYPg",
        "colab": {
          "base_uri": "https://localhost:8080/"
        },
        "outputId": "b24960fe-47d4-4720-d1e1-32400a68ea09"
      },
      "source": [
        "x = tf.constant([[1,2], [3,4]], dtype=tf.float32)\n",
        "y = tf.constant([[5,6], [7,8]], dtype=tf.float32)\n",
        "print(x)\n",
        "print(y)"
      ],
      "execution_count": 34,
      "outputs": [
        {
          "output_type": "stream",
          "name": "stdout",
          "text": [
            "tf.Tensor(\n",
            "[[1. 2.]\n",
            " [3. 4.]], shape=(2, 2), dtype=float32)\n",
            "tf.Tensor(\n",
            "[[5. 6.]\n",
            " [7. 8.]], shape=(2, 2), dtype=float32)\n"
          ]
        }
      ]
    },
    {
      "cell_type": "code",
      "metadata": {
        "id": "FUfznMmjpmnA",
        "colab": {
          "base_uri": "https://localhost:8080/"
        },
        "outputId": "ec77c6b9-066a-46c1-cbae-e71571d31161"
      },
      "source": [
        "print(x + y)\n",
        "print(x - y)\n",
        "print(x * y)\n",
        "print(x / y)\n",
        "print(x @ y)\n",
        "\n",
        "print('='*30)\n",
        "\n",
        "print(tf.add(x, y))\n",
        "print(tf.subtract(x, y))\n",
        "print(tf.multiply(x, y))\n",
        "print(tf.divide(x, y))\n",
        "print(tf.matmul(x, y))"
      ],
      "execution_count": 35,
      "outputs": [
        {
          "output_type": "stream",
          "name": "stdout",
          "text": [
            "tf.Tensor(\n",
            "[[ 6.  8.]\n",
            " [10. 12.]], shape=(2, 2), dtype=float32)\n",
            "tf.Tensor(\n",
            "[[-4. -4.]\n",
            " [-4. -4.]], shape=(2, 2), dtype=float32)\n",
            "tf.Tensor(\n",
            "[[ 5. 12.]\n",
            " [21. 32.]], shape=(2, 2), dtype=float32)\n",
            "tf.Tensor(\n",
            "[[0.2        0.33333334]\n",
            " [0.42857143 0.5       ]], shape=(2, 2), dtype=float32)\n",
            "tf.Tensor(\n",
            "[[19. 22.]\n",
            " [43. 50.]], shape=(2, 2), dtype=float32)\n",
            "==============================\n",
            "tf.Tensor(\n",
            "[[ 6.  8.]\n",
            " [10. 12.]], shape=(2, 2), dtype=float32)\n",
            "tf.Tensor(\n",
            "[[-4. -4.]\n",
            " [-4. -4.]], shape=(2, 2), dtype=float32)\n",
            "tf.Tensor(\n",
            "[[ 5. 12.]\n",
            " [21. 32.]], shape=(2, 2), dtype=float32)\n",
            "tf.Tensor(\n",
            "[[0.2        0.33333334]\n",
            " [0.42857143 0.5       ]], shape=(2, 2), dtype=float32)\n",
            "tf.Tensor(\n",
            "[[19. 22.]\n",
            " [43. 50.]], shape=(2, 2), dtype=float32)\n"
          ]
        }
      ]
    },
    {
      "cell_type": "code",
      "metadata": {
        "id": "vGwjOHyOprW4",
        "colab": {
          "base_uri": "https://localhost:8080/"
        },
        "outputId": "af10d044-09e6-4d6a-c759-181d2ac0c29a"
      },
      "source": [
        "z = tf.range(1, 11)\n",
        "z = tf.reshape(z, (2, 5))\n",
        "print(z)"
      ],
      "execution_count": 36,
      "outputs": [
        {
          "output_type": "stream",
          "name": "stdout",
          "text": [
            "tf.Tensor(\n",
            "[[ 1  2  3  4  5]\n",
            " [ 6  7  8  9 10]], shape=(2, 5), dtype=int32)\n"
          ]
        }
      ]
    },
    {
      "cell_type": "code",
      "metadata": {
        "id": "XFfJw1jdSsD9",
        "colab": {
          "base_uri": "https://localhost:8080/"
        },
        "outputId": "5281f231-83e9-460f-fa88-5a3bdb11f25a"
      },
      "source": [
        "print(tf.reduce_sum(z))"
      ],
      "execution_count": 37,
      "outputs": [
        {
          "output_type": "stream",
          "name": "stdout",
          "text": [
            "tf.Tensor(55, shape=(), dtype=int32)\n"
          ]
        }
      ]
    },
    {
      "cell_type": "code",
      "metadata": {
        "id": "cr_2RM0Up6to",
        "colab": {
          "base_uri": "https://localhost:8080/"
        },
        "outputId": "87f16fc8-4fab-4f85-8765-e09b8ef7878f"
      },
      "source": [
        "sum1 = tf.reduce_sum(z, axis=0)\n",
        "sum2 = tf.reduce_sum(z, axis=1)\n",
        "sum3 = tf.reduce_sum(z, axis=-1)\n",
        "\n",
        "print(sum1)\n",
        "print(sum2)\n",
        "print(sum3)"
      ],
      "execution_count": 38,
      "outputs": [
        {
          "output_type": "stream",
          "name": "stdout",
          "text": [
            "tf.Tensor([ 7  9 11 13 15], shape=(5,), dtype=int32)\n",
            "tf.Tensor([15 40], shape=(2,), dtype=int32)\n",
            "tf.Tensor([15 40], shape=(2,), dtype=int32)\n"
          ]
        }
      ]
    },
    {
      "cell_type": "code",
      "metadata": {
        "id": "ujBDhmPcqAEg",
        "colab": {
          "base_uri": "https://localhost:8080/"
        },
        "outputId": "8640cd3a-64bc-4249-e051-ae4e2e7c08b9"
      },
      "source": [
        "concat = tf.concat([z, z], axis=0)\n",
        "print(concat)"
      ],
      "execution_count": 39,
      "outputs": [
        {
          "output_type": "stream",
          "name": "stdout",
          "text": [
            "tf.Tensor(\n",
            "[[ 1  2  3  4  5]\n",
            " [ 6  7  8  9 10]\n",
            " [ 1  2  3  4  5]\n",
            " [ 6  7  8  9 10]], shape=(4, 5), dtype=int32)\n"
          ]
        }
      ]
    },
    {
      "cell_type": "code",
      "metadata": {
        "id": "Zo7teoSJqPVw",
        "colab": {
          "base_uri": "https://localhost:8080/"
        },
        "outputId": "8edab045-1334-424d-924b-7a5f30a8bbf6"
      },
      "source": [
        "concat = tf.concat([z, z], axis=-1)\n",
        "print(concat)"
      ],
      "execution_count": 40,
      "outputs": [
        {
          "output_type": "stream",
          "name": "stdout",
          "text": [
            "tf.Tensor(\n",
            "[[ 1  2  3  4  5  1  2  3  4  5]\n",
            " [ 6  7  8  9 10  6  7  8  9 10]], shape=(2, 10), dtype=int32)\n"
          ]
        }
      ]
    },
    {
      "cell_type": "code",
      "metadata": {
        "id": "NjqZ8G3DqTv4",
        "colab": {
          "base_uri": "https://localhost:8080/"
        },
        "outputId": "774fb487-8bbb-46c8-e47e-466d506ecd7d"
      },
      "source": [
        "stack = tf.stack([z, z], axis=0)\n",
        "print(stack)"
      ],
      "execution_count": 41,
      "outputs": [
        {
          "output_type": "stream",
          "name": "stdout",
          "text": [
            "tf.Tensor(\n",
            "[[[ 1  2  3  4  5]\n",
            "  [ 6  7  8  9 10]]\n",
            "\n",
            " [[ 1  2  3  4  5]\n",
            "  [ 6  7  8  9 10]]], shape=(2, 2, 5), dtype=int32)\n"
          ]
        }
      ]
    },
    {
      "cell_type": "code",
      "metadata": {
        "id": "elWjpDZGqXuY",
        "colab": {
          "base_uri": "https://localhost:8080/"
        },
        "outputId": "4bba2042-26ff-4eca-eee5-d70f70721f7e"
      },
      "source": [
        "stack = tf.stack([z, z], axis=-1)\n",
        "print(stack)"
      ],
      "execution_count": 42,
      "outputs": [
        {
          "output_type": "stream",
          "name": "stdout",
          "text": [
            "tf.Tensor(\n",
            "[[[ 1  1]\n",
            "  [ 2  2]\n",
            "  [ 3  3]\n",
            "  [ 4  4]\n",
            "  [ 5  5]]\n",
            "\n",
            " [[ 6  6]\n",
            "  [ 7  7]\n",
            "  [ 8  8]\n",
            "  [ 9  9]\n",
            "  [10 10]]], shape=(2, 5, 2), dtype=int32)\n"
          ]
        }
      ]
    },
    {
      "cell_type": "code",
      "metadata": {
        "id": "Z0MJo_ObTEN9",
        "colab": {
          "base_uri": "https://localhost:8080/"
        },
        "outputId": "be5edefa-17b7-4881-f5f9-6df3b74b9d26"
      },
      "source": [
        "stack = tf.stack([z, z], axis=1)\n",
        "print(stack)"
      ],
      "execution_count": 43,
      "outputs": [
        {
          "output_type": "stream",
          "name": "stdout",
          "text": [
            "tf.Tensor(\n",
            "[[[ 1  2  3  4  5]\n",
            "  [ 1  2  3  4  5]]\n",
            "\n",
            " [[ 6  7  8  9 10]\n",
            "  [ 6  7  8  9 10]]], shape=(2, 2, 5), dtype=int32)\n"
          ]
        }
      ]
    },
    {
      "cell_type": "markdown",
      "metadata": {
        "id": "7rwqkPk6ufp3"
      },
      "source": [
        "## Dataset\n",
        "\n",
        "Data를 처리하여 model에 공급하기 위하여 TensorFlow에서는 tf.data.Dataset을 사용합니다."
      ]
    },
    {
      "cell_type": "markdown",
      "metadata": {
        "id": "-YzYF_FUuwYt"
      },
      "source": [
        "### FashoinMNIST data 불러오기"
      ]
    },
    {
      "cell_type": "code",
      "metadata": {
        "id": "f-qiNiQ8qZ8A"
      },
      "source": [
        "mnist = keras.datasets.fashion_mnist\n",
        "class_names = ['T-shirt/top', 'Trouser', 'Pullover', 'Dress', 'Coat', 'Sandal', 'Shirt', 'Sneaker', 'Bag', 'Ankle boot']\n",
        "\n",
        "(train_images, train_labels), (test_images, test_labels) = mnist.load_data()"
      ],
      "execution_count": null,
      "outputs": []
    },
    {
      "cell_type": "code",
      "metadata": {
        "id": "zPy0L1v-u7VZ"
      },
      "source": [
        "# train_images, train_labels의 shape 확인\n",
        "print(train_images.shape, train_labels.shape)"
      ],
      "execution_count": null,
      "outputs": []
    },
    {
      "cell_type": "code",
      "metadata": {
        "id": "DelbP1XivAyJ"
      },
      "source": [
        "# test_images, test_labels의 shape 확인\n",
        "print(test_images.shape, test_labels.shape)"
      ],
      "execution_count": null,
      "outputs": []
    },
    {
      "cell_type": "code",
      "metadata": {
        "id": "D6InVziDTw_-"
      },
      "source": [
        "type(train_images)"
      ],
      "execution_count": null,
      "outputs": []
    },
    {
      "cell_type": "code",
      "metadata": {
        "id": "y8Ojc9i9vDc5"
      },
      "source": [
        "# training set의 각 class 별 image 수 확인\n",
        "unique, counts = np.unique(train_labels, axis=-1, return_counts=True)\n",
        "dict(zip(unique, counts))"
      ],
      "execution_count": null,
      "outputs": []
    },
    {
      "cell_type": "code",
      "metadata": {
        "id": "f4Ff24ELvFzR"
      },
      "source": [
        "# test set의 각 class 별 image 수 확인\n",
        "unique, counts = np.unique(test_labels, axis=-1, return_counts=True)\n",
        "dict(zip(unique, counts))"
      ],
      "execution_count": null,
      "outputs": []
    },
    {
      "cell_type": "markdown",
      "metadata": {
        "id": "GrWCNyPZvPgN"
      },
      "source": [
        "### Data 시각화하기"
      ]
    },
    {
      "cell_type": "code",
      "metadata": {
        "id": "JMKlUaKfvLQJ"
      },
      "source": [
        "plt.figure(figsize=(8,8))\n",
        "for i in range(9):\n",
        "    plt.subplot(3,3,i+1)\n",
        "    plt.xticks([])\n",
        "    plt.yticks([])\n",
        "    plt.grid(False)\n",
        "    plt.imshow(train_images[i], cmap='gray')\n",
        "    plt.title(class_names[train_labels[i]])\n",
        "plt.show()"
      ],
      "execution_count": null,
      "outputs": []
    },
    {
      "cell_type": "markdown",
      "metadata": {
        "id": "7P6_DBZPvrMu"
      },
      "source": [
        "### Data 전처리"
      ]
    },
    {
      "cell_type": "code",
      "metadata": {
        "id": "wfjS_-y4vqQm"
      },
      "source": [
        "# image를 0~1사이 값으로 만들기 위하여 255로 나누어줌\n",
        "train_images = train_images.astype(np.float32) / 255.\n",
        "test_images = test_images.astype(np.float32) / 255.\n",
        "\n",
        "# one-hot encoding\n",
        "train_labels = keras.utils.to_categorical(train_labels, 10)\n",
        "test_labels = keras.utils.to_categorical(test_labels, 10)"
      ],
      "execution_count": null,
      "outputs": []
    },
    {
      "cell_type": "markdown",
      "metadata": {
        "id": "oDe8mN1-vmGh"
      },
      "source": [
        "### Dataset 만들기"
      ]
    },
    {
      "cell_type": "code",
      "metadata": {
        "id": "rc8hRxHWvUqZ"
      },
      "source": [
        "train_dataset = tf.data.Dataset.from_tensor_slices((train_images, train_labels)).shuffle(\n",
        "                buffer_size=100000).batch(64)\n",
        "test_dataset = tf.data.Dataset.from_tensor_slices((test_images, test_labels)).batch(64)"
      ],
      "execution_count": null,
      "outputs": []
    },
    {
      "cell_type": "code",
      "metadata": {
        "id": "MpaQhxmvv7_a"
      },
      "source": [
        "# Dataset을 통해 반복하기(iterate)\n",
        "# 이미지와 정답(label)을 표시합니다.\n",
        "imgs, lbs = next(iter(train_dataset))\n",
        "print(f\"Feature batch shape: {imgs.shape}\")\n",
        "print(f\"Labels batch shape: {lbs.shape}\")\n",
        "\n",
        "img = imgs[0]\n",
        "lb = lbs[0]\n",
        "plt.imshow(img, cmap='gray')\n",
        "plt.show()\n",
        "print(f\"Label: {lb}\")"
      ],
      "execution_count": null,
      "outputs": []
    },
    {
      "cell_type": "markdown",
      "metadata": {
        "id": "kyrVNM2fwn12"
      },
      "source": [
        "### Custom Dataset 만들기"
      ]
    },
    {
      "cell_type": "code",
      "metadata": {
        "id": "FzzXDgNGwnBV"
      },
      "source": [
        "a = np.arange(10)\n",
        "print(a)\n",
        "\n",
        "ds_tensors = tf.data.Dataset.from_tensor_slices(a)\n",
        "print(ds_tensors)\n",
        "\n",
        "for x in ds_tensors:\n",
        "    print (x)"
      ],
      "execution_count": null,
      "outputs": []
    },
    {
      "cell_type": "code",
      "metadata": {
        "id": "6hAXE-CUwPmq"
      },
      "source": [
        "# data 전처리(변환), shuffle, batch 추가\n",
        "ds_tensors = ds_tensors.map(tf.square).shuffle(10).batch(2)"
      ],
      "execution_count": null,
      "outputs": []
    },
    {
      "cell_type": "code",
      "metadata": {
        "id": "mbB3APdIw8QK"
      },
      "source": [
        "for _ in range(3):\n",
        "    for x in ds_tensors:\n",
        "        print(x)\n",
        "    print('='*50)"
      ],
      "execution_count": null,
      "outputs": []
    },
    {
      "cell_type": "markdown",
      "metadata": {
        "id": "ek-Z53ZpxD7P"
      },
      "source": [
        "## Model"
      ]
    },
    {
      "cell_type": "markdown",
      "metadata": {
        "id": "8aFljiFtxGUP"
      },
      "source": [
        "### Keras Sequential API 사용\n"
      ]
    },
    {
      "cell_type": "code",
      "metadata": {
        "id": "8Id8VOEiw-nT"
      },
      "source": [
        "def create_seq_model():\n",
        "  model = keras.Sequential()\n",
        "  model.add(keras.layers.Flatten(input_shape=(28, 28)))\n",
        "  model.add(keras.layers.Dense(128, activation='relu'))\n",
        "  model.add(keras.layers.Dropout(0.2))\n",
        "  model.add(keras.layers.Dense(10, activation='softmax'))\n",
        "  return model"
      ],
      "execution_count": null,
      "outputs": []
    },
    {
      "cell_type": "code",
      "metadata": {
        "id": "fc-0GKtqxopy"
      },
      "source": [
        "seq_model = create_seq_model()"
      ],
      "execution_count": null,
      "outputs": []
    },
    {
      "cell_type": "code",
      "metadata": {
        "id": "MVask4mlxtLy"
      },
      "source": [
        "seq_model.summary()"
      ],
      "execution_count": null,
      "outputs": []
    },
    {
      "cell_type": "markdown",
      "metadata": {
        "id": "6fB29iRAxyP_"
      },
      "source": [
        "### Keras Functional API 사용"
      ]
    },
    {
      "cell_type": "code",
      "metadata": {
        "id": "nzzxJsKfxwXS"
      },
      "source": [
        "def create_func_model():\n",
        "  inputs = keras.Input(shape=(28,28))\n",
        "  flatten = keras.layers.Flatten()(inputs)\n",
        "  dense = keras.layers.Dense(128, activation='relu')(flatten)\n",
        "  drop = keras.layers.Dropout(0.2)(dense)\n",
        "  outputs = keras.layers.Dense(10, activation='softmax')(drop)\n",
        "  model = keras.Model(inputs=inputs, outputs=outputs)\n",
        "  return model"
      ],
      "execution_count": null,
      "outputs": []
    },
    {
      "cell_type": "code",
      "metadata": {
        "id": "SvFHBdqyyhJ6"
      },
      "source": [
        "func_model = create_func_model()"
      ],
      "execution_count": null,
      "outputs": []
    },
    {
      "cell_type": "code",
      "metadata": {
        "id": "gYqg6n73yjXq"
      },
      "source": [
        "func_model.summary()"
      ],
      "execution_count": null,
      "outputs": []
    },
    {
      "cell_type": "markdown",
      "metadata": {
        "id": "J3weqVyOymnn"
      },
      "source": [
        "### Model Class Subclassing 사용"
      ]
    },
    {
      "cell_type": "code",
      "metadata": {
        "id": "Y8pq4dLnykdS"
      },
      "source": [
        "class SubClassModel(keras.Model):\n",
        "  def __init__(self):\n",
        "    super(SubClassModel, self).__init__()\n",
        "    self.flatten = keras.layers.Flatten(input_shape=(28, 28))\n",
        "    self.dense1 = keras.layers.Dense(128, activation='relu')\n",
        "    self.drop = keras.layers.Dropout(0.2)\n",
        "    self.dense2 = keras.layers.Dense(10, activation='softmax')\n",
        "  def call(self, x, training=False):\n",
        "    x = self.flatten(x)\n",
        "    x = self.dense1(x)\n",
        "    x = self.drop(x)\n",
        "    return self.dense2(x)"
      ],
      "execution_count": null,
      "outputs": []
    },
    {
      "cell_type": "code",
      "metadata": {
        "id": "tt52E2NWzURC"
      },
      "source": [
        "subclass_model = SubClassModel()"
      ],
      "execution_count": null,
      "outputs": []
    },
    {
      "cell_type": "code",
      "metadata": {
        "id": "RV_KgXakzadz"
      },
      "source": [
        "inputs = tf.zeros((1, 28, 28))\n",
        "subclass_model(inputs)\n",
        "subclass_model.summary()"
      ],
      "execution_count": null,
      "outputs": []
    },
    {
      "cell_type": "code",
      "metadata": {
        "id": "CYl4PqbCzbtz"
      },
      "source": [
        "# 가상의 data 만들어서 예측해보기\n",
        "inputs = tf.random.normal((1, 28, 28))\n",
        "outputs = subclass_model(inputs)\n",
        "pred = tf.argmax(outputs, -1)\n",
        "print(f\"Predicted class: {pred}\")"
      ],
      "execution_count": null,
      "outputs": []
    },
    {
      "cell_type": "markdown",
      "metadata": {
        "id": "Hjgp8OAD01GH"
      },
      "source": [
        "## Traning / Validation"
      ]
    },
    {
      "cell_type": "markdown",
      "metadata": {
        "id": "XJlGY-dy5J5q"
      },
      "source": [
        "### Keras API 사용"
      ]
    },
    {
      "cell_type": "code",
      "metadata": {
        "id": "P6cF-y6R0yCL"
      },
      "source": [
        "learning_rate = 0.001\n",
        "seq_model.compile(optimizer=tf.keras.optimizers.Adam(learning_rate),\n",
        "              loss='categorical_crossentropy',\n",
        "              metrics=['accuracy'])"
      ],
      "execution_count": null,
      "outputs": []
    },
    {
      "cell_type": "code",
      "metadata": {
        "id": "dioyr2Q057wc"
      },
      "source": [
        "history = seq_model.fit(train_dataset, epochs=10, validation_data=test_dataset)"
      ],
      "execution_count": null,
      "outputs": []
    },
    {
      "cell_type": "code",
      "metadata": {
        "id": "tilZI3YW6Tll"
      },
      "source": [
        "## Plot losses\n",
        "plt.plot(history.history['loss'], 'b-', label='loss')\n",
        "plt.plot(history.history['val_loss'], 'r--', label='val_loss')\n",
        "plt.xlabel('Epoch')\n",
        "plt.legend()\n",
        "plt.show()"
      ],
      "execution_count": null,
      "outputs": []
    },
    {
      "cell_type": "code",
      "metadata": {
        "id": "LY-a3Y546xhs"
      },
      "source": [
        "## Plot Accuracy\n",
        "plt.plot(history.history['accuracy'], 'b-', label='acc')\n",
        "plt.plot(history.history['val_accuracy'], 'r--', label='val_acc')\n",
        "plt.xlabel('Epoch')\n",
        "plt.legend()\n",
        "plt.show()"
      ],
      "execution_count": null,
      "outputs": []
    },
    {
      "cell_type": "markdown",
      "metadata": {
        "id": "4VFqWUCm7K_z"
      },
      "source": [
        "### GradientTape 사용"
      ]
    },
    {
      "cell_type": "code",
      "metadata": {
        "id": "vOwN4DFI60R9"
      },
      "source": [
        "# loss function\n",
        "loss_object = keras.losses.CategoricalCrossentropy()"
      ],
      "execution_count": null,
      "outputs": []
    },
    {
      "cell_type": "code",
      "metadata": {
        "id": "153jt421803l"
      },
      "source": [
        "# optimizer\n",
        "learning_rate = 0.001\n",
        "optimizer = keras.optimizers.Adam(learning_rate=learning_rate)"
      ],
      "execution_count": null,
      "outputs": []
    },
    {
      "cell_type": "code",
      "metadata": {
        "id": "IBDHMbMD9-nW"
      },
      "source": [
        "# loss, accuracy 계산\n",
        "train_loss = keras.metrics.Mean(name='train_loss')\n",
        "train_accuracy = keras.metrics.CategoricalAccuracy(name='train_accuracy')\n",
        "\n",
        "test_loss = keras.metrics.Mean(name='test_loss')\n",
        "test_accuracy = keras.metrics.CategoricalAccuracy(name='test_accuracy')"
      ],
      "execution_count": null,
      "outputs": []
    },
    {
      "cell_type": "code",
      "metadata": {
        "id": "Tc9TNfY7-QI9"
      },
      "source": [
        "@tf.function\n",
        "def train_step(model, images, labels):\n",
        "  with tf.GradientTape() as tape:\n",
        "    # training=True is only needed if there are layers with different\n",
        "    # behavior during training versus inference (e.g. Dropout).\n",
        "    predictions = model(images, training=True)\n",
        "    loss = loss_object(labels, predictions)\n",
        "  gradients = tape.gradient(loss, model.trainable_variables)\n",
        "  optimizer.apply_gradients(zip(gradients, model.trainable_variables))\n",
        "\n",
        "  train_loss(loss)\n",
        "  train_accuracy(labels, predictions)"
      ],
      "execution_count": null,
      "outputs": []
    },
    {
      "cell_type": "code",
      "metadata": {
        "id": "mnnvO_O4-0m-"
      },
      "source": [
        "@tf.function\n",
        "def test_step(model, images, labels):\n",
        "  # training=False is only needed if there are layers with different\n",
        "  # behavior during training versus inference (e.g. Dropout).\n",
        "  predictions = model(images, training=False)\n",
        "  t_loss = loss_object(labels, predictions)\n",
        "\n",
        "  test_loss(t_loss)\n",
        "  test_accuracy(labels, predictions)"
      ],
      "execution_count": null,
      "outputs": []
    },
    {
      "cell_type": "code",
      "metadata": {
        "id": "ukQTFQ3C-4H2"
      },
      "source": [
        "EPOCHS = 10\n",
        "\n",
        "for epoch in range(EPOCHS):\n",
        "  # Reset the metrics at the start of the next epoch\n",
        "  train_loss.reset_states()\n",
        "  train_accuracy.reset_states()\n",
        "  test_loss.reset_states()\n",
        "  test_accuracy.reset_states()\n",
        "\n",
        "  for images, labels in train_dataset:\n",
        "    train_step(func_model, images, labels)\n",
        "\n",
        "  for test_images, test_labels in test_dataset:\n",
        "    test_step(func_model, test_images, test_labels)\n",
        "\n",
        "  print(\n",
        "    f'Epoch {epoch + 1}, '\n",
        "    f'Loss: {train_loss.result()}, '\n",
        "    f'Accuracy: {train_accuracy.result() * 100}, '\n",
        "    f'Test Loss: {test_loss.result()}, '\n",
        "    f'Test Accuracy: {test_accuracy.result() * 100}'\n",
        "  )"
      ],
      "execution_count": null,
      "outputs": []
    },
    {
      "cell_type": "markdown",
      "metadata": {
        "id": "bsylMBvG_SKk"
      },
      "source": [
        "## Model 저장하고 불러오기"
      ]
    },
    {
      "cell_type": "markdown",
      "metadata": {
        "id": "ILZ2UZtG_Wcs"
      },
      "source": [
        "### parameter만 저장하고 불러오기"
      ]
    },
    {
      "cell_type": "code",
      "metadata": {
        "id": "aW3urlf_--wV"
      },
      "source": [
        "seq_model.save_weights('seq_model.ckpt')"
      ],
      "execution_count": null,
      "outputs": []
    },
    {
      "cell_type": "code",
      "metadata": {
        "id": "jscos7SR_rne"
      },
      "source": [
        "seq_model_2 = create_seq_model()\n",
        "seq_model_2.compile(optimizer=tf.keras.optimizers.Adam(learning_rate),\n",
        "              loss='categorical_crossentropy',\n",
        "              metrics=['accuracy'])"
      ],
      "execution_count": null,
      "outputs": []
    },
    {
      "cell_type": "code",
      "metadata": {
        "id": "ZG5_n34L_w-m"
      },
      "source": [
        "seq_model_2.evaluate(test_dataset)"
      ],
      "execution_count": null,
      "outputs": []
    },
    {
      "cell_type": "code",
      "metadata": {
        "id": "cG35uDOz_z-u"
      },
      "source": [
        "seq_model_2.load_weights('seq_model.ckpt')"
      ],
      "execution_count": null,
      "outputs": []
    },
    {
      "cell_type": "code",
      "metadata": {
        "id": "RY0CZ78kAFmW"
      },
      "source": [
        "seq_model_2.evaluate(test_dataset)"
      ],
      "execution_count": null,
      "outputs": []
    },
    {
      "cell_type": "markdown",
      "metadata": {
        "id": "u78ZB3NmAKIj"
      },
      "source": [
        "### Model 전체를 저장하고 불러오기"
      ]
    },
    {
      "cell_type": "code",
      "metadata": {
        "id": "cwIHNJj4AICO"
      },
      "source": [
        "seq_model.save('seq_model')"
      ],
      "execution_count": null,
      "outputs": []
    },
    {
      "cell_type": "code",
      "metadata": {
        "id": "RjEAsrR8ARgm"
      },
      "source": [
        "!ls"
      ],
      "execution_count": null,
      "outputs": []
    },
    {
      "cell_type": "code",
      "metadata": {
        "id": "PpWXRoL6ASPG"
      },
      "source": [
        "seq_model_3 = keras.models.load_model('seq_model')"
      ],
      "execution_count": null,
      "outputs": []
    },
    {
      "cell_type": "code",
      "metadata": {
        "id": "OhqSNOwYAWhY"
      },
      "source": [
        "seq_model_3.evaluate(test_dataset)"
      ],
      "execution_count": null,
      "outputs": []
    },
    {
      "cell_type": "markdown",
      "metadata": {
        "id": "OnC96I2rBbX2"
      },
      "source": [
        "## Tensorboard 사용하여 시각화하기"
      ]
    },
    {
      "cell_type": "code",
      "metadata": {
        "id": "r-ex0q2wBozU"
      },
      "source": [
        "%load_ext tensorboard"
      ],
      "execution_count": null,
      "outputs": []
    },
    {
      "cell_type": "markdown",
      "metadata": {
        "id": "K9JUuJeEBemF"
      },
      "source": [
        "### Keras Callback 사용"
      ]
    },
    {
      "cell_type": "code",
      "metadata": {
        "id": "gbRabVS3Ahmm"
      },
      "source": [
        "new_model_1 = create_seq_model()\n",
        "new_model_1.compile(optimizer=tf.keras.optimizers.Adam(learning_rate),\n",
        "              loss='categorical_crossentropy',\n",
        "              metrics=['accuracy'])"
      ],
      "execution_count": null,
      "outputs": []
    },
    {
      "cell_type": "code",
      "metadata": {
        "id": "9ltOogSpB9pX"
      },
      "source": [
        "new_model_1.evaluate(test_dataset)"
      ],
      "execution_count": null,
      "outputs": []
    },
    {
      "cell_type": "code",
      "metadata": {
        "id": "P-xKwk0YB_bv"
      },
      "source": [
        "log_dir = './logs/new_model_1'\n",
        "\n",
        "tensorboard_cb = keras.callbacks.TensorBoard(log_dir, histogram_freq=1)"
      ],
      "execution_count": null,
      "outputs": []
    },
    {
      "cell_type": "code",
      "metadata": {
        "id": "0fpClL_kCFJ3"
      },
      "source": [
        "new_model_1.fit(train_dataset, epochs=EPOCHS, validation_data=test_dataset,\n",
        "          callbacks=[tensorboard_cb])"
      ],
      "execution_count": null,
      "outputs": []
    },
    {
      "cell_type": "code",
      "metadata": {
        "id": "d2ax9hr6CRn2"
      },
      "source": [
        "%tensorboard --logdir $log_dir"
      ],
      "execution_count": null,
      "outputs": []
    },
    {
      "cell_type": "markdown",
      "metadata": {
        "id": "cj3kL_VkDHGX"
      },
      "source": [
        "### Summary Writer 사용"
      ]
    },
    {
      "cell_type": "code",
      "metadata": {
        "id": "ixN0sIh4Cdwu"
      },
      "source": [
        "new_model_2 = create_seq_model()"
      ],
      "execution_count": null,
      "outputs": []
    },
    {
      "cell_type": "code",
      "metadata": {
        "id": "gduevEpWFP-j"
      },
      "source": [
        "# loss function\n",
        "loss_object = keras.losses.CategoricalCrossentropy()"
      ],
      "execution_count": null,
      "outputs": []
    },
    {
      "cell_type": "code",
      "metadata": {
        "id": "-7CDR7-vFP-k"
      },
      "source": [
        "# optimizer\n",
        "learning_rate = 0.001\n",
        "optimizer = keras.optimizers.Adam(learning_rate=learning_rate)"
      ],
      "execution_count": null,
      "outputs": []
    },
    {
      "cell_type": "code",
      "metadata": {
        "id": "hv4GjjlOFP-k"
      },
      "source": [
        "# loss, accuracy 계산\n",
        "train_loss = keras.metrics.Mean(name='train_loss')\n",
        "train_accuracy = keras.metrics.CategoricalAccuracy(name='train_accuracy')\n",
        "\n",
        "test_loss = keras.metrics.Mean(name='test_loss')\n",
        "test_accuracy = keras.metrics.CategoricalAccuracy(name='test_accuracy')"
      ],
      "execution_count": null,
      "outputs": []
    },
    {
      "cell_type": "code",
      "metadata": {
        "id": "4m9Y_gRjFP-k"
      },
      "source": [
        "@tf.function\n",
        "def train_step(model, images, labels):\n",
        "  with tf.GradientTape() as tape:\n",
        "    # training=True is only needed if there are layers with different\n",
        "    # behavior during training versus inference (e.g. Dropout).\n",
        "    predictions = model(images, training=True)\n",
        "    loss = loss_object(labels, predictions)\n",
        "  gradients = tape.gradient(loss, model.trainable_variables)\n",
        "  optimizer.apply_gradients(zip(gradients, model.trainable_variables))\n",
        "\n",
        "  train_loss(loss)\n",
        "  train_accuracy(labels, predictions)"
      ],
      "execution_count": null,
      "outputs": []
    },
    {
      "cell_type": "code",
      "metadata": {
        "id": "HO6G7COHFP-l"
      },
      "source": [
        "@tf.function\n",
        "def test_step(model, images, labels):\n",
        "  # training=False is only needed if there are layers with different\n",
        "  # behavior during training versus inference (e.g. Dropout).\n",
        "  predictions = model(images, training=False)\n",
        "  t_loss = loss_object(labels, predictions)\n",
        "\n",
        "  test_loss(t_loss)\n",
        "  test_accuracy(labels, predictions)"
      ],
      "execution_count": null,
      "outputs": []
    },
    {
      "cell_type": "code",
      "metadata": {
        "id": "2acmbCz3Dprf"
      },
      "source": [
        "import datetime\n",
        "\n",
        "current_time = datetime.datetime.now().strftime(\"%Y%m%d-%H%M%S\")\n",
        "train_log_dir = 'logs/gradient_tape/' + current_time + '/train'\n",
        "test_log_dir = 'logs/gradient_tape/' + current_time + '/test'\n",
        "train_summary_writer = tf.summary.create_file_writer(train_log_dir)\n",
        "test_summary_writer = tf.summary.create_file_writer(test_log_dir)"
      ],
      "execution_count": null,
      "outputs": []
    },
    {
      "cell_type": "code",
      "metadata": {
        "id": "skAzBMSxEfcP"
      },
      "source": [
        "EPOCHS = 10\n",
        "\n",
        "for epoch in range(EPOCHS):\n",
        "  # Reset the metrics at the start of the next epoch\n",
        "  train_loss.reset_states()\n",
        "  train_accuracy.reset_states()\n",
        "  test_loss.reset_states()\n",
        "  test_accuracy.reset_states()\n",
        "\n",
        "  for images, labels in train_dataset:\n",
        "    train_step(new_model_2, images, labels)\n",
        "  with train_summary_writer.as_default():\n",
        "    tf.summary.scalar('loss', train_loss.result(), step=epoch)\n",
        "    tf.summary.scalar('accuracy', train_accuracy.result(), step=epoch)\n",
        "\n",
        "  for test_images, test_labels in test_dataset:\n",
        "    test_step(new_model_2, test_images, test_labels)\n",
        "  with test_summary_writer.as_default():\n",
        "    tf.summary.scalar('loss', test_loss.result(), step=epoch)\n",
        "    tf.summary.scalar('accuracy', test_accuracy.result(), step=epoch)\n",
        "\n",
        "  print(\n",
        "    f'Epoch {epoch + 1}, '\n",
        "    f'Loss: {train_loss.result()}, '\n",
        "    f'Accuracy: {train_accuracy.result() * 100}, '\n",
        "    f'Test Loss: {test_loss.result()}, '\n",
        "    f'Test Accuracy: {test_accuracy.result() * 100}'\n",
        "  )"
      ],
      "execution_count": null,
      "outputs": []
    },
    {
      "cell_type": "code",
      "metadata": {
        "id": "vsqzb5FlEQeX"
      },
      "source": [
        "%tensorboard --logdir 'logs/gradient_tape'"
      ],
      "execution_count": null,
      "outputs": []
    },
    {
      "cell_type": "code",
      "metadata": {
        "id": "vSbtb9aAFajQ"
      },
      "source": [],
      "execution_count": null,
      "outputs": []
    }
  ]
}