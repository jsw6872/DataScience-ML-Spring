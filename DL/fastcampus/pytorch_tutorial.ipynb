{
  "nbformat": 4,
  "nbformat_minor": 0,
  "metadata": {
    "colab": {
      "provenance": [],
      "collapsed_sections": []
    },
    "kernelspec": {
      "name": "python3",
      "display_name": "Python 3"
    },
    "language_info": {
      "name": "python"
    },
    "accelerator": "GPU"
  },
  "cells": [
    {
      "cell_type": "markdown",
      "metadata": {
        "id": "63Q803K53JFb"
      },
      "source": [
        "## Pytorch Basic"
      ]
    },
    {
      "cell_type": "markdown",
      "metadata": {
        "id": "NXbSk7vvWlxn"
      },
      "source": [
        "### Pytorch import"
      ]
    },
    {
      "cell_type": "code",
      "metadata": {
        "id": "8J0WMNj3QxxT",
        "colab": {
          "base_uri": "https://localhost:8080/"
        },
        "outputId": "eebd8a26-70da-4939-c17b-34f91c6ba970"
      },
      "source": [
        "import torch\n",
        "\n",
        "print(torch.__version__)"
      ],
      "execution_count": null,
      "outputs": [
        {
          "output_type": "stream",
          "name": "stdout",
          "text": [
            "1.12.1+cu113\n"
          ]
        }
      ]
    },
    {
      "cell_type": "code",
      "source": [
        "from torch import nn\n",
        "from torch.utils.data import DataLoader\n",
        "from torchvision import datasets\n",
        "from torchvision.transforms import ToTensor, Lambda, Compose\n",
        "import matplotlib.pyplot as plt\n",
        "import numpy as np"
      ],
      "metadata": {
        "id": "9S85xzzD34K-"
      },
      "execution_count": null,
      "outputs": []
    },
    {
      "cell_type": "markdown",
      "metadata": {
        "id": "6yYFv2sHXRyO"
      },
      "source": [
        "### Pytorch 맛보기\n",
        "\n"
      ]
    },
    {
      "cell_type": "markdown",
      "metadata": {
        "id": "Ij2YufhijT8r"
      },
      "source": [
        "### Tensor\n",
        "\n",
        "텐서(tensor)는 배열(array)이나 행렬(matrix)과 매우 유사한 특수한 자료구조입니다. PyTorch에서는 텐서를 사용하여 모델의 입력(input)과 출력(output), 그리고 모델의 매개변수들을 부호화(encode)합니다."
      ]
    },
    {
      "cell_type": "code",
      "metadata": {
        "id": "kZX5qD2yas4W",
        "colab": {
          "base_uri": "https://localhost:8080/"
        },
        "outputId": "2338ab79-1b45-4d5f-9312-a2a9bdba9114"
      },
      "source": [
        "# list로부터 직접 tensor 생성하기 \n",
        "data = [[1, 2], [3, 4]]\n",
        "x_data = torch.tensor(data)\n",
        "print(x_data)"
      ],
      "execution_count": null,
      "outputs": [
        {
          "output_type": "stream",
          "name": "stdout",
          "text": [
            "tensor([[1, 2],\n",
            "        [3, 4]])\n"
          ]
        }
      ]
    },
    {
      "cell_type": "code",
      "source": [
        "# numpy array로부터 tensor 생성하기\n",
        "np_array = np.array(data)\n",
        "print(np_array)"
      ],
      "metadata": {
        "colab": {
          "base_uri": "https://localhost:8080/"
        },
        "id": "7_k_s5Hlqo99",
        "outputId": "0de58cd5-cb13-467a-df34-1eb2a1e5e13c"
      },
      "execution_count": null,
      "outputs": [
        {
          "output_type": "stream",
          "name": "stdout",
          "text": [
            "[[1 2]\n",
            " [3 4]]\n"
          ]
        }
      ]
    },
    {
      "cell_type": "code",
      "metadata": {
        "id": "gyl8vKttt7jq",
        "colab": {
          "base_uri": "https://localhost:8080/"
        },
        "outputId": "9a66f6a3-dde5-4171-b793-c5c98e15133f"
      },
      "source": [
        "# 각각이 메모리를 할당받고 있음 (메모리를 낭비하는 상황이 생길 수 있음)\n",
        "x_np_1 = torch.tensor(np_array)\n",
        "print(x_np_1)"
      ],
      "execution_count": null,
      "outputs": [
        {
          "output_type": "stream",
          "name": "stdout",
          "text": [
            "tensor([[1, 2],\n",
            "        [3, 4]])\n"
          ]
        }
      ]
    },
    {
      "cell_type": "code",
      "metadata": {
        "id": "NjcTTEfPuEBk",
        "colab": {
          "base_uri": "https://localhost:8080/"
        },
        "outputId": "f866a7a7-d982-4aad-c91d-1d7700cfc53a"
      },
      "source": [
        "# 메모리 주소값을 할당 받아서 같이 씀\n",
        "x_np_2 = torch.as_tensor(np_array)\n",
        "print(x_np_2)"
      ],
      "execution_count": null,
      "outputs": [
        {
          "output_type": "stream",
          "name": "stdout",
          "text": [
            "tensor([[1, 2],\n",
            "        [3, 4]])\n"
          ]
        }
      ]
    },
    {
      "cell_type": "code",
      "metadata": {
        "id": "GrhahgRwuK18",
        "colab": {
          "base_uri": "https://localhost:8080/"
        },
        "outputId": "15c50f61-41e6-45ef-d988-4e5919570b36"
      },
      "source": [
        "# 메모리 주소값을 할당 받아서 같이 씀\n",
        "x_np_3 = torch.from_numpy(np_array)\n",
        "print(x_np_3)"
      ],
      "execution_count": null,
      "outputs": [
        {
          "output_type": "stream",
          "name": "stdout",
          "text": [
            "tensor([[1, 2],\n",
            "        [3, 4]])\n"
          ]
        }
      ]
    },
    {
      "cell_type": "code",
      "metadata": {
        "id": "EP7-VKXZuPSk",
        "colab": {
          "base_uri": "https://localhost:8080/"
        },
        "outputId": "3e3ba0d8-8fb4-4dec-ef56-a1dc4b96bd36"
      },
      "source": [
        "x_np_1[0,0] = 5\n",
        "print(x_np_1)\n",
        "print(np_array)"
      ],
      "execution_count": null,
      "outputs": [
        {
          "output_type": "stream",
          "name": "stdout",
          "text": [
            "tensor([[5, 2],\n",
            "        [3, 4]])\n",
            "[[1 2]\n",
            " [3 4]]\n"
          ]
        }
      ]
    },
    {
      "cell_type": "code",
      "metadata": {
        "id": "asd0tYpyuVYk",
        "colab": {
          "base_uri": "https://localhost:8080/"
        },
        "outputId": "127a26de-6d6d-40eb-d13f-3b68777bba20"
      },
      "source": [
        "x_np_2[0,0] = 6\n",
        "print(x_np_2)\n",
        "print(np_array)"
      ],
      "execution_count": null,
      "outputs": [
        {
          "output_type": "stream",
          "name": "stdout",
          "text": [
            "tensor([[6, 2],\n",
            "        [3, 4]])\n",
            "[[6 2]\n",
            " [3 4]]\n"
          ]
        }
      ]
    },
    {
      "cell_type": "code",
      "metadata": {
        "id": "dhlhRbXZuakk",
        "colab": {
          "base_uri": "https://localhost:8080/"
        },
        "outputId": "f73ac839-716a-4c51-eb90-ca49f5aaf89f"
      },
      "source": [
        "x_np_3[0,0] = 7\n",
        "print(x_np_3)\n",
        "print(np_array)"
      ],
      "execution_count": null,
      "outputs": [
        {
          "output_type": "stream",
          "name": "stdout",
          "text": [
            "tensor([[7, 2],\n",
            "        [3, 4]])\n",
            "[[7 2]\n",
            " [3 4]]\n"
          ]
        }
      ]
    },
    {
      "cell_type": "code",
      "source": [
        "np_array"
      ],
      "metadata": {
        "colab": {
          "base_uri": "https://localhost:8080/"
        },
        "id": "vhVgJ-kGrd4J",
        "outputId": "f5cff646-1954-470e-bda5-77e3f91660ad"
      },
      "execution_count": null,
      "outputs": [
        {
          "output_type": "execute_result",
          "data": {
            "text/plain": [
              "array([[7, 2],\n",
              "       [3, 4]])"
            ]
          },
          "metadata": {},
          "execution_count": 38
        }
      ]
    },
    {
      "cell_type": "code",
      "metadata": {
        "id": "sDjZtvbl1t55",
        "colab": {
          "base_uri": "https://localhost:8080/"
        },
        "outputId": "41b75611-bdec-4e5f-bbbd-31637fad77ce"
      },
      "source": [
        "np_again = x_np_1.numpy() # 넘파이로 변경\n",
        "print(np_again, type(np_again))"
      ],
      "execution_count": null,
      "outputs": [
        {
          "output_type": "stream",
          "name": "stdout",
          "text": [
            "[[5 2]\n",
            " [3 4]] <class 'numpy.ndarray'>\n"
          ]
        }
      ]
    },
    {
      "cell_type": "code",
      "metadata": {
        "id": "UAJXi6dLukuE",
        "colab": {
          "base_uri": "https://localhost:8080/"
        },
        "outputId": "057ca526-b36a-43b2-f362-947a550882cc"
      },
      "source": [
        "# 넘파이 메소드와 동일\n",
        "a = torch.ones(2,3)\n",
        "b = torch.zeros(2,3)\n",
        "c = torch.full((2,3), 2)\n",
        "d = torch.empty(2,3)\n",
        "print(a)\n",
        "print(b)\n",
        "print(c)\n",
        "print(d)"
      ],
      "execution_count": null,
      "outputs": [
        {
          "output_type": "stream",
          "name": "stdout",
          "text": [
            "tensor([[1., 1., 1.],\n",
            "        [1., 1., 1.]])\n",
            "tensor([[0., 0., 0.],\n",
            "        [0., 0., 0.]])\n",
            "tensor([[2, 2, 2],\n",
            "        [2, 2, 2]])\n",
            "tensor([[4.6094e+32, 0.0000e+00, 1.4434e-33],\n",
            "        [0.0000e+00, 3.8825e+32, 0.0000e+00]])\n"
          ]
        }
      ]
    },
    {
      "cell_type": "code",
      "metadata": {
        "id": "2hy9UD_9wt8a",
        "colab": {
          "base_uri": "https://localhost:8080/"
        },
        "outputId": "be655514-04c7-4896-964f-1223fcdb50ca"
      },
      "source": [
        "# parameter와 같은 shape의 tensor 반환\n",
        "e = torch.zeros_like(c)\n",
        "f = torch.ones_like(c)\n",
        "g = torch.full_like(c, 3)\n",
        "h = torch.empty_like(c)\n",
        "print(e)\n",
        "print(f)\n",
        "print(g)\n",
        "print(h)"
      ],
      "execution_count": null,
      "outputs": [
        {
          "output_type": "stream",
          "name": "stdout",
          "text": [
            "tensor([[0, 0, 0],\n",
            "        [0, 0, 0]])\n",
            "tensor([[1, 1, 1],\n",
            "        [1, 1, 1]])\n",
            "tensor([[3, 3, 3],\n",
            "        [3, 3, 3]])\n",
            "tensor([[         1974848896,                  24,          4294967295],\n",
            "        [8171062582517395298, 8243662592152856949, 7310305785198503009]])\n"
          ]
        }
      ]
    },
    {
      "cell_type": "code",
      "metadata": {
        "id": "e_sa93IYw9bf",
        "colab": {
          "base_uri": "https://localhost:8080/"
        },
        "outputId": "8c1989f9-9833-4a4f-80b9-0327cf17b211"
      },
      "source": [
        "i = torch.eye(3)\n",
        "print(i)"
      ],
      "execution_count": null,
      "outputs": [
        {
          "output_type": "stream",
          "name": "stdout",
          "text": [
            "tensor([[1., 0., 0.],\n",
            "        [0., 1., 0.],\n",
            "        [0., 0., 1.]])\n"
          ]
        }
      ]
    },
    {
      "cell_type": "code",
      "metadata": {
        "id": "KbFJzWSsxGJv",
        "colab": {
          "base_uri": "https://localhost:8080/"
        },
        "outputId": "b3ea9289-e049-41ef-f72a-e2634e4a12ce"
      },
      "source": [
        "j = torch.arange(10)\n",
        "print(j)"
      ],
      "execution_count": null,
      "outputs": [
        {
          "output_type": "stream",
          "name": "stdout",
          "text": [
            "tensor([0, 1, 2, 3, 4, 5, 6, 7, 8, 9])\n"
          ]
        }
      ]
    },
    {
      "cell_type": "code",
      "metadata": {
        "id": "FxgtCvqru4ID",
        "colab": {
          "base_uri": "https://localhost:8080/"
        },
        "outputId": "74430534-d317-40d2-d781-646b7c8b408a"
      },
      "source": [
        "k = torch.rand(2,2)\n",
        "l = torch.randn(2,2)\n",
        "print(k)\n",
        "print(l)"
      ],
      "execution_count": null,
      "outputs": [
        {
          "output_type": "stream",
          "name": "stdout",
          "text": [
            "tensor([[0.4517, 0.3143],\n",
            "        [0.5540, 0.0017]])\n",
            "tensor([[-1.7415,  1.7339],\n",
            "        [ 0.6828, -1.5186]])\n"
          ]
        }
      ]
    },
    {
      "cell_type": "markdown",
      "metadata": {
        "id": "Ybi6d3J6xcg_"
      },
      "source": [
        "#### Tensor의 속성"
      ]
    },
    {
      "cell_type": "code",
      "metadata": {
        "id": "3HUKWFr6vV0j",
        "colab": {
          "base_uri": "https://localhost:8080/"
        },
        "outputId": "05ebc0d9-4b84-4a77-8e92-129d86a548af"
      },
      "source": [
        "tensor = torch.rand(3,4)\n",
        "\n",
        "print(f\"Shape of tensor: {tensor.shape}\")\n",
        "print(f\"Datatype of tensor: {tensor.dtype}\")\n",
        "print(f\"Device tensor is stored on: {tensor.device}\")"
      ],
      "execution_count": null,
      "outputs": [
        {
          "output_type": "stream",
          "name": "stdout",
          "text": [
            "Shape of tensor: torch.Size([3, 4])\n",
            "Datatype of tensor: torch.float32\n",
            "Device tensor is stored on: cpu\n"
          ]
        }
      ]
    },
    {
      "cell_type": "code",
      "metadata": {
        "id": "OqBxAjy_yrEA",
        "colab": {
          "base_uri": "https://localhost:8080/"
        },
        "outputId": "36eb9810-261d-4e92-c1ae-84eaa9aa067c"
      },
      "source": [
        "# 속성 변경\n",
        "tensor = tensor.reshape(4,3)\n",
        "tensor = tensor.int()\n",
        "\n",
        "# gpu 디바이스로 변경\n",
        "if torch.cuda.is_available():\n",
        "  tensor = tensor.to('cuda')\n",
        "\n",
        "print(f\"Shape of tensor: {tensor.shape}\")\n",
        "print(f\"Datatype of tensor: {tensor.dtype}\")\n",
        "print(f\"Device tensor is stored on: {tensor.device}\")"
      ],
      "execution_count": null,
      "outputs": [
        {
          "output_type": "stream",
          "name": "stdout",
          "text": [
            "Shape of tensor: torch.Size([4, 3])\n",
            "Datatype of tensor: torch.int32\n",
            "Device tensor is stored on: cuda:0\n"
          ]
        }
      ]
    },
    {
      "cell_type": "markdown",
      "metadata": {
        "id": "iiC7ViT1yMyP"
      },
      "source": [
        "### Indexing과 Slicing"
      ]
    },
    {
      "cell_type": "code",
      "metadata": {
        "id": "e_mwMvjryMGR",
        "colab": {
          "base_uri": "https://localhost:8080/"
        },
        "outputId": "04eeb73d-5d6d-48f9-bd09-0dbdfddda63b"
      },
      "source": [
        "a = torch.arange(1, 13).reshape(3, 4)\n",
        "print(a)"
      ],
      "execution_count": null,
      "outputs": [
        {
          "output_type": "stream",
          "name": "stdout",
          "text": [
            "tensor([[ 1,  2,  3,  4],\n",
            "        [ 5,  6,  7,  8],\n",
            "        [ 9, 10, 11, 12]])\n"
          ]
        }
      ]
    },
    {
      "cell_type": "code",
      "metadata": {
        "id": "uM0X_yiTxVS6",
        "colab": {
          "base_uri": "https://localhost:8080/"
        },
        "outputId": "52db8900-9f0a-4515-eb0a-21c02fbe05f3"
      },
      "source": [
        "# indexing (차원이 축소된다)\n",
        "print(a[1])\n",
        "print(a[0,-1])"
      ],
      "execution_count": null,
      "outputs": [
        {
          "output_type": "stream",
          "name": "stdout",
          "text": [
            "tensor([5, 6, 7, 8])\n",
            "tensor(4)\n"
          ]
        }
      ]
    },
    {
      "cell_type": "code",
      "metadata": {
        "id": "hne1WelrxV-c",
        "colab": {
          "base_uri": "https://localhost:8080/"
        },
        "outputId": "2320d21f-27ef-4ade-fe77-e9d9156f80ad"
      },
      "source": [
        "# slicing (차원 유지)\n",
        "print(a[1:-1]) \n",
        "print(a[:2, 2:])"
      ],
      "execution_count": null,
      "outputs": [
        {
          "output_type": "stream",
          "name": "stdout",
          "text": [
            "tensor([[5, 6, 7, 8]])\n",
            "tensor([[3, 4],\n",
            "        [7, 8]])\n"
          ]
        }
      ]
    },
    {
      "cell_type": "markdown",
      "metadata": {
        "id": "0LDBFZ7GzyB5"
      },
      "source": [
        "### Transpose - 파이썬 numpy와 살짝 다름"
      ]
    },
    {
      "cell_type": "code",
      "metadata": {
        "id": "yPHd8DjiynMM",
        "colab": {
          "base_uri": "https://localhost:8080/"
        },
        "outputId": "639539de-940e-472e-b330-60c4a0ac5b42"
      },
      "source": [
        "a = torch.arange(16).reshape(2,2,4)\n",
        "print(a, a.shape)"
      ],
      "execution_count": null,
      "outputs": [
        {
          "output_type": "stream",
          "name": "stdout",
          "text": [
            "tensor([[[ 0,  1,  2,  3],\n",
            "         [ 4,  5,  6,  7]],\n",
            "\n",
            "        [[ 8,  9, 10, 11],\n",
            "         [12, 13, 14, 15]]]) torch.Size([2, 2, 4])\n"
          ]
        }
      ]
    },
    {
      "cell_type": "code",
      "metadata": {
        "id": "ihgjJ7z1z45s",
        "colab": {
          "base_uri": "https://localhost:8080/"
        },
        "outputId": "20aadb45-6cfc-4bd9-99c6-a0bfb5cc163b"
      },
      "source": [
        "# 2, 2, 4의 차원을 가진 tensor를 2번째와 3번째를 transpose시킨다\n",
        "b = a.transpose(1, 2)\n",
        "print(b, b.shape)"
      ],
      "execution_count": null,
      "outputs": [
        {
          "output_type": "stream",
          "name": "stdout",
          "text": [
            "tensor([[[ 0,  4],\n",
            "         [ 1,  5],\n",
            "         [ 2,  6],\n",
            "         [ 3,  7]],\n",
            "\n",
            "        [[ 8, 12],\n",
            "         [ 9, 13],\n",
            "         [10, 14],\n",
            "         [11, 15]]]) torch.Size([2, 4, 2])\n"
          ]
        }
      ]
    },
    {
      "cell_type": "code",
      "metadata": {
        "id": "17QBnkcUz_j1",
        "colab": {
          "base_uri": "https://localhost:8080/"
        },
        "outputId": "655b88ff-36ce-4f7a-9e7e-cd311c95398a"
      },
      "source": [
        "c = a.permute((2, 0, 1))\n",
        "print(c, c.shape)"
      ],
      "execution_count": null,
      "outputs": [
        {
          "output_type": "stream",
          "name": "stdout",
          "text": [
            "tensor([[[ 0,  4],\n",
            "         [ 8, 12]],\n",
            "\n",
            "        [[ 1,  5],\n",
            "         [ 9, 13]],\n",
            "\n",
            "        [[ 2,  6],\n",
            "         [10, 14]],\n",
            "\n",
            "        [[ 3,  7],\n",
            "         [11, 15]]]) torch.Size([4, 2, 2])\n"
          ]
        }
      ]
    },
    {
      "cell_type": "markdown",
      "metadata": {
        "id": "Zs8pjQEk0Xq5"
      },
      "source": [
        "### Tensor 연산"
      ]
    },
    {
      "cell_type": "code",
      "metadata": {
        "id": "gAzq1rhW0ELt",
        "colab": {
          "base_uri": "https://localhost:8080/"
        },
        "outputId": "4fd52a2b-7719-4fc1-ac37-ff790cb99dd8"
      },
      "source": [
        "x = torch.tensor([[1,2], [3,4]], dtype=torch.float32)\n",
        "y = torch.tensor([[5,6], [7,8]], dtype=torch.float32)\n",
        "print(x)\n",
        "print(y)"
      ],
      "execution_count": null,
      "outputs": [
        {
          "output_type": "stream",
          "name": "stdout",
          "text": [
            "tensor([[1., 2.],\n",
            "        [3., 4.]])\n",
            "tensor([[5., 6.],\n",
            "        [7., 8.]])\n"
          ]
        }
      ]
    },
    {
      "cell_type": "code",
      "metadata": {
        "id": "7hewUZsy0mBW",
        "colab": {
          "base_uri": "https://localhost:8080/"
        },
        "outputId": "ca7ed4fb-159a-494f-8f90-3b12b0683145"
      },
      "source": [
        "print(x + y)\n",
        "print(x - y)\n",
        "print(x * y)\n",
        "print(x / y)\n",
        "print(x @ y)\n",
        "\n",
        "print('='*30)\n",
        "\n",
        "print(torch.add(x, y))\n",
        "print(torch.subtract(x, y))\n",
        "print(torch.multiply(x, y))\n",
        "print(torch.divide(x, y))\n",
        "print(torch.matmul(x, y))"
      ],
      "execution_count": null,
      "outputs": [
        {
          "output_type": "stream",
          "name": "stdout",
          "text": [
            "tensor([[ 6.,  8.],\n",
            "        [10., 12.]])\n",
            "tensor([[-4., -4.],\n",
            "        [-4., -4.]])\n",
            "tensor([[ 5., 12.],\n",
            "        [21., 32.]])\n",
            "tensor([[0.2000, 0.3333],\n",
            "        [0.4286, 0.5000]])\n",
            "tensor([[19., 22.],\n",
            "        [43., 50.]])\n",
            "==============================\n",
            "tensor([[ 6.,  8.],\n",
            "        [10., 12.]])\n",
            "tensor([[-4., -4.],\n",
            "        [-4., -4.]])\n",
            "tensor([[ 5., 12.],\n",
            "        [21., 32.]])\n",
            "tensor([[0.2000, 0.3333],\n",
            "        [0.4286, 0.5000]])\n",
            "tensor([[19., 22.],\n",
            "        [43., 50.]])\n"
          ]
        }
      ]
    },
    {
      "cell_type": "code",
      "metadata": {
        "id": "HyQBtTjY1b37",
        "colab": {
          "base_uri": "https://localhost:8080/"
        },
        "outputId": "7012b1af-fb22-443f-9833-6559c08fac7e"
      },
      "source": [
        "print(x.add(y))\n",
        "print(x)\n",
        "\n",
        "# in-place 연산 (바로 반영)\n",
        "print(x.add_(y))\n",
        "print(x)"
      ],
      "execution_count": null,
      "outputs": [
        {
          "output_type": "stream",
          "name": "stdout",
          "text": [
            "tensor([[ 6.,  8.],\n",
            "        [10., 12.]])\n",
            "tensor([[1., 2.],\n",
            "        [3., 4.]])\n",
            "tensor([[ 6.,  8.],\n",
            "        [10., 12.]])\n",
            "tensor([[ 6.,  8.],\n",
            "        [10., 12.]])\n"
          ]
        }
      ]
    },
    {
      "cell_type": "code",
      "metadata": {
        "id": "PryILS5s09cd",
        "colab": {
          "base_uri": "https://localhost:8080/"
        },
        "outputId": "346bdd32-d615-44ef-be17-af3fae6000e2"
      },
      "source": [
        "z = torch.arange(1, 11).reshape(2, 5)\n",
        "print(z)"
      ],
      "execution_count": null,
      "outputs": [
        {
          "output_type": "stream",
          "name": "stdout",
          "text": [
            "tensor([[ 1,  2,  3,  4,  5],\n",
            "        [ 6,  7,  8,  9, 10]])\n"
          ]
        }
      ]
    },
    {
      "cell_type": "code",
      "metadata": {
        "id": "yH3_rGlI1KlV",
        "colab": {
          "base_uri": "https://localhost:8080/"
        },
        "outputId": "10f4c0c4-e0d4-4698-f5d7-23485120eccb"
      },
      "source": [
        "sum1 = torch.sum(z, axis=0)\n",
        "sum2 = torch.sum(z, axis=1)\n",
        "sum3 = torch.sum(z, axis=-1)\n",
        "print(sum1, sum1.shape)\n",
        "print(sum2, sum2.shape)\n",
        "print(sum3, sum3.shape)"
      ],
      "execution_count": null,
      "outputs": [
        {
          "output_type": "stream",
          "name": "stdout",
          "text": [
            "tensor([ 7,  9, 11, 13, 15]) torch.Size([5])\n",
            "tensor([15, 40]) torch.Size([2])\n",
            "tensor([15, 40]) torch.Size([2])\n"
          ]
        }
      ]
    },
    {
      "cell_type": "code",
      "metadata": {
        "id": "BLH0MpQL1OlN",
        "colab": {
          "base_uri": "https://localhost:8080/"
        },
        "outputId": "07c913bb-ab7a-463c-aa47-3054743f6d27"
      },
      "source": [
        "a = torch.arange(24).reshape(4, 6)\n",
        "\n",
        "# tensor copy\n",
        "b = a.clone().detach()\n",
        "print(a, a.shape)\n",
        "print(b, b.shape)"
      ],
      "execution_count": null,
      "outputs": [
        {
          "output_type": "stream",
          "name": "stdout",
          "text": [
            "tensor([[ 0,  1,  2,  3,  4,  5],\n",
            "        [ 6,  7,  8,  9, 10, 11],\n",
            "        [12, 13, 14, 15, 16, 17],\n",
            "        [18, 19, 20, 21, 22, 23]]) torch.Size([4, 6])\n",
            "tensor([[ 0,  1,  2,  3,  4,  5],\n",
            "        [ 6,  7,  8,  9, 10, 11],\n",
            "        [12, 13, 14, 15, 16, 17],\n",
            "        [18, 19, 20, 21, 22, 23]]) torch.Size([4, 6])\n"
          ]
        }
      ]
    },
    {
      "cell_type": "code",
      "metadata": {
        "id": "TmqvBX6w2IFu",
        "colab": {
          "base_uri": "https://localhost:8080/"
        },
        "outputId": "813d7e15-0d37-4749-81e0-e3f303ec675b"
      },
      "source": [
        "c = torch.cat([a, b], axis=0)\n",
        "print(c, c.shape)"
      ],
      "execution_count": null,
      "outputs": [
        {
          "output_type": "stream",
          "name": "stdout",
          "text": [
            "tensor([[ 0,  1,  2,  3,  4,  5],\n",
            "        [ 6,  7,  8,  9, 10, 11],\n",
            "        [12, 13, 14, 15, 16, 17],\n",
            "        [18, 19, 20, 21, 22, 23],\n",
            "        [ 0,  1,  2,  3,  4,  5],\n",
            "        [ 6,  7,  8,  9, 10, 11],\n",
            "        [12, 13, 14, 15, 16, 17],\n",
            "        [18, 19, 20, 21, 22, 23]]) torch.Size([8, 6])\n"
          ]
        }
      ]
    },
    {
      "cell_type": "code",
      "metadata": {
        "id": "uoUGG-PU2y0O",
        "colab": {
          "base_uri": "https://localhost:8080/"
        },
        "outputId": "711960ce-4103-4c65-e91c-8813a196228f"
      },
      "source": [
        "c = torch.cat([a, b], axis=-1)\n",
        "print(c, c.shape)"
      ],
      "execution_count": null,
      "outputs": [
        {
          "output_type": "stream",
          "name": "stdout",
          "text": [
            "tensor([[ 0,  1,  2,  3,  4,  5,  0,  1,  2,  3,  4,  5],\n",
            "        [ 6,  7,  8,  9, 10, 11,  6,  7,  8,  9, 10, 11],\n",
            "        [12, 13, 14, 15, 16, 17, 12, 13, 14, 15, 16, 17],\n",
            "        [18, 19, 20, 21, 22, 23, 18, 19, 20, 21, 22, 23]]) torch.Size([4, 12])\n"
          ]
        }
      ]
    },
    {
      "cell_type": "code",
      "metadata": {
        "id": "c36QSNnY264-",
        "colab": {
          "base_uri": "https://localhost:8080/"
        },
        "outputId": "cbe2f69a-fae4-4034-ce5a-49ef70e3656f"
      },
      "source": [
        "# 축 하나를 더 만듦\n",
        "d = torch.stack([a, b], axis=0)\n",
        "print(d, d.shape)"
      ],
      "execution_count": null,
      "outputs": [
        {
          "output_type": "stream",
          "name": "stdout",
          "text": [
            "tensor([[[ 0,  1,  2,  3,  4,  5],\n",
            "         [ 6,  7,  8,  9, 10, 11],\n",
            "         [12, 13, 14, 15, 16, 17],\n",
            "         [18, 19, 20, 21, 22, 23]],\n",
            "\n",
            "        [[ 0,  1,  2,  3,  4,  5],\n",
            "         [ 6,  7,  8,  9, 10, 11],\n",
            "         [12, 13, 14, 15, 16, 17],\n",
            "         [18, 19, 20, 21, 22, 23]]]) torch.Size([2, 4, 6])\n"
          ]
        }
      ]
    },
    {
      "cell_type": "code",
      "metadata": {
        "id": "9o3GPwPM2-Me",
        "colab": {
          "base_uri": "https://localhost:8080/"
        },
        "outputId": "e8884ce9-ae03-4cf2-a4ec-7cc6e7f6124a"
      },
      "source": [
        "d = torch.stack([a, b], axis=-1)\n",
        "print(d, d.shape)"
      ],
      "execution_count": null,
      "outputs": [
        {
          "output_type": "stream",
          "name": "stdout",
          "text": [
            "tensor([[[ 0,  0],\n",
            "         [ 1,  1],\n",
            "         [ 2,  2],\n",
            "         [ 3,  3],\n",
            "         [ 4,  4],\n",
            "         [ 5,  5]],\n",
            "\n",
            "        [[ 6,  6],\n",
            "         [ 7,  7],\n",
            "         [ 8,  8],\n",
            "         [ 9,  9],\n",
            "         [10, 10],\n",
            "         [11, 11]],\n",
            "\n",
            "        [[12, 12],\n",
            "         [13, 13],\n",
            "         [14, 14],\n",
            "         [15, 15],\n",
            "         [16, 16],\n",
            "         [17, 17]],\n",
            "\n",
            "        [[18, 18],\n",
            "         [19, 19],\n",
            "         [20, 20],\n",
            "         [21, 21],\n",
            "         [22, 22],\n",
            "         [23, 23]]]) torch.Size([4, 6, 2])\n"
          ]
        }
      ]
    },
    {
      "cell_type": "markdown",
      "metadata": {
        "id": "8HEaHRVw3Noy"
      },
      "source": [
        "## Dataset / Dataloader\n",
        "\n",
        "Data를 처리하여 model에 공급하는 방법으로 Pytorch에서는 Dataset과 DataLoader를 제공합니다.\n",
        "\n",
        "Dataset은 data와 label을 저장하고, DataLoader는 Dataset을 model에 공급할 수 있도록 iterable 객체로 감싸줍니다."
      ]
    },
    {
      "cell_type": "markdown",
      "metadata": {
        "id": "pJBl5rK132CD"
      },
      "source": [
        "### FasionMNIST data 불러오기"
      ]
    },
    {
      "cell_type": "code",
      "metadata": {
        "id": "zH1pEvzUGv-7"
      },
      "source": [
        "from torch.utils.data import Dataset, DataLoader\n",
        "import torchvision.transforms as tr"
      ],
      "execution_count": null,
      "outputs": []
    },
    {
      "cell_type": "code",
      "metadata": {
        "id": "Pq87kH2t2_8W"
      },
      "source": [
        "training_data = dataseㅠts.FashionMNIST(\n",
        "    root=\"data\",\n",
        "    train=True,\n",
        "    download=True,\n",
        "    transform=ToTensor()\n",
        ")\n",
        "\n",
        "test_data = datasets.FashionMNIST(\n",
        "    root=\"data\",\n",
        "    train=False,\n",
        "    download=True,\n",
        "    transform=ToTensor()\n",
        ")"
      ],
      "execution_count": null,
      "outputs": []
    },
    {
      "cell_type": "markdown",
      "metadata": {
        "id": "EcBC4NAm3_Rr"
      },
      "source": [
        "### 데이터 시각화하기"
      ]
    },
    {
      "cell_type": "code",
      "metadata": {
        "id": "e4sJcQTr36nv"
      },
      "source": [
        "labels_map = {\n",
        "    0: \"T-Shirt\",\n",
        "    1: \"Trouser\",\n",
        "    2: \"Pullover\",\n",
        "    3: \"Dress\",\n",
        "    4: \"Coat\",\n",
        "    5: \"Sandal\",\n",
        "    6: \"Shirt\",\n",
        "    7: \"Sneaker\",\n",
        "    8: \"Bag\",\n",
        "    9: \"Ankle Boot\",\n",
        "}\n",
        "figure = plt.figure(figsize=(8, 8))\n",
        "cols, rows = 3, 3\n",
        "for i in range(1, cols * rows + 1):\n",
        "    sample_idx = torch.randint(len(training_data), size=(1,)).item()\n",
        "    img, label = training_data[sample_idx]\n",
        "    figure.add_subplot(rows, cols, i)\n",
        "    plt.title(labels_map[label])\n",
        "    plt.axis(\"off\")\n",
        "    plt.imshow(img.squeeze(), cmap=\"gray\")\n",
        "plt.show()"
      ],
      "execution_count": null,
      "outputs": []
    },
    {
      "cell_type": "markdown",
      "metadata": {
        "id": "vNeINRxdHYb7"
      },
      "source": [
        "### DataLoader 만들기"
      ]
    },
    {
      "cell_type": "code",
      "metadata": {
        "id": "WOiMGBbgGpwb"
      },
      "source": [
        "# DataLoader 만들기\n",
        "train_dataloader = DataLoader(training_data, batch_size=64, shuffle=True)\n",
        "test_dataloader = DataLoader(test_data, batch_size=64, shuffle=False)"
      ],
      "execution_count": null,
      "outputs": []
    },
    {
      "cell_type": "code",
      "metadata": {
        "id": "DDlvthoZGpzU"
      },
      "source": [
        "# DataLoader를 통해 반복하기(iterate)\n",
        "# 이미지와 정답(label)을 표시합니다.\n",
        "train_features, train_labels = next(iter(train_dataloader))\n",
        "print(f\"Feature batch shape: {train_features.size()}\")\n",
        "print(f\"Labels batch shape: {train_labels.size()}\")\n",
        "img = train_features[0].squeeze()\n",
        "label = train_labels[0]\n",
        "plt.imshow(img, cmap=\"gray\")\n",
        "plt.show()\n",
        "print(f\"Label: {label}\")"
      ],
      "execution_count": null,
      "outputs": []
    },
    {
      "cell_type": "markdown",
      "metadata": {
        "id": "j3LsVobUHass"
      },
      "source": [
        "### Custom Dataset, Data Loader 만들기"
      ]
    },
    {
      "cell_type": "code",
      "metadata": {
        "id": "AZHsPRBc4Ddn"
      },
      "source": [
        "# 간단한 Custom Dataset/Transform/DataLoader 만들기\n",
        "\n",
        "class CustomDataset(Dataset):\n",
        "  def __init__(self, np_data, transform=None):\n",
        "    self.data = np_data\n",
        "    self.transform = transform\n",
        "    self.len = np_data.shape[0]\n",
        "  def __len__(self):\n",
        "    return self.len\n",
        "  def __getitem__(self, idx):    \n",
        "    sample = self.data[idx]\n",
        "    if self.transform:\n",
        "      sample = self.transform(sample)\n",
        "    return sample"
      ],
      "execution_count": null,
      "outputs": []
    },
    {
      "cell_type": "code",
      "metadata": {
        "id": "6-0Eztv9GwSR"
      },
      "source": [
        "def square(sample):\n",
        "  return sample**2"
      ],
      "execution_count": null,
      "outputs": []
    },
    {
      "cell_type": "code",
      "metadata": {
        "id": "-ahheTBjGJE3"
      },
      "source": [
        "trans = tr.Compose([square])"
      ],
      "execution_count": null,
      "outputs": []
    },
    {
      "cell_type": "code",
      "metadata": {
        "id": "IMGw6_wTDkP6"
      },
      "source": [
        "np_data = np.arange(10)\n",
        "\n",
        "custom_dataset = CustomDataset(np_data, transform=trans)"
      ],
      "execution_count": null,
      "outputs": []
    },
    {
      "cell_type": "code",
      "metadata": {
        "id": "rjfLJqfdD1CS"
      },
      "source": [
        "custom_dataloader = DataLoader(custom_dataset, batch_size=2, shuffle=True)"
      ],
      "execution_count": null,
      "outputs": []
    },
    {
      "cell_type": "code",
      "metadata": {
        "id": "OijYYFTHD_Xy"
      },
      "source": [
        "for _ in range(3):\n",
        "  for data in custom_dataloader:\n",
        "    print(data)\n",
        "  print(\"=\"*20)"
      ],
      "execution_count": null,
      "outputs": []
    },
    {
      "cell_type": "markdown",
      "metadata": {
        "id": "RBIhASxPHgDb"
      },
      "source": [
        "## Model"
      ]
    },
    {
      "cell_type": "code",
      "metadata": {
        "id": "v1CP4rACEJxd"
      },
      "source": [
        "# device 설정\n",
        "device = 'cuda' if torch.cuda.is_available() else 'cpu'\n",
        "print('Using {} device'.format(device))"
      ],
      "execution_count": null,
      "outputs": []
    },
    {
      "cell_type": "markdown",
      "metadata": {
        "id": "FVDCYr85H-5j"
      },
      "source": [
        "### Model class 만들기"
      ]
    },
    {
      "cell_type": "code",
      "metadata": {
        "id": "ZbtUxoUbH7Pe"
      },
      "source": [
        "class NeuralNetwork(nn.Module):\n",
        "    def __init__(self):\n",
        "        super(NeuralNetwork, self).__init__()\n",
        "        self.flatten = nn.Flatten()\n",
        "        self.linear_relu_stack = nn.Sequential(\n",
        "            nn.Linear(28*28, 128),\n",
        "            nn.ReLU(),\n",
        "            nn.Dropout(0.2),            \n",
        "            nn.Linear(128, 10)\n",
        "        )\n",
        "\n",
        "    def forward(self, x):\n",
        "        x = self.flatten(x)\n",
        "        logits = self.linear_relu_stack(x)\n",
        "        return logits"
      ],
      "execution_count": null,
      "outputs": []
    },
    {
      "cell_type": "code",
      "metadata": {
        "id": "0eXhySj6IJaW"
      },
      "source": [
        "# Model instance 생성, device 설정\n",
        "model = NeuralNetwork().to(device)\n",
        "print(model)"
      ],
      "execution_count": null,
      "outputs": []
    },
    {
      "cell_type": "code",
      "metadata": {
        "id": "Z_k0QBI2INoW"
      },
      "source": [
        "# 가상의 data 만들어서 예측해보기\n",
        "X = torch.rand(1, 28, 28, device=device)\n",
        "logits = model(X)\n",
        "pred_probab = nn.Softmax(dim=1)(logits)\n",
        "y_pred = pred_probab.argmax(1)\n",
        "print(f\"Predicted class: {y_pred}\")"
      ],
      "execution_count": null,
      "outputs": []
    },
    {
      "cell_type": "markdown",
      "metadata": {
        "id": "bsIY58t0JB0V"
      },
      "source": [
        "## Training / Validation"
      ]
    },
    {
      "cell_type": "markdown",
      "metadata": {
        "id": "AlkPl2JJJI9E"
      },
      "source": [
        "#### Loss Function"
      ]
    },
    {
      "cell_type": "code",
      "metadata": {
        "id": "8LMgsDSoIYtG"
      },
      "source": [
        "# 손실 함수를 초기화합니다.\n",
        "loss_fn = nn.CrossEntropyLoss()"
      ],
      "execution_count": null,
      "outputs": []
    },
    {
      "cell_type": "markdown",
      "metadata": {
        "id": "SAlqtzkDJOZU"
      },
      "source": [
        "### Optimizer"
      ]
    },
    {
      "cell_type": "code",
      "metadata": {
        "id": "h7dELqElJNkW"
      },
      "source": [
        "learning_rate = 1e-3\n",
        "optimizer = torch.optim.Adam(model.parameters(), lr=learning_rate)"
      ],
      "execution_count": null,
      "outputs": []
    },
    {
      "cell_type": "markdown",
      "metadata": {
        "id": "vaYAnBUCJXe-"
      },
      "source": [
        "### Training / Validation(Test) Function"
      ]
    },
    {
      "cell_type": "code",
      "metadata": {
        "id": "tje2CPpeJR5W"
      },
      "source": [
        "# Training을 위한 함수\n",
        "def train_loop(dataloader, model, loss_fn, optimizer):\n",
        "    size = len(dataloader.dataset)\n",
        "    for batch, (X, y) in enumerate(dataloader):\n",
        "        X, y = X.to(device), y.to(device)\n",
        "        # 예측(prediction)과 손실(loss) 계산\n",
        "        pred = model(X)\n",
        "        loss = loss_fn(pred, y)\n",
        "\n",
        "        # 역전파\n",
        "        optimizer.zero_grad()\n",
        "        loss.backward()\n",
        "        optimizer.step()\n",
        "\n",
        "        if batch % 100 == 0:\n",
        "            loss, current = loss.item(), batch * len(X)\n",
        "            print(f\"loss: {loss:>7f}  [{current:>5d}/{size:>5d}]\")\n",
        "\n",
        "# Test를 위한 함수\n",
        "def test_loop(dataloader, model, loss_fn):\n",
        "    size = len(dataloader.dataset)\n",
        "    num_batches = len(dataloader)\n",
        "    test_loss, correct = 0, 0\n",
        "\n",
        "    with torch.no_grad():\n",
        "        for X, y in dataloader:\n",
        "            X, y = X.to(device), y.to(device)\n",
        "            pred = model(X)\n",
        "            test_loss += loss_fn(pred, y).item()\n",
        "            correct += (pred.argmax(1) == y).type(torch.float).sum().item()\n",
        "\n",
        "    test_loss /= num_batches\n",
        "    correct /= size\n",
        "    print(f\"Test Error: \\n Accuracy: {(100*correct):>0.1f}%, Avg loss: {test_loss:>8f} \\n\")"
      ],
      "execution_count": null,
      "outputs": []
    },
    {
      "cell_type": "code",
      "metadata": {
        "id": "pTp_mTRKJxNe"
      },
      "source": [
        "# 학습 진행하기\n",
        "epochs = 10\n",
        "for t in range(epochs):\n",
        "    print(f\"Epoch {t+1}\\n-------------------------------\")\n",
        "    train_loop(train_dataloader, model, loss_fn, optimizer)\n",
        "    test_loop(test_dataloader, model, loss_fn)\n",
        "print(\"Done!\")"
      ],
      "execution_count": null,
      "outputs": []
    },
    {
      "cell_type": "markdown",
      "metadata": {
        "id": "wSAxLgwNMJke"
      },
      "source": [
        "## Model 저장하고 불러오기"
      ]
    },
    {
      "cell_type": "markdown",
      "metadata": {
        "id": "xAE2aT-LMPja"
      },
      "source": [
        "#### parameter만 저장하고 불러오기"
      ]
    },
    {
      "cell_type": "code",
      "metadata": {
        "id": "hD_9zmzLJ5aP"
      },
      "source": [
        "# 학습된 model parameter 저장\n",
        "torch.save(model.state_dict(), 'model_weights.pth')"
      ],
      "execution_count": null,
      "outputs": []
    },
    {
      "cell_type": "code",
      "metadata": {
        "id": "suOyvvDpMTeA"
      },
      "source": [
        "# 새 Model instance 생성, device 설정\n",
        "model2 = NeuralNetwork().to(device)\n",
        "print(model2)"
      ],
      "execution_count": null,
      "outputs": []
    },
    {
      "cell_type": "code",
      "metadata": {
        "id": "0vtLNWzdMmP_"
      },
      "source": [
        "# test\n",
        "model2.eval()\n",
        "test_loop(test_dataloader, model2, loss_fn)"
      ],
      "execution_count": null,
      "outputs": []
    },
    {
      "cell_type": "code",
      "metadata": {
        "id": "epmWcHXlMsj3"
      },
      "source": [
        "# 저장한 parameter 불러오기\n",
        "model2.load_state_dict(torch.load('model_weights.pth'))"
      ],
      "execution_count": null,
      "outputs": []
    },
    {
      "cell_type": "code",
      "metadata": {
        "id": "1JBBYyaIM37v"
      },
      "source": [
        "# test\n",
        "model2.eval()\n",
        "test_loop(test_dataloader, model2, loss_fn)"
      ],
      "execution_count": null,
      "outputs": []
    },
    {
      "cell_type": "markdown",
      "metadata": {
        "id": "AjPKRMdtNFH_"
      },
      "source": [
        "### Model 전체를 저장하고 불러오기"
      ]
    },
    {
      "cell_type": "code",
      "metadata": {
        "id": "j_ZjA5ehM78H"
      },
      "source": [
        "# 저장하기\n",
        "torch.save(model, 'model.pth')"
      ],
      "execution_count": null,
      "outputs": []
    },
    {
      "cell_type": "code",
      "metadata": {
        "id": "oD0OjcyJNJ0_"
      },
      "source": [
        "# 불러오기\n",
        "model3 = torch.load('model.pth')"
      ],
      "execution_count": null,
      "outputs": []
    },
    {
      "cell_type": "code",
      "metadata": {
        "id": "xjZICUrCNM7X"
      },
      "source": [
        "# test\n",
        "model3.eval()\n",
        "test_loop(test_dataloader, model2, loss_fn)"
      ],
      "execution_count": null,
      "outputs": []
    },
    {
      "cell_type": "markdown",
      "metadata": {
        "id": "l2vRMsioNV3W"
      },
      "source": [
        "## Tensorboard 사용하여 시각화하기"
      ]
    },
    {
      "cell_type": "code",
      "metadata": {
        "id": "XGnzohCJNR9Y"
      },
      "source": [
        "# Load the TensorBoard notebook extension\n",
        "%load_ext tensorboard"
      ],
      "execution_count": null,
      "outputs": []
    },
    {
      "cell_type": "code",
      "metadata": {
        "id": "BENziPMuNluP"
      },
      "source": [
        "from torch.utils.tensorboard import SummaryWriter\n",
        "\n",
        "writer = SummaryWriter('./logs/pytorch')"
      ],
      "execution_count": null,
      "outputs": []
    },
    {
      "cell_type": "code",
      "metadata": {
        "id": "rVB7XWHwO9jH"
      },
      "source": [
        "# 새 Model instance 생성, device 설정\n",
        "model4 = NeuralNetwork().to(device)\n",
        "print(model4)\n",
        "\n",
        "model4.eval()\n",
        "test_loop(test_dataloader, model4, loss_fn)"
      ],
      "execution_count": null,
      "outputs": []
    },
    {
      "cell_type": "code",
      "metadata": {
        "id": "xiTetkobNwUX"
      },
      "source": [
        "X = torch.rand(1, 28, 28, device=device)\n",
        "writer.add_graph(model4, X)"
      ],
      "execution_count": null,
      "outputs": []
    },
    {
      "cell_type": "code",
      "metadata": {
        "id": "MgGBmkZOONG4"
      },
      "source": [
        "def train(dataloader, model, loss_fn, optimizer):\n",
        "    size = len(dataloader.dataset)\n",
        "    model.train()\n",
        "    total_loss = 0.\n",
        "    for batch, (X, y) in enumerate(dataloader):\n",
        "        X, y = X.to(device), y.to(device)\n",
        "\n",
        "        # 예측(prediction)과 손실(loss) 계산\n",
        "        pred = model(X)\n",
        "        loss = loss_fn(pred, y)\n",
        "\n",
        "        # 역전파\n",
        "        optimizer.zero_grad()\n",
        "        loss.backward()\n",
        "        optimizer.step()\n",
        "\n",
        "        if batch % 100 == 0:\n",
        "            loss, current = loss.item(), batch * len(X)\n",
        "            print(f\"loss: {loss:>7f}  [{current:>5d}/{size:>5d}]\")\n",
        "        \n",
        "        total_loss += loss / len(dataloader)\n",
        "    return total_loss "
      ],
      "execution_count": null,
      "outputs": []
    },
    {
      "cell_type": "code",
      "metadata": {
        "id": "S8o9uvecOZZ_"
      },
      "source": [
        "def test(dataloader, model, loss_fn):\n",
        "    size = len(dataloader.dataset)\n",
        "    num_batches = len(dataloader)\n",
        "    model.eval()\n",
        "    test_loss, correct = 0, 0\n",
        "    with torch.no_grad():\n",
        "        for X, y in dataloader:\n",
        "            X, y = X.to(device), y.to(device)\n",
        "            pred = model(X)\n",
        "            test_loss += loss_fn(pred, y).item()\n",
        "            correct += (pred.argmax(1) == y).type(torch.float).sum().item()\n",
        "    test_loss /= num_batches\n",
        "    correct /= size\n",
        "    print(f\"Test Error: \\n Accuracy: {(100*correct):>0.1f}%, Avg loss: {test_loss:>8f} \\n\")\n",
        "    return test_loss"
      ],
      "execution_count": null,
      "outputs": []
    },
    {
      "cell_type": "code",
      "metadata": {
        "id": "1W2fyFMqPji4"
      },
      "source": [
        "parameters = ['Weight1', 'Bias1', 'Weight2', 'Bias2']\n",
        "\n",
        "epochs = 10\n",
        "for t in range(epochs):\n",
        "    print(f\"Epoch {t+1}\\n-------------------------------\")\n",
        "    train_loss = train(train_dataloader, model, loss_fn, optimizer)\n",
        "    writer.add_scalar('training loss', train_loss, t)\n",
        "    for param, name in zip(model.parameters(), parameters):\n",
        "        writer.add_histogram(name, param, t)\n",
        "    test_loss = test(test_dataloader, model, loss_fn)\n",
        "    writer.add_scalar('test_loss', test_loss, t)\n",
        "print(\"Done!\")"
      ],
      "execution_count": null,
      "outputs": []
    },
    {
      "cell_type": "code",
      "metadata": {
        "id": "aeHuGnvaQAaQ"
      },
      "source": [
        "writer.close()"
      ],
      "execution_count": null,
      "outputs": []
    },
    {
      "cell_type": "code",
      "metadata": {
        "id": "sk6SdayOQDRg"
      },
      "source": [
        "%tensorboard --logdir './logs/pytorch'"
      ],
      "execution_count": null,
      "outputs": []
    },
    {
      "cell_type": "code",
      "metadata": {
        "id": "FbX3qNzrQP_g"
      },
      "source": [],
      "execution_count": null,
      "outputs": []
    }
  ]
}