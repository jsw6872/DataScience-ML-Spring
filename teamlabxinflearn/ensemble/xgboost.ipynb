{
 "cells": [
  {
   "cell_type": "code",
   "execution_count": 1,
   "metadata": {},
   "outputs": [],
   "source": [
    "import numpy as np\n",
    "import xgboost as xgb\n",
    "from xgboost import plot_importance, plot_tree\n",
    "\n",
    "from sklearn.model_selection import train_test_split"
   ]
  },
  {
   "cell_type": "code",
   "execution_count": 2,
   "metadata": {},
   "outputs": [],
   "source": [
    "X = np.load(\"./data/tatanic_X_train.npy\")\n",
    "y = np.load(\"./data/tatanic_y_train.npy\")"
   ]
  },
  {
   "cell_type": "code",
   "execution_count": 3,
   "metadata": {},
   "outputs": [],
   "source": [
    "X_train, X_test, y_train, y_test = train_test_split(X, y, test_size =0.2)"
   ]
  },
  {
   "cell_type": "code",
   "execution_count": 4,
   "metadata": {},
   "outputs": [],
   "source": [
    "dtrain = xgb.DMatrix(X_train, label=y_train)\n",
    "dtest = xgb.DMatrix(X_test, label=y_test)"
   ]
  },
  {
   "cell_type": "code",
   "execution_count": 5,
   "metadata": {},
   "outputs": [],
   "source": [
    "param = {'max_depth': 2, 'eta': 0.5, 'silent': 1, \n",
    "        'objective': 'binary:logistic'}\n",
    "param['nthread'] = 7\n",
    "param['eval_metric'] = 'auc'\n",
    "evallist = [(dtest, 'eval'), (dtrain, 'train')]\n",
    "plst = param.items()"
   ]
  },
  {
   "cell_type": "code",
   "execution_count": 6,
   "metadata": {},
   "outputs": [
    {
     "name": "stdout",
     "output_type": "stream",
     "text": [
      "[00:56:58] WARNING: /Users/runner/work/xgboost/xgboost/python-package/build/temp.macosx-10.9-x86_64-3.7/xgboost/src/learner.cc:627: \n",
      "Parameters: { \"silent\" } might not be used.\n",
      "\n",
      "  This could be a false alarm, with some parameters getting used by language bindings but\n",
      "  then being mistakenly passed down to XGBoost core, or some parameter actually being used\n",
      "  but getting flagged wrongly here. Please open an issue if you find any such cases.\n",
      "\n",
      "\n",
      "[0]\teval-auc:0.77447\ttrain-auc:0.84592\n",
      "[1]\teval-auc:0.84385\ttrain-auc:0.86727\n",
      "[2]\teval-auc:0.84858\ttrain-auc:0.86926\n",
      "[3]\teval-auc:0.83788\ttrain-auc:0.87747\n",
      "[4]\teval-auc:0.84163\ttrain-auc:0.88201\n",
      "[5]\teval-auc:0.84469\ttrain-auc:0.88526\n",
      "[6]\teval-auc:0.84712\ttrain-auc:0.89012\n",
      "[7]\teval-auc:0.85004\ttrain-auc:0.89479\n",
      "[8]\teval-auc:0.84413\ttrain-auc:0.89788\n",
      "[9]\teval-auc:0.85407\ttrain-auc:0.89704\n",
      "[10]\teval-auc:0.84330\ttrain-auc:0.90139\n",
      "[11]\teval-auc:0.84372\ttrain-auc:0.90389\n",
      "[12]\teval-auc:0.83829\ttrain-auc:0.90538\n",
      "[13]\teval-auc:0.83836\ttrain-auc:0.90733\n",
      "[14]\teval-auc:0.83920\ttrain-auc:0.90846\n",
      "[15]\teval-auc:0.83940\ttrain-auc:0.90854\n",
      "[16]\teval-auc:0.83906\ttrain-auc:0.91114\n",
      "[17]\teval-auc:0.83781\ttrain-auc:0.91316\n",
      "[18]\teval-auc:0.83781\ttrain-auc:0.91435\n",
      "[19]\teval-auc:0.83447\ttrain-auc:0.91731\n",
      "[20]\teval-auc:0.83419\ttrain-auc:0.91831\n",
      "[21]\teval-auc:0.83106\ttrain-auc:0.91909\n",
      "[22]\teval-auc:0.83106\ttrain-auc:0.92063\n",
      "[23]\teval-auc:0.82939\ttrain-auc:0.92111\n",
      "[24]\teval-auc:0.82745\ttrain-auc:0.92304\n",
      "[25]\teval-auc:0.82953\ttrain-auc:0.92457\n",
      "[26]\teval-auc:0.82981\ttrain-auc:0.92483\n",
      "[27]\teval-auc:0.83044\ttrain-auc:0.92522\n",
      "[28]\teval-auc:0.82627\ttrain-auc:0.92716\n",
      "[29]\teval-auc:0.82515\ttrain-auc:0.92753\n",
      "[30]\teval-auc:0.82529\ttrain-auc:0.92896\n",
      "[31]\teval-auc:0.82877\ttrain-auc:0.93008\n",
      "[32]\teval-auc:0.83058\ttrain-auc:0.93014\n",
      "[33]\teval-auc:0.83523\ttrain-auc:0.93065\n",
      "[34]\teval-auc:0.83718\ttrain-auc:0.93262\n",
      "[35]\teval-auc:0.83440\ttrain-auc:0.93531\n",
      "[36]\teval-auc:0.83391\ttrain-auc:0.93586\n",
      "[37]\teval-auc:0.83628\ttrain-auc:0.93675\n",
      "[38]\teval-auc:0.84198\ttrain-auc:0.93775\n",
      "[39]\teval-auc:0.84274\ttrain-auc:0.93821\n",
      "[40]\teval-auc:0.84219\ttrain-auc:0.93806\n",
      "[41]\teval-auc:0.84191\ttrain-auc:0.93872\n",
      "[42]\teval-auc:0.84135\ttrain-auc:0.93901\n",
      "[43]\teval-auc:0.84177\ttrain-auc:0.93929\n",
      "[44]\teval-auc:0.84385\ttrain-auc:0.93943\n",
      "[45]\teval-auc:0.84302\ttrain-auc:0.94056\n",
      "[46]\teval-auc:0.84066\ttrain-auc:0.94128\n",
      "[47]\teval-auc:0.84385\ttrain-auc:0.94163\n",
      "[48]\teval-auc:0.84135\ttrain-auc:0.94221\n",
      "[49]\teval-auc:0.84163\ttrain-auc:0.94220\n"
     ]
    },
    {
     "name": "stderr",
     "output_type": "stream",
     "text": [
      "/usr/local/Caskroom/miniconda/base/envs/da/lib/python3.8/site-packages/xgboost/core.py:525: FutureWarning: Pass `evals` as keyword args.  Passing these as positional arguments will be considered as error in future releases.\n",
      "  warnings.warn(\n"
     ]
    }
   ],
   "source": [
    "num_round = 50\n",
    "bst = xgb.train(param, dtrain, num_round, evallist)"
   ]
  },
  {
   "cell_type": "code",
   "execution_count": 21,
   "metadata": {},
   "outputs": [
    {
     "name": "stderr",
     "output_type": "stream",
     "text": [
      "/usr/local/Caskroom/miniconda/base/envs/da/lib/python3.8/site-packages/xgboost/core.py:90: UserWarning: ntree_limit is deprecated, use `iteration_range` or model slicing instead.\n",
      "  warnings.warn(\n"
     ]
    }
   ],
   "source": [
    "ypred = bst.predict(dtest, ntree_limit=bst.best_ntree_limit)\n"
   ]
  },
  {
   "cell_type": "code",
   "execution_count": 22,
   "metadata": {},
   "outputs": [
    {
     "data": {
      "text/plain": [
       "array([0.10395536, 0.30885208, 0.90419155, 0.98099613, 0.15968569,\n",
       "       0.05409168, 0.09355904, 0.05476698, 0.4958432 , 0.92516357,\n",
       "       0.15968569, 0.04495731, 0.17552204, 0.03064409, 0.10709848,\n",
       "       0.14598042, 0.9162554 , 0.96783316, 0.2989703 , 0.35582304,\n",
       "       0.09410666, 0.29709747, 0.37002876, 0.0849557 , 0.09507184,\n",
       "       0.08328585, 0.2712984 , 0.03387171, 0.20285822, 0.04495731,\n",
       "       0.46181372, 0.7342021 , 0.7342021 , 0.10743421, 0.97883135,\n",
       "       0.27773726, 0.05326642, 0.13717727, 0.04989238, 0.76879627,\n",
       "       0.96697026, 0.83271164, 0.24710561, 0.272863  , 0.10392904,\n",
       "       0.6010822 , 0.84335774, 0.04018686, 0.05204476, 0.5370867 ,\n",
       "       0.1855206 , 0.9042972 , 0.9639231 , 0.06720204, 0.10683245,\n",
       "       0.47707456, 0.614683  , 0.9567352 , 0.15518299, 0.09599862,\n",
       "       0.1855206 , 0.30038854, 0.8281193 , 0.9806034 , 0.45992404,\n",
       "       0.8389416 , 0.13033246, 0.97686267, 0.06514429, 0.43301854,\n",
       "       0.04868938, 0.96846116, 0.6684059 , 0.97567797, 0.10079397,\n",
       "       0.05204476, 0.09355904, 0.2800612 , 0.62157875, 0.0660027 ,\n",
       "       0.06252506, 0.02313103, 0.17399912, 0.03713312, 0.40076372,\n",
       "       0.94396424, 0.15518299, 0.01938768, 0.04495731, 0.04495731,\n",
       "       0.00950903, 0.29851693, 0.05849131, 0.25893912, 0.9917434 ,\n",
       "       0.0972472 , 0.42401138, 0.09598985, 0.05261855, 0.26718625,\n",
       "       0.93486387, 0.88396734, 0.0420386 , 0.05409168, 0.5918783 ,\n",
       "       0.80648404, 0.06533417, 0.04495731, 0.09398673, 0.36819872,\n",
       "       0.07803455, 0.993525  , 0.02313103, 0.46514484, 0.6821312 ,\n",
       "       0.17119819, 0.10743421, 0.06998283, 0.16698585, 0.99508154,\n",
       "       0.47886896, 0.06608729, 0.4786414 , 0.14068687, 0.051423  ,\n",
       "       0.40076372, 0.43422568, 0.99885404, 0.6010822 , 0.24911468,\n",
       "       0.09410666, 0.36819872, 0.06010597, 0.9930686 , 0.23585498,\n",
       "       0.15115021, 0.17304857, 0.08838134, 0.99136704, 0.04366042,\n",
       "       0.9579478 , 0.15025367, 0.02754631, 0.01078202, 0.15401341,\n",
       "       0.08293694, 0.06720204, 0.09410666, 0.11900577, 0.09410666,\n",
       "       0.9488135 , 0.01397689, 0.08829207, 0.06720204, 0.05217848,\n",
       "       0.1855206 , 0.09355904, 0.30659464, 0.9656191 , 0.5604653 ,\n",
       "       0.06669254, 0.03756568, 0.10743421, 0.10831321, 0.04495731,\n",
       "       0.85366046, 0.09410666, 0.38501993, 0.5155135 , 0.08058962,\n",
       "       0.9817498 , 0.10314073, 0.8281193 , 0.11637405, 0.9841521 ,\n",
       "       0.92561316, 0.10743421, 0.04495731], dtype=float32)"
      ]
     },
     "execution_count": 22,
     "metadata": {},
     "output_type": "execute_result"
    }
   ],
   "source": [
    "ypred"
   ]
  },
  {
   "cell_type": "code",
   "execution_count": 24,
   "metadata": {},
   "outputs": [
    {
     "data": {
      "text/plain": [
       "<AxesSubplot:title={'center':'Feature importance'}, xlabel='F score', ylabel='Features'>"
      ]
     },
     "execution_count": 24,
     "metadata": {},
     "output_type": "execute_result"
    },
    {
     "data": {
      "image/png": "[encoded data removed]",
      "text/plain": [
       "<Figure size 432x288 with 1 Axes>"
      ]
     },
     "metadata": {
      "needs_background": "light"
     },
     "output_type": "display_data"
    }
   ],
   "source": [
    "plot_importance(bst)"
   ]
  },
  {
   "cell_type": "code",
   "execution_count": 25,
   "metadata": {},
   "outputs": [
    {
     "data": {
      "text/plain": [
       "<AxesSubplot:>"
      ]
     },
     "execution_count": 25,
     "metadata": {},
     "output_type": "execute_result"
    },
    {
     "data": {
      "image/png": "[encoded data removed]",
      "text/plain": [
       "<Figure size 432x288 with 1 Axes>"
      ]
     },
     "metadata": {
      "needs_background": "light"
     },
     "output_type": "display_data"
    }
   ],
   "source": [
    "plot_tree(bst)"
   ]
  }
 ],
 "metadata": {
  "interpreter": {
   "hash": "451282c7329e2a6a364ca3aa9d61cbc27edaeb5d17f404c45e9cca05e3b54b52"
  },
  "kernelspec": {
   "display_name": "Python 3 (ipykernel)",
   "language": "python",
   "name": "python3"
  },
  "language_info": {
   "codemirror_mode": {
    "name": "ipython",
    "version": 3
   },
   "file_extension": ".py",
   "mimetype": "text/x-python",
   "name": "python",
   "nbconvert_exporter": "python",
   "pygments_lexer": "ipython3",
   "version": "3.8.12"
  }
 },
 "nbformat": 4,
 "nbformat_minor": 2
}
