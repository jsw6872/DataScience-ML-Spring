{
 "cells": [
  {
   "cell_type": "code",
   "execution_count": 1,
   "metadata": {},
   "outputs": [],
   "source": [
    "import numpy as np\n",
    "from lightgbm import LGBMClassifier"
   ]
  },
  {
   "cell_type": "code",
   "execution_count": 2,
   "metadata": {},
   "outputs": [],
   "source": [
    "X = np.load(\"./data/tatanic_X_train.npy\")\n",
    "y = np.load(\"./data/tatanic_y_train.npy\")"
   ]
  },
  {
   "cell_type": "code",
   "execution_count": 3,
   "metadata": {},
   "outputs": [],
   "source": [
    "from sklearn.model_selection import train_test_split"
   ]
  },
  {
   "cell_type": "code",
   "execution_count": 4,
   "metadata": {},
   "outputs": [],
   "source": [
    "X_train, X_test, y_train, y_test = train_test_split(X, y, test_size=0.2)"
   ]
  },
  {
   "cell_type": "code",
   "execution_count": 6,
   "metadata": {},
   "outputs": [],
   "source": [
    "# lgb_train = lgb.Dataset(X_train, y_train)\n",
    "# lgb_evaluation = lgb.Dataset(X_test, y_test, reference=lgb_train)"
   ]
  },
  {
   "cell_type": "code",
   "execution_count": 5,
   "metadata": {},
   "outputs": [],
   "source": [
    "params = {'task' : 'train', 'boosting_type' : 'gbdt',\n",
    "          'objective' : 'binary',\n",
    "          'metric' : {'auc'},\n",
    "          'num_leaves' : 31,\n",
    "          'learning_rate' : 0.05,\n",
    "          'feature_fraction' : 0.9,\n",
    "          'bagging_fraction' : 0.8,\n",
    "          'bagging_freq' : 5,\n",
    "          'verbose' : 0\n",
    "          }"
   ]
  },
  {
   "cell_type": "code",
   "execution_count": 6,
   "metadata": {},
   "outputs": [],
   "source": [
    "evals = [(X_train, y_train), (X_test, y_test)]\n"
   ]
  },
  {
   "cell_type": "code",
   "execution_count": 7,
   "metadata": {},
   "outputs": [
    {
     "name": "stdout",
     "output_type": "stream",
     "text": [
      "[1]\ttraining's binary_logloss: 0.642322\tvalid_1's binary_logloss: 0.637236\n",
      "[2]\ttraining's binary_logloss: 0.620306\tvalid_1's binary_logloss: 0.617609\n",
      "[3]\ttraining's binary_logloss: 0.600696\tvalid_1's binary_logloss: 0.599518\n",
      "[4]\ttraining's binary_logloss: 0.582674\tvalid_1's binary_logloss: 0.583559\n",
      "[5]\ttraining's binary_logloss: 0.566008\tvalid_1's binary_logloss: 0.568102\n",
      "[6]\ttraining's binary_logloss: 0.550661\tvalid_1's binary_logloss: 0.554587\n",
      "[7]\ttraining's binary_logloss: 0.536705\tvalid_1's binary_logloss: 0.54232\n",
      "[8]\ttraining's binary_logloss: 0.523853\tvalid_1's binary_logloss: 0.531879\n",
      "[9]\ttraining's binary_logloss: 0.512004\tvalid_1's binary_logloss: 0.521578\n",
      "[10]\ttraining's binary_logloss: 0.501145\tvalid_1's binary_logloss: 0.512213\n",
      "[11]\ttraining's binary_logloss: 0.491073\tvalid_1's binary_logloss: 0.502172\n",
      "[12]\ttraining's binary_logloss: 0.481693\tvalid_1's binary_logloss: 0.493781\n",
      "[13]\ttraining's binary_logloss: 0.4727\tvalid_1's binary_logloss: 0.486598\n",
      "[14]\ttraining's binary_logloss: 0.464594\tvalid_1's binary_logloss: 0.478587\n",
      "[15]\ttraining's binary_logloss: 0.45674\tvalid_1's binary_logloss: 0.471334\n",
      "[16]\ttraining's binary_logloss: 0.449778\tvalid_1's binary_logloss: 0.464532\n",
      "[17]\ttraining's binary_logloss: 0.442667\tvalid_1's binary_logloss: 0.458731\n",
      "[18]\ttraining's binary_logloss: 0.436178\tvalid_1's binary_logloss: 0.453793\n",
      "[19]\ttraining's binary_logloss: 0.429631\tvalid_1's binary_logloss: 0.448205\n",
      "[20]\ttraining's binary_logloss: 0.423765\tvalid_1's binary_logloss: 0.443688\n",
      "[21]\ttraining's binary_logloss: 0.418228\tvalid_1's binary_logloss: 0.439714\n",
      "[22]\ttraining's binary_logloss: 0.4128\tvalid_1's binary_logloss: 0.435646\n",
      "[23]\ttraining's binary_logloss: 0.407714\tvalid_1's binary_logloss: 0.431224\n",
      "[24]\ttraining's binary_logloss: 0.401875\tvalid_1's binary_logloss: 0.426076\n",
      "[25]\ttraining's binary_logloss: 0.397026\tvalid_1's binary_logloss: 0.422815\n",
      "[26]\ttraining's binary_logloss: 0.392666\tvalid_1's binary_logloss: 0.42008\n",
      "[27]\ttraining's binary_logloss: 0.387681\tvalid_1's binary_logloss: 0.41544\n",
      "[28]\ttraining's binary_logloss: 0.383262\tvalid_1's binary_logloss: 0.411301\n",
      "[29]\ttraining's binary_logloss: 0.379338\tvalid_1's binary_logloss: 0.408413\n",
      "[30]\ttraining's binary_logloss: 0.375735\tvalid_1's binary_logloss: 0.406017\n",
      "[31]\ttraining's binary_logloss: 0.371755\tvalid_1's binary_logloss: 0.402809\n",
      "[32]\ttraining's binary_logloss: 0.367884\tvalid_1's binary_logloss: 0.399217\n",
      "[33]\ttraining's binary_logloss: 0.364484\tvalid_1's binary_logloss: 0.39704\n",
      "[34]\ttraining's binary_logloss: 0.361339\tvalid_1's binary_logloss: 0.393759\n",
      "[35]\ttraining's binary_logloss: 0.358596\tvalid_1's binary_logloss: 0.390778\n",
      "[36]\ttraining's binary_logloss: 0.35559\tvalid_1's binary_logloss: 0.386764\n",
      "[37]\ttraining's binary_logloss: 0.352705\tvalid_1's binary_logloss: 0.383428\n",
      "[38]\ttraining's binary_logloss: 0.35025\tvalid_1's binary_logloss: 0.380627\n",
      "[39]\ttraining's binary_logloss: 0.347696\tvalid_1's binary_logloss: 0.377644\n",
      "[40]\ttraining's binary_logloss: 0.345366\tvalid_1's binary_logloss: 0.376364\n",
      "[41]\ttraining's binary_logloss: 0.342489\tvalid_1's binary_logloss: 0.374215\n",
      "[42]\ttraining's binary_logloss: 0.3405\tvalid_1's binary_logloss: 0.372561\n",
      "[43]\ttraining's binary_logloss: 0.33833\tvalid_1's binary_logloss: 0.371264\n",
      "[44]\ttraining's binary_logloss: 0.336007\tvalid_1's binary_logloss: 0.36965\n",
      "[45]\ttraining's binary_logloss: 0.333948\tvalid_1's binary_logloss: 0.368738\n",
      "[46]\ttraining's binary_logloss: 0.331711\tvalid_1's binary_logloss: 0.366822\n",
      "[47]\ttraining's binary_logloss: 0.328994\tvalid_1's binary_logloss: 0.364958\n",
      "[48]\ttraining's binary_logloss: 0.326274\tvalid_1's binary_logloss: 0.363978\n",
      "[49]\ttraining's binary_logloss: 0.323579\tvalid_1's binary_logloss: 0.363035\n",
      "[50]\ttraining's binary_logloss: 0.321348\tvalid_1's binary_logloss: 0.36229\n",
      "[51]\ttraining's binary_logloss: 0.319124\tvalid_1's binary_logloss: 0.362459\n",
      "[52]\ttraining's binary_logloss: 0.317039\tvalid_1's binary_logloss: 0.362257\n",
      "[53]\ttraining's binary_logloss: 0.314924\tvalid_1's binary_logloss: 0.36238\n",
      "[54]\ttraining's binary_logloss: 0.31294\tvalid_1's binary_logloss: 0.362141\n",
      "[55]\ttraining's binary_logloss: 0.310871\tvalid_1's binary_logloss: 0.362433\n",
      "[56]\ttraining's binary_logloss: 0.308941\tvalid_1's binary_logloss: 0.362906\n",
      "[57]\ttraining's binary_logloss: 0.306408\tvalid_1's binary_logloss: 0.362706\n",
      "[58]\ttraining's binary_logloss: 0.304008\tvalid_1's binary_logloss: 0.362504\n",
      "[59]\ttraining's binary_logloss: 0.302451\tvalid_1's binary_logloss: 0.363564\n"
     ]
    },
    {
     "name": "stderr",
     "output_type": "stream",
     "text": [
      "/usr/local/Caskroom/miniconda/base/envs/da/lib/python3.8/site-packages/lightgbm/sklearn.py:726: UserWarning: 'early_stopping_rounds' argument is deprecated and will be removed in a future release of LightGBM. Pass 'early_stopping()' callback via 'callbacks' argument instead.\n",
      "  _log_warning(\"'early_stopping_rounds' argument is deprecated and will be removed in a future release of LightGBM. \"\n",
      "/usr/local/Caskroom/miniconda/base/envs/da/lib/python3.8/site-packages/lightgbm/sklearn.py:736: UserWarning: 'verbose' argument is deprecated and will be removed in a future release of LightGBM. Pass 'log_evaluation()' callback via 'callbacks' argument instead.\n",
      "  _log_warning(\"'verbose' argument is deprecated and will be removed in a future release of LightGBM. \"\n"
     ]
    }
   ],
   "source": [
    "# gbm = lgb.train(params=params, train_set = lgb_train, \n",
    "# num_boost_round=20,\n",
    "# valid_sets= lgb_evaluation, early_stopping_rounds= 5)\n",
    "lgbm_wrapper = LGBMClassifier(n_estimators=400, learning_rate=0.05)\n",
    "lgbm_wrapper.fit(X_train, y_train, early_stopping_rounds= 5, eval_metric='logloss',\n",
    "                  eval_set=evals, verbose=True)\n",
    "preds = lgbm_wrapper.predict(X_test)\n",
    "pred_proba = lgbm_wrapper.predict_proba(X_test)"
   ]
  }
 ],
 "metadata": {
  "interpreter": {
   "hash": "451282c7329e2a6a364ca3aa9d61cbc27edaeb5d17f404c45e9cca05e3b54b52"
  },
  "kernelspec": {
   "display_name": "Python 3 (ipykernel)",
   "language": "python",
   "name": "python3"
  },
  "language_info": {
   "codemirror_mode": {
    "name": "ipython",
    "version": 3
   },
   "file_extension": ".py",
   "mimetype": "text/x-python",
   "name": "python",
   "nbconvert_exporter": "python",
   "pygments_lexer": "ipython3",
   "version": "3.8.12"
  }
 },
 "nbformat": 4,
 "nbformat_minor": 2
}
